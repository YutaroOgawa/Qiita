{
  "nbformat": 4,
  "nbformat_minor": 0,
  "metadata": {
    "colab": {
      "provenance": []
    },
    "kernelspec": {
      "name": "python3",
      "display_name": "Python 3"
    },
    "language_info": {
      "name": "python"
    }
  },
  "cells": [
    {
      "cell_type": "code",
      "execution_count": 1,
      "metadata": {
        "id": "Kt091iLb8u8j"
      },
      "outputs": [],
      "source": [
        "import PIL\n",
        "\n",
        "# エラーなくPILが通るはず"
      ]
    },
    {
      "cell_type": "code",
      "source": [
        "# uninstallします\n",
        "!pip uninstall pillow -y"
      ],
      "metadata": {
        "colab": {
          "base_uri": "https://localhost:8080/"
        },
        "id": "3su4moxr8vx6",
        "outputId": "0dee2410-fe98-4b97-c265-d4f936395802"
      },
      "execution_count": 2,
      "outputs": [
        {
          "output_type": "stream",
          "name": "stdout",
          "text": [
            "Found existing installation: Pillow 9.4.0\n",
            "Uninstalling Pillow-9.4.0:\n",
            "  Successfully uninstalled Pillow-9.4.0\n"
          ]
        }
      ]
    },
    {
      "cell_type": "markdown",
      "source": [
        "一度、ランタイムを再起動してください（PILが残っている）"
      ],
      "metadata": {
        "id": "Z1sOv4PZ9q88"
      }
    },
    {
      "cell_type": "markdown",
      "source": [
        "---"
      ],
      "metadata": {
        "id": "OnO27DrDyERV"
      }
    },
    {
      "cell_type": "code",
      "source": [
        "import PIL\n",
        "\n",
        "# エラーが出るはずです　No module named 'PIL'"
      ],
      "metadata": {
        "id": "9EVOjGHo9f-N",
        "colab": {
          "base_uri": "https://localhost:8080/",
          "height": 367
        },
        "outputId": "2b22b2fc-654d-4f01-8655-23b74d916e04"
      },
      "execution_count": 1,
      "outputs": [
        {
          "output_type": "error",
          "ename": "ModuleNotFoundError",
          "evalue": "ignored",
          "traceback": [
            "\u001b[0;31m---------------------------------------------------------------------------\u001b[0m",
            "\u001b[0;31mModuleNotFoundError\u001b[0m                       Traceback (most recent call last)",
            "\u001b[0;32m<ipython-input-1-de8ffca6cea0>\u001b[0m in \u001b[0;36m<cell line: 1>\u001b[0;34m()\u001b[0m\n\u001b[0;32m----> 1\u001b[0;31m \u001b[0;32mimport\u001b[0m \u001b[0mPIL\u001b[0m\u001b[0;34m\u001b[0m\u001b[0;34m\u001b[0m\u001b[0m\n\u001b[0m\u001b[1;32m      2\u001b[0m \u001b[0;34m\u001b[0m\u001b[0m\n\u001b[1;32m      3\u001b[0m \u001b[0;31m# エラーが出るはずです　No module named 'PIL'\u001b[0m\u001b[0;34m\u001b[0m\u001b[0;34m\u001b[0m\u001b[0m\n",
            "\u001b[0;31mModuleNotFoundError\u001b[0m: No module named 'PIL'",
            "",
            "\u001b[0;31m---------------------------------------------------------------------------\u001b[0;32m\nNOTE: If your import is failing due to a missing package, you can\nmanually install dependencies using either !pip or !apt.\n\nTo view examples of installing some common dependencies, click the\n\"Open Examples\" button below.\n\u001b[0;31m---------------------------------------------------------------------------\u001b[0m\n"
          ],
          "errorDetails": {
            "actions": [
              {
                "action": "open_url",
                "actionText": "Open Examples",
                "url": "/notebooks/snippets/importing_libraries.ipynb"
              }
            ]
          }
        }
      ]
    },
    {
      "cell_type": "code",
      "source": [
        "# [1] 生成されたコードが例えば以下だったとします。\n",
        "# 単純に画像を取得して、幅と高さを求めているだけです。\n",
        "\n",
        "generated_code_txt=\"\"\"\n",
        "from PIL import Image\n",
        "import requests\n",
        "from io import BytesIO\n",
        "\n",
        "# 適当な画像のURLを指定\n",
        "image_url = 'https://qiita-user-contents.imgix.net/https%3A%2F%2Fqiita-image-store.s3.ap-northeast-1.amazonaws.com%2F0%2F3328834%2Ff8a26020-6ec7-aa41-9ff6-0c4d38cb8319.png?ixlib=rb-4.0.0&auto=format&gif-q=60&q=75&w=1400&fit=max&s=521ce0ce7dc4fe5865bc41b79a4b735f'\n",
        "\n",
        "# 画像を取得\n",
        "response = requests.get(image_url)\n",
        "img = Image.open(BytesIO(response.content))\n",
        "\n",
        "# 画像を取得\n",
        "response = requests.get(image_url)\n",
        "img = Image.open(BytesIO(response.content))\n",
        "\n",
        "# 画像の幅と高さを取得\n",
        "width, height = img.size\n",
        "\n",
        "# 幅と高さを表示\n",
        "print(\"幅:\", width)\n",
        "print(\"高さ:\", height)\n",
        "\"\"\""
      ],
      "metadata": {
        "id": "kJICoFgm9l55"
      },
      "execution_count": 2,
      "outputs": []
    },
    {
      "cell_type": "markdown",
      "source": [
        "生成コードをそのまま実行せず、try-exceptで挟むようにします。\n",
        "\n",
        "またExecptionの例外発生時には、そのエラーメッセージ（スタックトレース）を取得するようにします"
      ],
      "metadata": {
        "id": "Pix3wX_Mdb-2"
      }
    },
    {
      "cell_type": "code",
      "source": [
        "def add_try_except_block(code_str):\n",
        "    \"\"\"try-exceptでコードを挟む関数です\"\"\"\n",
        "    indented_code = \"\\n\".join([\"    \" + line for line in code_str.splitlines()])\n",
        "\n",
        "    try_except_code = f\"\"\"\n",
        "try:\n",
        "    traceback_str = None\n",
        "{indented_code}\n",
        "except Exception as e:\n",
        "    import traceback\n",
        "    traceback_str = traceback.format_exc()\"\"\"\n",
        "    return try_except_code"
      ],
      "metadata": {
        "id": "KLQeAir1-k0c"
      },
      "execution_count": 3,
      "outputs": []
    },
    {
      "cell_type": "code",
      "source": [
        "# [1] 生成されたコードをtry-exceptで挟む\n",
        "generated_code_txt_with_try = add_try_except_block(generated_code_txt)\n",
        "\n",
        "# [2] try-exceptで挟んだ状態を確認\n",
        "print(generated_code_txt_with_try)\n"
      ],
      "metadata": {
        "colab": {
          "base_uri": "https://localhost:8080/"
        },
        "id": "0DcV949-aInk",
        "outputId": "3d669cfc-755f-4bd8-914a-df6be8c6e896"
      },
      "execution_count": 4,
      "outputs": [
        {
          "output_type": "stream",
          "name": "stdout",
          "text": [
            "\n",
            "try:\n",
            "    traceback_str = None\n",
            "    \n",
            "    from PIL import Image\n",
            "    import requests\n",
            "    from io import BytesIO\n",
            "    \n",
            "    # 適当な画像のURLを指定\n",
            "    image_url = 'https://qiita-user-contents.imgix.net/https%3A%2F%2Fqiita-image-store.s3.ap-northeast-1.amazonaws.com%2F0%2F3328834%2Ff8a26020-6ec7-aa41-9ff6-0c4d38cb8319.png?ixlib=rb-4.0.0&auto=format&gif-q=60&q=75&w=1400&fit=max&s=521ce0ce7dc4fe5865bc41b79a4b735f'\n",
            "    \n",
            "    # 画像を取得\n",
            "    response = requests.get(image_url)\n",
            "    img = Image.open(BytesIO(response.content))\n",
            "    \n",
            "    # 画像を取得\n",
            "    response = requests.get(image_url)\n",
            "    img = Image.open(BytesIO(response.content))\n",
            "    \n",
            "    # 画像の幅と高さを取得\n",
            "    width, height = img.size\n",
            "    \n",
            "    # 幅と高さを表示\n",
            "    print(\"幅:\", width)\n",
            "    print(\"高さ:\", height)\n",
            "except Exception as e:\n",
            "    import traceback\n",
            "    traceback_str = traceback.format_exc()\n"
          ]
        }
      ]
    },
    {
      "cell_type": "markdown",
      "source": [
        "---"
      ],
      "metadata": {
        "id": "UGqRFUzVfCtD"
      }
    },
    {
      "cell_type": "markdown",
      "source": [
        "文字列で書かれたPythonコードを実行する機会は、（私は）コード生成以外の場面で遭遇したことがなく、コードを読めばある程度挙動は予測できますが、実行するのは非常に怖いです。\n",
        "\n",
        "\n",
        "exec()で文章全体を実行したり、\n",
        "\n",
        "eval()で1文ずつ実行することができますが、\n",
        "\n",
        "より安全なのは、ast（Abstract Syntax Tree、抽象構文木）パッケージを使用し、\n",
        "\n",
        "ast.literal_eval()で実行する方法になります。\n",
        "\n",
        "https://zenn.dev/sergicalsix/articles/92b9526e20c7a6\n",
        "https://qiita.com/tkmz/items/717d524083b71a4af75f\n",
        "\n",
        "とはいえ、LLMでのコード生成の時代になり、生成されたコードに\n",
        "本当に害がないかの判断はこれだけでは心配です。\n",
        "\n",
        "\n",
        "「バリデーション」しようにも、生成コードの何が妥当で何は妥当ではないかは難しいです。\n",
        "\n",
        "「エスケープ処理（≒サニタイズ）」しようにも、生成コードとして実は意味がある可能性があるので、文字列変換して良いのか判断つかない場合があります。\n",
        "\n",
        "ファイルの削除につながる系はブラックリスト型でチェックを入れるくらいは想像できるのですが、それ以上になると、なかなか。。。\n",
        "\n",
        "\n",
        "\n",
        "\n",
        "\n",
        "\n",
        "\n",
        "\n",
        "\n"
      ],
      "metadata": {
        "id": "x1g0pLJUCvM8"
      }
    },
    {
      "cell_type": "markdown",
      "source": [
        "---"
      ],
      "metadata": {
        "id": "Rq4VLMV2fWPY"
      }
    },
    {
      "cell_type": "markdown",
      "source": [
        "tracebackパッケージのtraceback.print_exc()、もしくは traceback.format_exc()を実行することで、エラーの文章（traceback）を表示させ、その文章をリトライ時の入力にしようすることにします\n",
        "\n",
        "\n",
        "\n"
      ],
      "metadata": {
        "id": "OS_ASzsmaWnu"
      }
    },
    {
      "cell_type": "code",
      "source": [
        "# パッケージのインストール\n",
        "!pip install openai==0.28"
      ],
      "metadata": {
        "colab": {
          "base_uri": "https://localhost:8080/"
        },
        "id": "MTKr_fKMCwEo",
        "outputId": "42424e0b-2bb6-4cb7-aad9-3d559edfac49"
      },
      "execution_count": 5,
      "outputs": [
        {
          "output_type": "stream",
          "name": "stdout",
          "text": [
            "Collecting openai==0.28\n",
            "  Downloading openai-0.28.0-py3-none-any.whl (76 kB)\n",
            "\u001b[?25l     \u001b[90m━━━━━━━━━━━━━━━━━━━━━━━━━━━━━━━━━━━━━━━━\u001b[0m \u001b[32m0.0/76.5 kB\u001b[0m \u001b[31m?\u001b[0m eta \u001b[36m-:--:--\u001b[0m\r\u001b[2K     \u001b[91m━━━━━━━━━━━━━━━━━━━━━\u001b[0m\u001b[90m╺\u001b[0m\u001b[90m━━━━━━━━━━━━━━━━━━\u001b[0m \u001b[32m41.0/76.5 kB\u001b[0m \u001b[31m1.2 MB/s\u001b[0m eta \u001b[36m0:00:01\u001b[0m\r\u001b[2K     \u001b[90m━━━━━━━━━━━━━━━━━━━━━━━━━━━━━━━━━━━━━━━━\u001b[0m \u001b[32m76.5/76.5 kB\u001b[0m \u001b[31m1.6 MB/s\u001b[0m eta \u001b[36m0:00:00\u001b[0m\n",
            "\u001b[?25hRequirement already satisfied: requests>=2.20 in /usr/local/lib/python3.10/dist-packages (from openai==0.28) (2.31.0)\n",
            "Requirement already satisfied: tqdm in /usr/local/lib/python3.10/dist-packages (from openai==0.28) (4.66.1)\n",
            "Requirement already satisfied: aiohttp in /usr/local/lib/python3.10/dist-packages (from openai==0.28) (3.8.5)\n",
            "Requirement already satisfied: charset-normalizer<4,>=2 in /usr/local/lib/python3.10/dist-packages (from requests>=2.20->openai==0.28) (3.2.0)\n",
            "Requirement already satisfied: idna<4,>=2.5 in /usr/local/lib/python3.10/dist-packages (from requests>=2.20->openai==0.28) (3.4)\n",
            "Requirement already satisfied: urllib3<3,>=1.21.1 in /usr/local/lib/python3.10/dist-packages (from requests>=2.20->openai==0.28) (2.0.4)\n",
            "Requirement already satisfied: certifi>=2017.4.17 in /usr/local/lib/python3.10/dist-packages (from requests>=2.20->openai==0.28) (2023.7.22)\n",
            "Requirement already satisfied: attrs>=17.3.0 in /usr/local/lib/python3.10/dist-packages (from aiohttp->openai==0.28) (23.1.0)\n",
            "Requirement already satisfied: multidict<7.0,>=4.5 in /usr/local/lib/python3.10/dist-packages (from aiohttp->openai==0.28) (6.0.4)\n",
            "Requirement already satisfied: async-timeout<5.0,>=4.0.0a3 in /usr/local/lib/python3.10/dist-packages (from aiohttp->openai==0.28) (4.0.3)\n",
            "Requirement already satisfied: yarl<2.0,>=1.0 in /usr/local/lib/python3.10/dist-packages (from aiohttp->openai==0.28) (1.9.2)\n",
            "Requirement already satisfied: frozenlist>=1.1.1 in /usr/local/lib/python3.10/dist-packages (from aiohttp->openai==0.28) (1.4.0)\n",
            "Requirement already satisfied: aiosignal>=1.1.2 in /usr/local/lib/python3.10/dist-packages (from aiohttp->openai==0.28) (1.3.1)\n",
            "Installing collected packages: openai\n",
            "Successfully installed openai-0.28.0\n"
          ]
        }
      ]
    },
    {
      "cell_type": "markdown",
      "source": [
        "非常に危険。API_KEYを直書き"
      ],
      "metadata": {
        "id": "vU9k09W_gD8V"
      }
    },
    {
      "cell_type": "code",
      "source": [
        "import os\n",
        "import re\n",
        "import openai\n",
        "\n",
        "\n",
        "KEY = \"sk-hogehoge\"\n",
        "openai.api_key = KEY"
      ],
      "metadata": {
        "id": "8UxfilOxf7VL"
      },
      "execution_count": 6,
      "outputs": []
    },
    {
      "cell_type": "code",
      "source": [
        "def extract_python_code(text):\n",
        "    \"\"\"pythonの実装のみを抽出\"\"\"\n",
        "    pattern = r'```python(.*?)```'\n",
        "    result = re.findall(pattern, text, re.DOTALL)\n",
        "    # result リスト内のすべての要素を結合して1つの文字列にする\n",
        "    extracted_code = '\\n'.join(result)\n",
        "    return extracted_code"
      ],
      "metadata": {
        "id": "mYnuUl_KoMOh"
      },
      "execution_count": 7,
      "outputs": []
    },
    {
      "cell_type": "code",
      "source": [
        "def get_response_from_chatGPT(generated_code_txt_with_try, traceback_str):\n",
        "\n",
        "    # Promptの作成\n",
        "    user_content = f\"\"\"\n",
        "以下のPythonコードを実行したところ、次のようなスタックトレースが表示されました。\n",
        "再度このPythonコードを実行し、エラーなく完了させるためには、このスタックトレースの内容を解決するために、\n",
        "最低限として事前にどのようなPythonコードを実行する必要がありますか？\n",
        "Pythonのコード形式で教えてください。pipコマンドなどが必要な場合は、subprocess.runを使用し、標準出力をprintするように、\n",
        "\n",
        "output = subprocess.check_output(command, shell=True, stderr=subprocess.STDOUT, universal_newlines=True)\n",
        "print(output)\n",
        "を使用してください。\n",
        "\n",
        "### [Pythonコード]\n",
        "{generated_code_txt_with_try}\n",
        "\n",
        "###  [スタックトレース]\n",
        "{traceback_str}\n",
        "\n",
        "### [事前に実行するPythonコード]\n",
        "\"\"\"\n",
        "\n",
        "    messages = [\n",
        "      {\"role\": \"system\",\"content\":\"You are an AI assistant that helps people find information.\"},\n",
        "      {\"role\": \"user\", \"content\":user_content}\n",
        "    ]\n",
        "\n",
        "\n",
        "    # responseを得る\n",
        "    response = openai.ChatCompletion.create(\n",
        "        model=\"gpt-3.5-turbo\",\n",
        "        messages = messages,\n",
        "        temperature=0.0,\n",
        "        top_p=0.0,\n",
        "        max_tokens=800,\n",
        "        )\n",
        "\n",
        "    # Pythonコードのみを取り出す\n",
        "    ret = response['choices'][0]['message']['content']  # 回答\n",
        "    correction_code = extract_python_code(ret)\n",
        "\n",
        "    return correction_code"
      ],
      "metadata": {
        "id": "8Wthg_q0khws"
      },
      "execution_count": 8,
      "outputs": []
    },
    {
      "cell_type": "code",
      "source": [
        "def main(generated_code_txt):\n",
        "\n",
        "  # [1] 何らかコードを生成したとします\n",
        "  # generated_code_txt\n",
        "\n",
        "  # [2] try-exceptで挟み、スタックトレースをとれるようにします\n",
        "  generated_code_txt_with_try = add_try_except_block(generated_code_txt)\n",
        "\n",
        "  # [3] エラーがなくなるまで回します（本当は制限回数を定めるべき）\n",
        "  error_is = True\n",
        "\n",
        "  while error_is:\n",
        "      # [3-1] 空の辞書を作成。exec実行した中身の変数をここに格納します\n",
        "      variables = {}\n",
        "      traceback_str= None\n",
        "\n",
        "      # [3-2] 実行 execを使用してコードを実行し、exec内の変数を辞書で取得します\n",
        "      print(\"============================================\")\n",
        "      print(\"[1] 生成されたコードを実行します（今回は適当な画像のサイズを出力するコードです）\\n\")\n",
        "      exec(generated_code_txt_with_try, globals(), variables)\n",
        "\n",
        "      # [3-3] エラーなく終わったかを判定します\n",
        "      if  not variables.get(\"traceback_str\"):\n",
        "          error_is = False  # loopから抜ける\n",
        "          print(\"\\n[Fin] 実行が完了しました\")\n",
        "          break\n",
        "\n",
        "      # [3-4] エラーが発生し、スタックトレースが存在する場合、それを表示します\n",
        "      if  variables.get(\"traceback_str\"):\n",
        "          print(\"[2] エラーが発生しました\\n\\n\")\n",
        "          print(traceback_str, variables.get(\"traceback_str\"))\n",
        "\n",
        "      # [3-5] 修正コマンドの実行\n",
        "      print(\"\\n[3] 修正方法を考えます。少々お待ちください。\\n\")\n",
        "      correction_code = get_response_from_chatGPT(generated_code_txt_with_try, traceback_str)\n",
        "\n",
        "      # [3-6] 実行して良いかの確認\n",
        "      print(\"\\n[4] 修正のために、以下のコマンドを実行しても良いですか？\\n\")\n",
        "      print(correction_code)\n",
        "      user_input = input(\"宜しければyを入力しEnterを押してください。実行を中止する場合はnを入力しEnterを押してください: \")\n",
        "\n",
        "      # [3-7] 修正の実行\n",
        "      if user_input.lower() == 'y':\n",
        "          print(\"\\n[5] それでは修正します。\\n\")\n",
        "          exec(correction_code, globals())\n",
        "          print(\"[6] 修正が完了しました\\n\\n 再実行に入ります・・・\\n\\n\")\n",
        "\n",
        "      else:\n",
        "          print(\"ユーザーが実行中止を選択しました。\")\n",
        "          break\n"
      ],
      "metadata": {
        "id": "dNd27uNxhju-"
      },
      "execution_count": 9,
      "outputs": []
    },
    {
      "cell_type": "code",
      "source": [
        "# メインの実行\n",
        "main(generated_code_txt_with_try)"
      ],
      "metadata": {
        "colab": {
          "base_uri": "https://localhost:8080/"
        },
        "id": "GR8tdveVh-vK",
        "outputId": "857938f7-0545-4c0c-e573-d3a29fa87d51"
      },
      "execution_count": 10,
      "outputs": [
        {
          "output_type": "stream",
          "name": "stdout",
          "text": [
            "============================================\n",
            "[1] 生成されたコードを実行します（今回は適当な画像のサイズを出力するコードです）\n",
            "\n",
            "[2] エラーが発生しました\n",
            "\n",
            "\n",
            "None Traceback (most recent call last):\n",
            "  File \"<string>\", line 8, in <module>\n",
            "ModuleNotFoundError: No module named 'PIL'\n",
            "\n",
            "\n",
            "[3] 修正方法を考えます。少々お待ちください。\n",
            "\n",
            "\n",
            "[4] 修正のために、以下のコマンドを実行しても良いですか？\n",
            "\n",
            "\n",
            "import subprocess\n",
            "\n",
            "command = 'pip install pillow'\n",
            "output = subprocess.check_output(command, shell=True, stderr=subprocess.STDOUT, universal_newlines=True)\n",
            "print(output)\n",
            "\n",
            "宜しければyを入力しEnterを押してください。実行を中止する場合はnを入力しEnterを押してください: y\n",
            "\n",
            "[5] それでは修正します。\n",
            "\n",
            "Collecting pillow\n",
            "  Downloading Pillow-10.0.1-cp310-cp310-manylinux_2_28_x86_64.whl (3.6 MB)\n",
            "     ━━━━━━━━━━━━━━━━━━━━━━━━━━━━━━━━━━━━━━━━ 3.6/3.6 MB 13.7 MB/s eta 0:00:00\n",
            "Installing collected packages: pillow\n",
            "Successfully installed pillow-10.0.1\n",
            "\n",
            "[6] 修正が完了しました\n",
            "\n",
            " 再実行に入ります・・・\n",
            "\n",
            "\n",
            "============================================\n",
            "[1] 生成されたコードを実行します（今回は適当な画像のサイズを出力するコードです）\n",
            "\n",
            "幅: 1322\n",
            "高さ: 715\n",
            "\n",
            "[Fin] 実行が完了しました\n"
          ]
        }
      ]
    },
    {
      "cell_type": "code",
      "source": [
        "# 以上"
      ],
      "metadata": {
        "id": "Bse1UEe47iFV"
      },
      "execution_count": null,
      "outputs": []
    }
  ]
}