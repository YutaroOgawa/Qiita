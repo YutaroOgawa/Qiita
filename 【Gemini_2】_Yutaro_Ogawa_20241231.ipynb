{
  "nbformat": 4,
  "nbformat_minor": 0,
  "metadata": {
    "colab": {
      "provenance": [],
      "machine_shape": "hm",
      "toc_visible": true
    },
    "kernelspec": {
      "name": "python3",
      "display_name": "Python 3"
    },
    "language_info": {
      "name": "python"
    }
  },
  "cells": [
    {
      "cell_type": "markdown",
      "source": [
        "Gemini 2.0 の ハンズオンチュートリアル記事 の実装コード\n",
        "===================\n",
        "\n",
        "\n",
        "\n",
        "**1. 概要**：\n",
        "\n",
        "Google Colaboratory で Gemini 2.0 を動かす、ハンズオンチュートリアルです\n",
        "\n"
      ],
      "metadata": {
        "id": "3_mWgvSwe8jM"
      }
    },
    {
      "cell_type": "markdown",
      "source": [
        "\n",
        "<br>\n",
        "\n",
        "**2. 実装者**：小川雄太郎\n",
        "\n",
        "**3. 実装日**：2024年12月31日\n",
        "\n",
        "**4. 実行環境**：Google Colabratory、CPU\n",
        "\n",
        "**5. 参考記事・スライド類**\n",
        "\n",
        "\n",
        "\n",
        "\n",
        "ブログ: 「Google Colab で Gemini 2.0 の Multimodal Live API を試す」 [[link](https://note.com/npaka/n/n36ac85db4114)]\n",
        "\n",
        "\n",
        "ブログ: 「Gemini 2.0 Flash Live API （試験運用版）を使ってAIと日本語で会話してみた」 [[link](https://dev.classmethod.jp/articles/gemini2-flash-exp-live-api/)]\n",
        "\n",
        "\n",
        "**6. 実装のメイン参考**\n",
        "\n",
        "https://github.com/GoogleCloudPlatform/generative-ai/tree/main/gemini/getting-started\n",
        "\n",
        "https://github.com/GoogleCloudPlatform/generative-ai/blob/main/gemini/getting-started/intro_gemini_2_0_flash.ipynb\n",
        "\n",
        "\n",
        "https://github.com/GoogleCloudPlatform/generative-ai/blob/main/gemini/getting-started/intro_gemini_chat.ipynb\n",
        "\n",
        "\n",
        "\n",
        "**7. その他参考にした記事**\n",
        "\n",
        "公式Doc\n",
        "\n",
        "https://ai.google.dev/gemini-api/docs/models/gemini-v2\n",
        "\n",
        "APIリファレンス\n",
        "\n",
        "https://googleapis.github.io/python-genai/\n",
        "\n",
        "---"
      ],
      "metadata": {
        "id": "0G6ZOopLF_6i"
      }
    },
    {
      "cell_type": "markdown",
      "metadata": {
        "id": "kmWEsDUHA-KA"
      },
      "source": [
        "# [0] 初期設定\n"
      ]
    },
    {
      "cell_type": "markdown",
      "metadata": {
        "id": "FxEF5Y7eBEdN"
      },
      "source": [
        "## [0-1] GPUの初期設定を確認（今回は使用しておらず）\n"
      ]
    },
    {
      "cell_type": "code",
      "execution_count": 1,
      "metadata": {
        "colab": {
          "base_uri": "https://localhost:8080/"
        },
        "id": "Zwnn5dxvBMd5",
        "outputId": "34e928a8-a224-43db-94fb-28d25d9e30a6"
      },
      "outputs": [
        {
          "output_type": "stream",
          "name": "stdout",
          "text": [
            "/bin/bash: line 1: nvidia-smi: command not found\n"
          ]
        }
      ],
      "source": [
        "!nvidia-smi"
      ]
    },
    {
      "cell_type": "markdown",
      "metadata": {
        "id": "I4sxQizR9Uds"
      },
      "source": [
        "## [0-2] installの実施"
      ]
    },
    {
      "cell_type": "markdown",
      "source": [
        "Gemini 1.5 からは異なり、Gemini 2.0では、新たなパッケージ「Google Gen AI SDK」を使用します\n",
        "\n",
        "https://github.com/googleapis/python-genai"
      ],
      "metadata": {
        "id": "T9Ur6YJ6Gp49"
      }
    },
    {
      "cell_type": "code",
      "execution_count": 2,
      "metadata": {
        "id": "PX8A_ZZ6lWIS",
        "colab": {
          "base_uri": "https://localhost:8080/"
        },
        "outputId": "7ab21d92-8c4a-491b-cbe0-ab224d49d17f"
      },
      "outputs": [
        {
          "output_type": "stream",
          "name": "stdout",
          "text": [
            "Requirement already satisfied: google-genai==0.3.0 in /usr/local/lib/python3.10/dist-packages (0.3.0)\n",
            "Requirement already satisfied: google-auth<3.0.0dev,>=2.14.1 in /usr/local/lib/python3.10/dist-packages (from google-genai==0.3.0) (2.27.0)\n",
            "Requirement already satisfied: pillow<12.0.0,>=10.0.0 in /usr/local/lib/python3.10/dist-packages (from google-genai==0.3.0) (11.0.0)\n",
            "Requirement already satisfied: pydantic<3.0.0dev,>=2.0.0 in /usr/local/lib/python3.10/dist-packages (from google-genai==0.3.0) (2.10.3)\n",
            "Requirement already satisfied: requests<3.0.0dev,>=2.28.1 in /usr/local/lib/python3.10/dist-packages (from google-genai==0.3.0) (2.32.3)\n",
            "Requirement already satisfied: websockets<15.0dev,>=13.0 in /usr/local/lib/python3.10/dist-packages (from google-genai==0.3.0) (14.1)\n",
            "Requirement already satisfied: cachetools<6.0,>=2.0.0 in /usr/local/lib/python3.10/dist-packages (from google-auth<3.0.0dev,>=2.14.1->google-genai==0.3.0) (5.5.0)\n",
            "Requirement already satisfied: pyasn1-modules>=0.2.1 in /usr/local/lib/python3.10/dist-packages (from google-auth<3.0.0dev,>=2.14.1->google-genai==0.3.0) (0.4.1)\n",
            "Requirement already satisfied: rsa<5,>=3.1.4 in /usr/local/lib/python3.10/dist-packages (from google-auth<3.0.0dev,>=2.14.1->google-genai==0.3.0) (4.9)\n",
            "Requirement already satisfied: annotated-types>=0.6.0 in /usr/local/lib/python3.10/dist-packages (from pydantic<3.0.0dev,>=2.0.0->google-genai==0.3.0) (0.7.0)\n",
            "Requirement already satisfied: pydantic-core==2.27.1 in /usr/local/lib/python3.10/dist-packages (from pydantic<3.0.0dev,>=2.0.0->google-genai==0.3.0) (2.27.1)\n",
            "Requirement already satisfied: typing-extensions>=4.12.2 in /usr/local/lib/python3.10/dist-packages (from pydantic<3.0.0dev,>=2.0.0->google-genai==0.3.0) (4.12.2)\n",
            "Requirement already satisfied: charset-normalizer<4,>=2 in /usr/local/lib/python3.10/dist-packages (from requests<3.0.0dev,>=2.28.1->google-genai==0.3.0) (3.4.0)\n",
            "Requirement already satisfied: idna<4,>=2.5 in /usr/local/lib/python3.10/dist-packages (from requests<3.0.0dev,>=2.28.1->google-genai==0.3.0) (3.10)\n",
            "Requirement already satisfied: urllib3<3,>=1.21.1 in /usr/local/lib/python3.10/dist-packages (from requests<3.0.0dev,>=2.28.1->google-genai==0.3.0) (2.2.3)\n",
            "Requirement already satisfied: certifi>=2017.4.17 in /usr/local/lib/python3.10/dist-packages (from requests<3.0.0dev,>=2.28.1->google-genai==0.3.0) (2024.12.14)\n",
            "Requirement already satisfied: pyasn1<0.7.0,>=0.4.6 in /usr/local/lib/python3.10/dist-packages (from pyasn1-modules>=0.2.1->google-auth<3.0.0dev,>=2.14.1->google-genai==0.3.0) (0.6.1)\n"
          ]
        }
      ],
      "source": [
        "!pip install google-genai==0.3.0"
      ]
    },
    {
      "cell_type": "markdown",
      "metadata": {
        "id": "XHej-0oaBPyC"
      },
      "source": [
        "## [0-3] importの実施"
      ]
    },
    {
      "cell_type": "code",
      "execution_count": 3,
      "metadata": {
        "id": "Y85ord0XBOnU"
      },
      "outputs": [],
      "source": [
        "# 定番系\n",
        "import os\n",
        "import sys\n",
        "import random\n",
        "import math\n",
        "import time\n",
        "import re\n",
        "import datetime\n",
        "import json\n",
        "import argparse\n",
        "import numpy as np\n",
        "import pandas as pd\n",
        "from pandas.errors import EmptyDataError\n",
        "from pandas.errors import ParserError\n",
        "from PIL import Image\n",
        "from tqdm import tqdm\n",
        "import gc\n",
        "\n",
        "# 描画系\n",
        "import matplotlib.pyplot as plt\n",
        "import matplotlib.animation as animation\n",
        "from matplotlib import rc\n",
        "from ipywidgets import interact\n",
        "%matplotlib inline\n",
        "\n",
        "# PyTorch関連\n",
        "import torch\n",
        "from torch import nn\n",
        "from torch.nn import functional as F\n",
        "from torch.utils.data import DataLoader\n",
        "import torchvision\n",
        "from torchvision import transforms"
      ]
    },
    {
      "cell_type": "markdown",
      "metadata": {
        "id": "Iz0V3eFRB1am"
      },
      "source": [
        "## [0-4] 乱数シードの初期化\n"
      ]
    },
    {
      "cell_type": "code",
      "execution_count": 4,
      "metadata": {
        "colab": {
          "base_uri": "https://localhost:8080/"
        },
        "id": "JJ-kjDA3BMgG",
        "outputId": "0c74502a-0b00-4a59-d6e5-7971fcc0f97a"
      },
      "outputs": [
        {
          "output_type": "stream",
          "name": "stdout",
          "text": [
            "使用するseedの値： 1234\n"
          ]
        }
      ],
      "source": [
        "# 乱数シードの初期化\n",
        "seed_val = 1234\n",
        "\n",
        "print(\"使用するseedの値：\", str(seed_val))\n",
        "os.environ['PYTHONHASHSEED'] = str(seed_val)\n",
        "random.seed(seed_val)\n",
        "np.random.seed(seed_val)\n",
        "torch.manual_seed(seed_val) # PyTorchはこちら参考 https://pytorch.org/docs/stable/notes/randomness.html\n",
        "torch.cuda.manual_seed(seed_val)\n",
        "torch.cuda.manual_seed_all(seed_val)\n",
        "# GPU高速化\n",
        "torch.backends.cudnn.benchmark = True\n",
        "\n",
        "# GPUの再現性まで確保したい場合（ただし、計算速度が低下してしまいます）\n",
        "# torch.backends.cudnn.deterministic = True\n",
        "# torch.backends.cudnn.benchmark = False\n"
      ]
    },
    {
      "cell_type": "markdown",
      "metadata": {
        "id": "k0zZffQsCwy5"
      },
      "source": [
        "## [0-5] 実行環境の確認"
      ]
    },
    {
      "cell_type": "code",
      "execution_count": 5,
      "metadata": {
        "colab": {
          "base_uri": "https://localhost:8080/"
        },
        "id": "pAWrT1-vCaEK",
        "outputId": "ab61ba52-7de1-4cc5-a6ea-bc7b6d162521"
      },
      "outputs": [
        {
          "output_type": "stream",
          "name": "stdout",
          "text": [
            "Pythonのバージョン： 3.10.12 (main, Nov  6 2024, 20:22:13) [GCC 11.4.0]\n",
            "---------\n",
            "PyTorchのバージョン： 2.5.1+cu121\n",
            "GPUの枚数： 0\n",
            "cpu\n"
          ]
        }
      ],
      "source": [
        "# -----------------------------\n",
        "# 環境情報の確認\n",
        "# -----------------------------\n",
        "def print_program_info():\n",
        "    print(\"Pythonのバージョン：\", sys.version)\n",
        "    print(\"---------\")\n",
        "    print(\"PyTorchのバージョン：\",\n",
        "    torch.__version__)\n",
        "    print(\"GPUの枚数：\", torch.cuda.device_count())\n",
        "    global device  # 変数deviceは以降もプログラム本体で使用するのでglobal変数にしています\n",
        "    device = torch.device(\"cuda:0\" if torch.cuda.is_available() else \"cpu\")\n",
        "    print(device)\n",
        "\n",
        "\n",
        "# 【実行】確認\n",
        "print_program_info()\n",
        "\n",
        "# 上記で変数deviceをglobalにしており、deviceでGPUを使用できます\n"
      ]
    },
    {
      "cell_type": "markdown",
      "metadata": {
        "id": "CaFzVojnDCMr"
      },
      "source": [
        "## [0-7] Google Driveのマウント（任意）\n"
      ]
    },
    {
      "cell_type": "code",
      "execution_count": 6,
      "metadata": {
        "id": "SlqWFOUGDl_v"
      },
      "outputs": [],
      "source": [
        "# from google.colab import drive\n",
        "# drive.mount('/content/gdrive')"
      ]
    },
    {
      "cell_type": "markdown",
      "source": [
        "---"
      ],
      "metadata": {
        "id": "Ma7PFrxts8ai"
      }
    },
    {
      "cell_type": "markdown",
      "metadata": {
        "id": "TpbHZuZaFxr3"
      },
      "source": [
        "# [1] GeminiのClientを作成"
      ]
    },
    {
      "cell_type": "markdown",
      "source": [
        "Gemini 2.0 を使用する場合、「Google Cloud の Vertex AI から使用する」、もしくは「単体でAPIキーを発行して使用する」のいずれかになります。\n",
        "\n",
        "\n",
        "本実装では、「単体でAPIキーを発行して使用する」方法を解説します。"
      ],
      "metadata": {
        "id": "qjv599PlIDEM"
      }
    },
    {
      "cell_type": "markdown",
      "source": [
        "(1) 「Google AI Studio」からAPIキーを取得し、以下の環境変数に代入してください\n",
        "\n",
        "※簡易版実装なのでAPIキーを直書きしますが、本来はSecretとして安全に利用してください\n",
        "\n"
      ],
      "metadata": {
        "id": "yzh8uJz8HkYR"
      }
    },
    {
      "cell_type": "markdown",
      "source": [
        "https://aistudio.google.com/app/apikey"
      ],
      "metadata": {
        "id": "uPkW51f5Iw3M"
      }
    },
    {
      "cell_type": "markdown",
      "metadata": {
        "id": "C-X2RrzX5Mr1"
      },
      "source": [
        "## [1-1] clientをインスタンス化"
      ]
    },
    {
      "cell_type": "code",
      "source": [
        "# clientをインスタンス化\n",
        "\n",
        "from google import genai\n",
        "\n",
        "# [1] APIキーの設定\n",
        "os.environ['GOOGLE_API_KEY'] = \"hogehgoe\"  # こちらに取得したAPIキーを入力してください\n",
        "\n",
        "# [2] clientのインスタンス化\n",
        "client = genai.Client(api_key=os.environ.get('GOOGLE_API_KEY'))\n"
      ],
      "metadata": {
        "id": "DApYdysWJJop"
      },
      "execution_count": 7,
      "outputs": []
    },
    {
      "cell_type": "markdown",
      "source": [
        "# [2] LLM使用に際する各種設定を実施"
      ],
      "metadata": {
        "id": "-zcKiLF-KBNV"
      }
    },
    {
      "cell_type": "markdown",
      "source": [
        "## [2-1] model_id"
      ],
      "metadata": {
        "id": "KBczmJGMKGE7"
      }
    },
    {
      "cell_type": "code",
      "source": [
        "model_id = 'gemini-2.0-flash-exp'"
      ],
      "metadata": {
        "id": "NEF3aXlzKH-3"
      },
      "execution_count": 8,
      "outputs": []
    },
    {
      "cell_type": "markdown",
      "source": [
        "## [2-2] コンテンツセーフティ系の設定"
      ],
      "metadata": {
        "id": "NbFphsPBKP1g"
      }
    },
    {
      "cell_type": "markdown",
      "source": [
        "設定内容の詳細は 公式docs [[link](https://ai.google.dev/gemini-api/docs/safety-settings?hl=ja&_gl=1*czyn11*_up*MQ..*_ga*MTE0MzYzNzUxNS4xNzM0NDk2NjQw*_ga_P1DBVKWT6V*MTczNDQ5OTQyMy4yLjAuMTczNDQ5OTQyMy4wLjAuMTg5ODc0NTk3Ng..)] にて。"
      ],
      "metadata": {
        "id": "oSXrnQeKOXyM"
      }
    },
    {
      "cell_type": "markdown",
      "source": [
        "現在の設定は、「コンテンツが安全でない確率が低い場合、中程度の場合、高い場合にブロックします」です。\n"
      ],
      "metadata": {
        "id": "pDrLJThRQkCp"
      }
    },
    {
      "cell_type": "code",
      "source": [
        "from google.genai import types\n",
        "\n",
        "\n",
        "my_safety_settings = [types.SafetySetting(\n",
        "    category=\"HARM_CATEGORY_HATE_SPEECH\",\n",
        "    threshold=\"BLOCK_LOW_AND_ABOVE\"\n",
        "), types.SafetySetting(\n",
        "    category=\"HARM_CATEGORY_DANGEROUS_CONTENT\",\n",
        "    threshold=\"BLOCK_LOW_AND_ABOVE\"\n",
        "), types.SafetySetting(\n",
        "    category=\"HARM_CATEGORY_SEXUALLY_EXPLICIT\",\n",
        "    threshold=\"BLOCK_LOW_AND_ABOVE\"\n",
        "), types.SafetySetting(\n",
        "    category=\"HARM_CATEGORY_HARASSMENT\",\n",
        "    threshold=\"BLOCK_LOW_AND_ABOVE\"\n",
        ")]\n",
        "\n"
      ],
      "metadata": {
        "id": "YQs7whK8K7EX"
      },
      "execution_count": 9,
      "outputs": []
    },
    {
      "cell_type": "markdown",
      "source": [
        "## [2-3] システムプロンプトの設定（system instructions）"
      ],
      "metadata": {
        "id": "6zLUCI4BRUTl"
      }
    },
    {
      "cell_type": "code",
      "source": [
        "system_instruction = \"\"\"\n",
        "あなたはユーザーを助けるAgentです。\n",
        "あなたの名前はHAROです。\n",
        "\"\"\""
      ],
      "metadata": {
        "id": "iWzU51rqKFZS"
      },
      "execution_count": 10,
      "outputs": []
    },
    {
      "cell_type": "markdown",
      "source": [
        "## [2-4] 設定内容をGenerateContentConfigにまとめる"
      ],
      "metadata": {
        "id": "PQbXXiqiRyLJ"
      }
    },
    {
      "cell_type": "code",
      "source": [
        "my_generate_content_config = types.GenerateContentConfig(\n",
        "    temperature=0.1,\n",
        "    top_p=0.95,\n",
        "    max_output_tokens=2048,\n",
        "    response_modalities=[\"TEXT\"],\n",
        "    safety_settings=my_safety_settings,  # [1-4-2] で設定\n",
        "    system_instruction=[types.Part.from_text(\n",
        "        system_instruction)],  # [1-4-3] で設定\n",
        ")\n"
      ],
      "metadata": {
        "id": "vNlRs9NnR1m9"
      },
      "execution_count": 11,
      "outputs": []
    },
    {
      "cell_type": "markdown",
      "source": [
        "# [3] 会話を1回実行する場合"
      ],
      "metadata": {
        "id": "XXUkbXyqSvD6"
      }
    },
    {
      "cell_type": "markdown",
      "source": [
        "## [3-1] 入力文を作成"
      ],
      "metadata": {
        "id": "5X62_BMOS-gn"
      }
    },
    {
      "cell_type": "code",
      "source": [
        "from google.genai.types import (\n",
        "    Content,\n",
        "    Part,\n",
        ")\n",
        "\n",
        "\n",
        "input_text = \"あなたのお名前は？\"\n",
        "\n",
        "my_contents = [Content(role=\"user\", parts=[Part.from_text(input_text)])]"
      ],
      "metadata": {
        "id": "2ikceAiITGKM"
      },
      "execution_count": 12,
      "outputs": []
    },
    {
      "cell_type": "markdown",
      "source": [
        "## [3-2] 実行"
      ],
      "metadata": {
        "id": "2tZ3_QYYTfm4"
      }
    },
    {
      "cell_type": "code",
      "source": [
        "response = client.models.generate_content(\n",
        "    model=model_id,  # [1-3-1] で設定\n",
        "    contents=my_contents,\n",
        "    config=my_generate_content_config  # [1-3-4]で設定をまとめた\n",
        ")\n",
        "\n",
        "print(response.text)\n"
      ],
      "metadata": {
        "id": "0szvb4AfS0D8",
        "colab": {
          "base_uri": "https://localhost:8080/"
        },
        "outputId": "835e981e-399d-4546-a58b-198bebf8905e"
      },
      "execution_count": 13,
      "outputs": [
        {
          "output_type": "stream",
          "name": "stdout",
          "text": [
            "私の名前はHAROです。\n",
            "\n"
          ]
        }
      ]
    },
    {
      "cell_type": "code",
      "source": [
        "response"
      ],
      "metadata": {
        "colab": {
          "base_uri": "https://localhost:8080/"
        },
        "id": "eQzqVaNhToGJ",
        "outputId": "7b09a842-1cdb-4012-83c7-72a778b88bdd"
      },
      "execution_count": 14,
      "outputs": [
        {
          "output_type": "execute_result",
          "data": {
            "text/plain": [
              "GenerateContentResponse(candidates=[Candidate(content=Content(parts=[Part(video_metadata=None, thought=None, code_execution_result=None, executable_code=None, file_data=None, function_call=None, function_response=None, inline_data=None, text='私の名前はHAROです。\\n')], role='model'), citation_metadata=None, finish_message=None, token_count=None, avg_logprobs=inf, finish_reason='STOP', grounding_metadata=None, index=None, logprobs_result=None, safety_ratings=[SafetyRating(blocked=None, category='HARM_CATEGORY_HATE_SPEECH', probability='NEGLIGIBLE', probability_score=None, severity=None, severity_score=None), SafetyRating(blocked=None, category='HARM_CATEGORY_DANGEROUS_CONTENT', probability='NEGLIGIBLE', probability_score=None, severity=None, severity_score=None), SafetyRating(blocked=None, category='HARM_CATEGORY_HARASSMENT', probability='NEGLIGIBLE', probability_score=None, severity=None, severity_score=None), SafetyRating(blocked=None, category='HARM_CATEGORY_SEXUALLY_EXPLICIT', probability='NEGLIGIBLE', probability_score=None, severity=None, severity_score=None)])], model_version='gemini-2.0-flash-exp', prompt_feedback=None, usage_metadata=GenerateContentResponseUsageMetadata(cached_content_token_count=None, candidates_token_count=8, prompt_token_count=25, total_token_count=33), automatic_function_calling_history=[], parsed=None)"
            ]
          },
          "metadata": {},
          "execution_count": 14
        }
      ]
    },
    {
      "cell_type": "markdown",
      "source": [
        "# [4] 会話を往復させる場合"
      ],
      "metadata": {
        "id": "2ugVgKsmUTkg"
      }
    },
    {
      "cell_type": "markdown",
      "source": [
        "## [4-1] 入力文を作成し、送る"
      ],
      "metadata": {
        "id": "psv1XtTYUZ7l"
      }
    },
    {
      "cell_type": "code",
      "source": [
        "input_text = \"私の名前は小川雄太郎です。\"\n",
        "\n",
        "chat = client.chats.create(\n",
        "    model=model_id,  # [1-3-1] で設定\n",
        "    config=my_generate_content_config  # [1-3-4]で設定をまとめた\n",
        ")\n",
        "\n",
        "# 送り、内容を確認\n",
        "response = chat.send_message(input_text)\n",
        "print(response.text)"
      ],
      "metadata": {
        "id": "uIC9i86lUfJd",
        "colab": {
          "base_uri": "https://localhost:8080/"
        },
        "outputId": "faca23c2-3601-4969-f631-a616057387c9"
      },
      "execution_count": 15,
      "outputs": [
        {
          "output_type": "stream",
          "name": "stdout",
          "text": [
            "小川雄太郎さん、こんにちは！HAROです。\n",
            "どうぞよろしくお願いします。何かお手伝いできることがあれば、遠慮なくおっしゃってくださいね。\n",
            "\n"
          ]
        }
      ]
    },
    {
      "cell_type": "code",
      "source": [
        "# 会話の履歴が残っているかチェック\n",
        "response = chat.send_message(\"あれ、私の名前はなんでしたっけ\")\n",
        "print(response.text)"
      ],
      "metadata": {
        "colab": {
          "base_uri": "https://localhost:8080/"
        },
        "id": "OZWN-m4WU_Qa",
        "outputId": "b57e8ebe-1ba9-4b85-e9f7-a524109c8429"
      },
      "execution_count": 16,
      "outputs": [
        {
          "output_type": "stream",
          "name": "stdout",
          "text": [
            "あら、小川雄太郎さん、ご自身の名前を忘れてしまわれたのですね？\n",
            "\n",
            "先ほど、ご自身で「私の名前は小川雄太郎です」とおっしゃっていましたよ。\n",
            "\n",
            "もし、何か混乱されているようでしたら、ゆっくりお話を聞かせてくださいね。\n",
            "\n"
          ]
        }
      ]
    },
    {
      "cell_type": "markdown",
      "source": [
        "## [4-3] 会話履歴のチェック"
      ],
      "metadata": {
        "id": "C_kHudxVX0v9"
      }
    },
    {
      "cell_type": "code",
      "source": [
        "# 会話履歴のチェック\n",
        "print(chat.history)"
      ],
      "metadata": {
        "colab": {
          "base_uri": "https://localhost:8080/",
          "height": 165
        },
        "id": "M2yfdXRySzOF",
        "outputId": "e61982b2-28e4-4875-fe55-e8b9eab09db6"
      },
      "execution_count": 21,
      "outputs": [
        {
          "output_type": "error",
          "ename": "AttributeError",
          "evalue": "'Chat' object has no attribute 'history'",
          "traceback": [
            "\u001b[0;31m---------------------------------------------------------------------------\u001b[0m",
            "\u001b[0;31mAttributeError\u001b[0m                            Traceback (most recent call last)",
            "\u001b[0;32m<ipython-input-21-062509e46e00>\u001b[0m in \u001b[0;36m<cell line: 2>\u001b[0;34m()\u001b[0m\n\u001b[1;32m      1\u001b[0m \u001b[0;31m# 会話履歴のチェック\u001b[0m\u001b[0;34m\u001b[0m\u001b[0;34m\u001b[0m\u001b[0m\n\u001b[0;32m----> 2\u001b[0;31m \u001b[0mprint\u001b[0m\u001b[0;34m(\u001b[0m\u001b[0mchat\u001b[0m\u001b[0;34m.\u001b[0m\u001b[0mhistory\u001b[0m\u001b[0;34m)\u001b[0m\u001b[0;34m\u001b[0m\u001b[0;34m\u001b[0m\u001b[0m\n\u001b[0m",
            "\u001b[0;31mAttributeError\u001b[0m: 'Chat' object has no attribute 'history'"
          ]
        }
      ]
    },
    {
      "cell_type": "code",
      "source": [
        "# あれ?、上記が通らないので以下で\n",
        "chat._curated_history\n"
      ],
      "metadata": {
        "colab": {
          "base_uri": "https://localhost:8080/"
        },
        "id": "onW5t661Xk0a",
        "outputId": "df5ea000-18bf-4286-c333-15854dd1a378"
      },
      "execution_count": 22,
      "outputs": [
        {
          "output_type": "execute_result",
          "data": {
            "text/plain": [
              "[Content(parts=[Part(video_metadata=None, thought=None, code_execution_result=None, executable_code=None, file_data=None, function_call=None, function_response=None, inline_data=None, text='私の名前は小川雄太郎です。')], role='user'),\n",
              " Content(parts=[Part(video_metadata=None, thought=None, code_execution_result=None, executable_code=None, file_data=None, function_call=None, function_response=None, inline_data=None, text='小川雄太郎さん、こんにちは！HAROです。\\nどうぞよろしくお願いします。何かお手伝いできることがあれば、遠慮なくおっしゃってくださいね。\\n')], role='model'),\n",
              " Content(parts=[Part(video_metadata=None, thought=None, code_execution_result=None, executable_code=None, file_data=None, function_call=None, function_response=None, inline_data=None, text='あれ、私の名前はなんでしたっけ')], role='user'),\n",
              " Content(parts=[Part(video_metadata=None, thought=None, code_execution_result=None, executable_code=None, file_data=None, function_call=None, function_response=None, inline_data=None, text='あら、小川雄太郎さん、ご自身の名前を忘れてしまわれたのですね？\\n\\n先ほど、ご自身で「私の名前は小川雄太郎です」とおっしゃっていましたよ。\\n\\nもし、何か混乱されているようでしたら、ゆっくりお話を聞かせてくださいね。\\n')], role='model')]"
            ]
          },
          "metadata": {},
          "execution_count": 22
        }
      ]
    },
    {
      "cell_type": "markdown",
      "source": [
        "# [5] 会話履歴の続きから会話させる場合"
      ],
      "metadata": {
        "id": "qeLb9ivVX67v"
      }
    },
    {
      "cell_type": "markdown",
      "source": [
        "## [5-1] 会話履歴の作成"
      ],
      "metadata": {
        "id": "cWp7mAX-YJIu"
      }
    },
    {
      "cell_type": "code",
      "source": [
        "# 履歴をhistoryとして作成\n",
        "my_history = [\n",
        "    Content(role=\"user\", parts=[Part.from_text(\"私の好きな食べ物はみかんです。\")]),\n",
        "    Content(role=\"model\", parts=[Part.from_text(\"そうなんですか。私はリンゴが好きです\")]),\n",
        "]\n"
      ],
      "metadata": {
        "id": "76ZSPWA9YLoQ"
      },
      "execution_count": 23,
      "outputs": []
    },
    {
      "cell_type": "markdown",
      "source": [
        "## [5-2] 実行"
      ],
      "metadata": {
        "id": "szx4jGrpY83h"
      }
    },
    {
      "cell_type": "code",
      "source": [
        "# チャットを作成\n",
        "chat2 = client.chats.create(\n",
        "    model=model_id,  # [1-3-1] で設定\n",
        "    config=my_generate_content_config,  # [1-3-4]で設定をまとめた\n",
        "    history=my_history  # 上記の作成した会話履歴です\n",
        ")\n"
      ],
      "metadata": {
        "id": "aXwLOsFCY2sd"
      },
      "execution_count": 24,
      "outputs": []
    },
    {
      "cell_type": "code",
      "source": [
        "# 会話の履歴が残っているかチェック\n",
        "response = chat2.send_message(\"あれ、私の好きな食べ物はなんでしたっけ\")\n",
        "print(response.text)\n",
        "\n",
        "response = chat2.send_message(\"あなたの好きな食べ物は？\")\n",
        "print(response.text)\n"
      ],
      "metadata": {
        "colab": {
          "base_uri": "https://localhost:8080/"
        },
        "id": "pg5CDLJjX_Ie",
        "outputId": "de86bbea-32a2-4914-aa52-14d72d3e88be"
      },
      "execution_count": 25,
      "outputs": [
        {
          "output_type": "stream",
          "name": "stdout",
          "text": [
            "あなたの好きな食べ物はみかんです！\n",
            "\n",
            "私の好きな食べ物はリンゴです！\n",
            "\n"
          ]
        }
      ]
    },
    {
      "cell_type": "markdown",
      "source": [
        "---"
      ],
      "metadata": {
        "id": "mbHEjeexZXsY"
      }
    },
    {
      "cell_type": "markdown",
      "source": [
        "# 以上"
      ],
      "metadata": {
        "id": "xlpAuz6Uyceu"
      }
    }
  ]
}