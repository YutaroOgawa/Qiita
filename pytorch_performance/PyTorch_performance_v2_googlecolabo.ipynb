{
  "nbformat": 4,
  "nbformat_minor": 0,
  "metadata": {
    "accelerator": "GPU",
    "colab": {
      "name": "PyTorch_performance_v2_googlecolabo.ipynb",
      "provenance": [],
      "collapsed_sections": []
    },
    "kernelspec": {
      "display_name": "Python 3",
      "language": "python",
      "name": "python3"
    },
    "language_info": {
      "codemirror_mode": {
        "name": "ipython",
        "version": 3
      },
      "file_extension": ".py",
      "mimetype": "text/x-python",
      "name": "python",
      "nbconvert_exporter": "python",
      "pygments_lexer": "ipython3",
      "version": "3.6.10"
    },
    "widgets": {
      "application/vnd.jupyter.widget-state+json": {
        "aa7633dfa09c47048a966738bd35b4f7": {
          "model_module": "@jupyter-widgets/controls",
          "model_name": "HBoxModel",
          "state": {
            "_view_name": "HBoxView",
            "_dom_classes": [],
            "_model_name": "HBoxModel",
            "_view_module": "@jupyter-widgets/controls",
            "_model_module_version": "1.5.0",
            "_view_count": null,
            "_view_module_version": "1.5.0",
            "box_style": "",
            "layout": "IPY_MODEL_e9521841913d49e7b7a8162c4acdbbcc",
            "_model_module": "@jupyter-widgets/controls",
            "children": [
              "IPY_MODEL_60773981a9e241aaa1271efd803bc7ce",
              "IPY_MODEL_38c3dda5dcdb43a48298d852ab138b15"
            ]
          }
        },
        "e9521841913d49e7b7a8162c4acdbbcc": {
          "model_module": "@jupyter-widgets/base",
          "model_name": "LayoutModel",
          "state": {
            "_view_name": "LayoutView",
            "grid_template_rows": null,
            "right": null,
            "justify_content": null,
            "_view_module": "@jupyter-widgets/base",
            "overflow": null,
            "_model_module_version": "1.2.0",
            "_view_count": null,
            "flex_flow": null,
            "width": null,
            "min_width": null,
            "border": null,
            "align_items": null,
            "bottom": null,
            "_model_module": "@jupyter-widgets/base",
            "top": null,
            "grid_column": null,
            "overflow_y": null,
            "overflow_x": null,
            "grid_auto_flow": null,
            "grid_area": null,
            "grid_template_columns": null,
            "flex": null,
            "_model_name": "LayoutModel",
            "justify_items": null,
            "grid_row": null,
            "max_height": null,
            "align_content": null,
            "visibility": null,
            "align_self": null,
            "height": null,
            "min_height": null,
            "padding": null,
            "grid_auto_rows": null,
            "grid_gap": null,
            "max_width": null,
            "order": null,
            "_view_module_version": "1.2.0",
            "grid_template_areas": null,
            "object_position": null,
            "object_fit": null,
            "grid_auto_columns": null,
            "margin": null,
            "display": null,
            "left": null
          }
        },
        "60773981a9e241aaa1271efd803bc7ce": {
          "model_module": "@jupyter-widgets/controls",
          "model_name": "FloatProgressModel",
          "state": {
            "_view_name": "ProgressView",
            "style": "IPY_MODEL_f62679324f1e4f7ea753c6e6382d123c",
            "_dom_classes": [],
            "description": "",
            "_model_name": "FloatProgressModel",
            "bar_style": "info",
            "max": 1,
            "_view_module": "@jupyter-widgets/controls",
            "_model_module_version": "1.5.0",
            "value": 1,
            "_view_count": null,
            "_view_module_version": "1.5.0",
            "orientation": "horizontal",
            "min": 0,
            "description_tooltip": null,
            "_model_module": "@jupyter-widgets/controls",
            "layout": "IPY_MODEL_3348afde616a49a1b9ee14157790c27e"
          }
        },
        "38c3dda5dcdb43a48298d852ab138b15": {
          "model_module": "@jupyter-widgets/controls",
          "model_name": "HTMLModel",
          "state": {
            "_view_name": "HTMLView",
            "style": "IPY_MODEL_1b0ed308715b4dfcb413547ee291741a",
            "_dom_classes": [],
            "description": "",
            "_model_name": "HTMLModel",
            "placeholder": "​",
            "_view_module": "@jupyter-widgets/controls",
            "_model_module_version": "1.5.0",
            "value": " 9920512/? [00:20&lt;00:00, 2950502.38it/s]",
            "_view_count": null,
            "_view_module_version": "1.5.0",
            "description_tooltip": null,
            "_model_module": "@jupyter-widgets/controls",
            "layout": "IPY_MODEL_ea0133dc64fe4b8e983cbd2b5ccf2291"
          }
        },
        "f62679324f1e4f7ea753c6e6382d123c": {
          "model_module": "@jupyter-widgets/controls",
          "model_name": "ProgressStyleModel",
          "state": {
            "_view_name": "StyleView",
            "_model_name": "ProgressStyleModel",
            "description_width": "initial",
            "_view_module": "@jupyter-widgets/base",
            "_model_module_version": "1.5.0",
            "_view_count": null,
            "_view_module_version": "1.2.0",
            "bar_color": null,
            "_model_module": "@jupyter-widgets/controls"
          }
        },
        "3348afde616a49a1b9ee14157790c27e": {
          "model_module": "@jupyter-widgets/base",
          "model_name": "LayoutModel",
          "state": {
            "_view_name": "LayoutView",
            "grid_template_rows": null,
            "right": null,
            "justify_content": null,
            "_view_module": "@jupyter-widgets/base",
            "overflow": null,
            "_model_module_version": "1.2.0",
            "_view_count": null,
            "flex_flow": null,
            "width": null,
            "min_width": null,
            "border": null,
            "align_items": null,
            "bottom": null,
            "_model_module": "@jupyter-widgets/base",
            "top": null,
            "grid_column": null,
            "overflow_y": null,
            "overflow_x": null,
            "grid_auto_flow": null,
            "grid_area": null,
            "grid_template_columns": null,
            "flex": null,
            "_model_name": "LayoutModel",
            "justify_items": null,
            "grid_row": null,
            "max_height": null,
            "align_content": null,
            "visibility": null,
            "align_self": null,
            "height": null,
            "min_height": null,
            "padding": null,
            "grid_auto_rows": null,
            "grid_gap": null,
            "max_width": null,
            "order": null,
            "_view_module_version": "1.2.0",
            "grid_template_areas": null,
            "object_position": null,
            "object_fit": null,
            "grid_auto_columns": null,
            "margin": null,
            "display": null,
            "left": null
          }
        },
        "1b0ed308715b4dfcb413547ee291741a": {
          "model_module": "@jupyter-widgets/controls",
          "model_name": "DescriptionStyleModel",
          "state": {
            "_view_name": "StyleView",
            "_model_name": "DescriptionStyleModel",
            "description_width": "",
            "_view_module": "@jupyter-widgets/base",
            "_model_module_version": "1.5.0",
            "_view_count": null,
            "_view_module_version": "1.2.0",
            "_model_module": "@jupyter-widgets/controls"
          }
        },
        "ea0133dc64fe4b8e983cbd2b5ccf2291": {
          "model_module": "@jupyter-widgets/base",
          "model_name": "LayoutModel",
          "state": {
            "_view_name": "LayoutView",
            "grid_template_rows": null,
            "right": null,
            "justify_content": null,
            "_view_module": "@jupyter-widgets/base",
            "overflow": null,
            "_model_module_version": "1.2.0",
            "_view_count": null,
            "flex_flow": null,
            "width": null,
            "min_width": null,
            "border": null,
            "align_items": null,
            "bottom": null,
            "_model_module": "@jupyter-widgets/base",
            "top": null,
            "grid_column": null,
            "overflow_y": null,
            "overflow_x": null,
            "grid_auto_flow": null,
            "grid_area": null,
            "grid_template_columns": null,
            "flex": null,
            "_model_name": "LayoutModel",
            "justify_items": null,
            "grid_row": null,
            "max_height": null,
            "align_content": null,
            "visibility": null,
            "align_self": null,
            "height": null,
            "min_height": null,
            "padding": null,
            "grid_auto_rows": null,
            "grid_gap": null,
            "max_width": null,
            "order": null,
            "_view_module_version": "1.2.0",
            "grid_template_areas": null,
            "object_position": null,
            "object_fit": null,
            "grid_auto_columns": null,
            "margin": null,
            "display": null,
            "left": null
          }
        },
        "189d0added084753995926b21280b41e": {
          "model_module": "@jupyter-widgets/controls",
          "model_name": "HBoxModel",
          "state": {
            "_view_name": "HBoxView",
            "_dom_classes": [],
            "_model_name": "HBoxModel",
            "_view_module": "@jupyter-widgets/controls",
            "_model_module_version": "1.5.0",
            "_view_count": null,
            "_view_module_version": "1.5.0",
            "box_style": "",
            "layout": "IPY_MODEL_e442f121d1ef48179b803fdae415e01b",
            "_model_module": "@jupyter-widgets/controls",
            "children": [
              "IPY_MODEL_f67137f0ce4147908b02be9776935fdd",
              "IPY_MODEL_b6fd253198cb409c8d2a042de8bac30f"
            ]
          }
        },
        "e442f121d1ef48179b803fdae415e01b": {
          "model_module": "@jupyter-widgets/base",
          "model_name": "LayoutModel",
          "state": {
            "_view_name": "LayoutView",
            "grid_template_rows": null,
            "right": null,
            "justify_content": null,
            "_view_module": "@jupyter-widgets/base",
            "overflow": null,
            "_model_module_version": "1.2.0",
            "_view_count": null,
            "flex_flow": null,
            "width": null,
            "min_width": null,
            "border": null,
            "align_items": null,
            "bottom": null,
            "_model_module": "@jupyter-widgets/base",
            "top": null,
            "grid_column": null,
            "overflow_y": null,
            "overflow_x": null,
            "grid_auto_flow": null,
            "grid_area": null,
            "grid_template_columns": null,
            "flex": null,
            "_model_name": "LayoutModel",
            "justify_items": null,
            "grid_row": null,
            "max_height": null,
            "align_content": null,
            "visibility": null,
            "align_self": null,
            "height": null,
            "min_height": null,
            "padding": null,
            "grid_auto_rows": null,
            "grid_gap": null,
            "max_width": null,
            "order": null,
            "_view_module_version": "1.2.0",
            "grid_template_areas": null,
            "object_position": null,
            "object_fit": null,
            "grid_auto_columns": null,
            "margin": null,
            "display": null,
            "left": null
          }
        },
        "f67137f0ce4147908b02be9776935fdd": {
          "model_module": "@jupyter-widgets/controls",
          "model_name": "FloatProgressModel",
          "state": {
            "_view_name": "ProgressView",
            "style": "IPY_MODEL_886166fcec6c4ddc97ee9e6c1bb8fc2c",
            "_dom_classes": [],
            "description": "",
            "_model_name": "FloatProgressModel",
            "bar_style": "success",
            "max": 1,
            "_view_module": "@jupyter-widgets/controls",
            "_model_module_version": "1.5.0",
            "value": 1,
            "_view_count": null,
            "_view_module_version": "1.5.0",
            "orientation": "horizontal",
            "min": 0,
            "description_tooltip": null,
            "_model_module": "@jupyter-widgets/controls",
            "layout": "IPY_MODEL_55c76f4371b0431d84e6b293323b1e03"
          }
        },
        "b6fd253198cb409c8d2a042de8bac30f": {
          "model_module": "@jupyter-widgets/controls",
          "model_name": "HTMLModel",
          "state": {
            "_view_name": "HTMLView",
            "style": "IPY_MODEL_fd68d0b7b5c046c6b94b178c6d706891",
            "_dom_classes": [],
            "description": "",
            "_model_name": "HTMLModel",
            "placeholder": "​",
            "_view_module": "@jupyter-widgets/controls",
            "_model_module_version": "1.5.0",
            "value": " 32768/? [00:01&lt;00:00, 28883.40it/s]",
            "_view_count": null,
            "_view_module_version": "1.5.0",
            "description_tooltip": null,
            "_model_module": "@jupyter-widgets/controls",
            "layout": "IPY_MODEL_55bd576df09741ea8e34a49bc97282bf"
          }
        },
        "886166fcec6c4ddc97ee9e6c1bb8fc2c": {
          "model_module": "@jupyter-widgets/controls",
          "model_name": "ProgressStyleModel",
          "state": {
            "_view_name": "StyleView",
            "_model_name": "ProgressStyleModel",
            "description_width": "initial",
            "_view_module": "@jupyter-widgets/base",
            "_model_module_version": "1.5.0",
            "_view_count": null,
            "_view_module_version": "1.2.0",
            "bar_color": null,
            "_model_module": "@jupyter-widgets/controls"
          }
        },
        "55c76f4371b0431d84e6b293323b1e03": {
          "model_module": "@jupyter-widgets/base",
          "model_name": "LayoutModel",
          "state": {
            "_view_name": "LayoutView",
            "grid_template_rows": null,
            "right": null,
            "justify_content": null,
            "_view_module": "@jupyter-widgets/base",
            "overflow": null,
            "_model_module_version": "1.2.0",
            "_view_count": null,
            "flex_flow": null,
            "width": null,
            "min_width": null,
            "border": null,
            "align_items": null,
            "bottom": null,
            "_model_module": "@jupyter-widgets/base",
            "top": null,
            "grid_column": null,
            "overflow_y": null,
            "overflow_x": null,
            "grid_auto_flow": null,
            "grid_area": null,
            "grid_template_columns": null,
            "flex": null,
            "_model_name": "LayoutModel",
            "justify_items": null,
            "grid_row": null,
            "max_height": null,
            "align_content": null,
            "visibility": null,
            "align_self": null,
            "height": null,
            "min_height": null,
            "padding": null,
            "grid_auto_rows": null,
            "grid_gap": null,
            "max_width": null,
            "order": null,
            "_view_module_version": "1.2.0",
            "grid_template_areas": null,
            "object_position": null,
            "object_fit": null,
            "grid_auto_columns": null,
            "margin": null,
            "display": null,
            "left": null
          }
        },
        "fd68d0b7b5c046c6b94b178c6d706891": {
          "model_module": "@jupyter-widgets/controls",
          "model_name": "DescriptionStyleModel",
          "state": {
            "_view_name": "StyleView",
            "_model_name": "DescriptionStyleModel",
            "description_width": "",
            "_view_module": "@jupyter-widgets/base",
            "_model_module_version": "1.5.0",
            "_view_count": null,
            "_view_module_version": "1.2.0",
            "_model_module": "@jupyter-widgets/controls"
          }
        },
        "55bd576df09741ea8e34a49bc97282bf": {
          "model_module": "@jupyter-widgets/base",
          "model_name": "LayoutModel",
          "state": {
            "_view_name": "LayoutView",
            "grid_template_rows": null,
            "right": null,
            "justify_content": null,
            "_view_module": "@jupyter-widgets/base",
            "overflow": null,
            "_model_module_version": "1.2.0",
            "_view_count": null,
            "flex_flow": null,
            "width": null,
            "min_width": null,
            "border": null,
            "align_items": null,
            "bottom": null,
            "_model_module": "@jupyter-widgets/base",
            "top": null,
            "grid_column": null,
            "overflow_y": null,
            "overflow_x": null,
            "grid_auto_flow": null,
            "grid_area": null,
            "grid_template_columns": null,
            "flex": null,
            "_model_name": "LayoutModel",
            "justify_items": null,
            "grid_row": null,
            "max_height": null,
            "align_content": null,
            "visibility": null,
            "align_self": null,
            "height": null,
            "min_height": null,
            "padding": null,
            "grid_auto_rows": null,
            "grid_gap": null,
            "max_width": null,
            "order": null,
            "_view_module_version": "1.2.0",
            "grid_template_areas": null,
            "object_position": null,
            "object_fit": null,
            "grid_auto_columns": null,
            "margin": null,
            "display": null,
            "left": null
          }
        },
        "49cf450aaa074c3889d89a725cf32bbd": {
          "model_module": "@jupyter-widgets/controls",
          "model_name": "HBoxModel",
          "state": {
            "_view_name": "HBoxView",
            "_dom_classes": [],
            "_model_name": "HBoxModel",
            "_view_module": "@jupyter-widgets/controls",
            "_model_module_version": "1.5.0",
            "_view_count": null,
            "_view_module_version": "1.5.0",
            "box_style": "",
            "layout": "IPY_MODEL_00fe8d58576e45a9a5118a4db71eff00",
            "_model_module": "@jupyter-widgets/controls",
            "children": [
              "IPY_MODEL_fcd0634df36b42e5bb289e91c2ee1e20",
              "IPY_MODEL_580c87fca6664dd0907e6b846e9b49f7"
            ]
          }
        },
        "00fe8d58576e45a9a5118a4db71eff00": {
          "model_module": "@jupyter-widgets/base",
          "model_name": "LayoutModel",
          "state": {
            "_view_name": "LayoutView",
            "grid_template_rows": null,
            "right": null,
            "justify_content": null,
            "_view_module": "@jupyter-widgets/base",
            "overflow": null,
            "_model_module_version": "1.2.0",
            "_view_count": null,
            "flex_flow": null,
            "width": null,
            "min_width": null,
            "border": null,
            "align_items": null,
            "bottom": null,
            "_model_module": "@jupyter-widgets/base",
            "top": null,
            "grid_column": null,
            "overflow_y": null,
            "overflow_x": null,
            "grid_auto_flow": null,
            "grid_area": null,
            "grid_template_columns": null,
            "flex": null,
            "_model_name": "LayoutModel",
            "justify_items": null,
            "grid_row": null,
            "max_height": null,
            "align_content": null,
            "visibility": null,
            "align_self": null,
            "height": null,
            "min_height": null,
            "padding": null,
            "grid_auto_rows": null,
            "grid_gap": null,
            "max_width": null,
            "order": null,
            "_view_module_version": "1.2.0",
            "grid_template_areas": null,
            "object_position": null,
            "object_fit": null,
            "grid_auto_columns": null,
            "margin": null,
            "display": null,
            "left": null
          }
        },
        "fcd0634df36b42e5bb289e91c2ee1e20": {
          "model_module": "@jupyter-widgets/controls",
          "model_name": "FloatProgressModel",
          "state": {
            "_view_name": "ProgressView",
            "style": "IPY_MODEL_3c96a34aa99847ac9231ae6d3ebe2669",
            "_dom_classes": [],
            "description": "",
            "_model_name": "FloatProgressModel",
            "bar_style": "success",
            "max": 1,
            "_view_module": "@jupyter-widgets/controls",
            "_model_module_version": "1.5.0",
            "value": 1,
            "_view_count": null,
            "_view_module_version": "1.5.0",
            "orientation": "horizontal",
            "min": 0,
            "description_tooltip": null,
            "_model_module": "@jupyter-widgets/controls",
            "layout": "IPY_MODEL_312cecc361f94efe9c7c698a5b5fd34d"
          }
        },
        "580c87fca6664dd0907e6b846e9b49f7": {
          "model_module": "@jupyter-widgets/controls",
          "model_name": "HTMLModel",
          "state": {
            "_view_name": "HTMLView",
            "style": "IPY_MODEL_a8c2a33bb77c4c8eb2841f837dadccd6",
            "_dom_classes": [],
            "description": "",
            "_model_name": "HTMLModel",
            "placeholder": "​",
            "_view_module": "@jupyter-widgets/controls",
            "_model_module_version": "1.5.0",
            "value": " 1654784/? [00:00&lt;00:00, 1993673.47it/s]",
            "_view_count": null,
            "_view_module_version": "1.5.0",
            "description_tooltip": null,
            "_model_module": "@jupyter-widgets/controls",
            "layout": "IPY_MODEL_36a95ef24fb94221ad129d441f8f820b"
          }
        },
        "3c96a34aa99847ac9231ae6d3ebe2669": {
          "model_module": "@jupyter-widgets/controls",
          "model_name": "ProgressStyleModel",
          "state": {
            "_view_name": "StyleView",
            "_model_name": "ProgressStyleModel",
            "description_width": "initial",
            "_view_module": "@jupyter-widgets/base",
            "_model_module_version": "1.5.0",
            "_view_count": null,
            "_view_module_version": "1.2.0",
            "bar_color": null,
            "_model_module": "@jupyter-widgets/controls"
          }
        },
        "312cecc361f94efe9c7c698a5b5fd34d": {
          "model_module": "@jupyter-widgets/base",
          "model_name": "LayoutModel",
          "state": {
            "_view_name": "LayoutView",
            "grid_template_rows": null,
            "right": null,
            "justify_content": null,
            "_view_module": "@jupyter-widgets/base",
            "overflow": null,
            "_model_module_version": "1.2.0",
            "_view_count": null,
            "flex_flow": null,
            "width": null,
            "min_width": null,
            "border": null,
            "align_items": null,
            "bottom": null,
            "_model_module": "@jupyter-widgets/base",
            "top": null,
            "grid_column": null,
            "overflow_y": null,
            "overflow_x": null,
            "grid_auto_flow": null,
            "grid_area": null,
            "grid_template_columns": null,
            "flex": null,
            "_model_name": "LayoutModel",
            "justify_items": null,
            "grid_row": null,
            "max_height": null,
            "align_content": null,
            "visibility": null,
            "align_self": null,
            "height": null,
            "min_height": null,
            "padding": null,
            "grid_auto_rows": null,
            "grid_gap": null,
            "max_width": null,
            "order": null,
            "_view_module_version": "1.2.0",
            "grid_template_areas": null,
            "object_position": null,
            "object_fit": null,
            "grid_auto_columns": null,
            "margin": null,
            "display": null,
            "left": null
          }
        },
        "a8c2a33bb77c4c8eb2841f837dadccd6": {
          "model_module": "@jupyter-widgets/controls",
          "model_name": "DescriptionStyleModel",
          "state": {
            "_view_name": "StyleView",
            "_model_name": "DescriptionStyleModel",
            "description_width": "",
            "_view_module": "@jupyter-widgets/base",
            "_model_module_version": "1.5.0",
            "_view_count": null,
            "_view_module_version": "1.2.0",
            "_model_module": "@jupyter-widgets/controls"
          }
        },
        "36a95ef24fb94221ad129d441f8f820b": {
          "model_module": "@jupyter-widgets/base",
          "model_name": "LayoutModel",
          "state": {
            "_view_name": "LayoutView",
            "grid_template_rows": null,
            "right": null,
            "justify_content": null,
            "_view_module": "@jupyter-widgets/base",
            "overflow": null,
            "_model_module_version": "1.2.0",
            "_view_count": null,
            "flex_flow": null,
            "width": null,
            "min_width": null,
            "border": null,
            "align_items": null,
            "bottom": null,
            "_model_module": "@jupyter-widgets/base",
            "top": null,
            "grid_column": null,
            "overflow_y": null,
            "overflow_x": null,
            "grid_auto_flow": null,
            "grid_area": null,
            "grid_template_columns": null,
            "flex": null,
            "_model_name": "LayoutModel",
            "justify_items": null,
            "grid_row": null,
            "max_height": null,
            "align_content": null,
            "visibility": null,
            "align_self": null,
            "height": null,
            "min_height": null,
            "padding": null,
            "grid_auto_rows": null,
            "grid_gap": null,
            "max_width": null,
            "order": null,
            "_view_module_version": "1.2.0",
            "grid_template_areas": null,
            "object_position": null,
            "object_fit": null,
            "grid_auto_columns": null,
            "margin": null,
            "display": null,
            "left": null
          }
        },
        "aea17e4094254694ab9070035cb13cc9": {
          "model_module": "@jupyter-widgets/controls",
          "model_name": "HBoxModel",
          "state": {
            "_view_name": "HBoxView",
            "_dom_classes": [],
            "_model_name": "HBoxModel",
            "_view_module": "@jupyter-widgets/controls",
            "_model_module_version": "1.5.0",
            "_view_count": null,
            "_view_module_version": "1.5.0",
            "box_style": "",
            "layout": "IPY_MODEL_ac748a8abd8543c1a2543141162b3c4f",
            "_model_module": "@jupyter-widgets/controls",
            "children": [
              "IPY_MODEL_a392754067ce4f9cb0b9c3c6ec564170",
              "IPY_MODEL_b02d68d151e9485187e59fa5d09ae800"
            ]
          }
        },
        "ac748a8abd8543c1a2543141162b3c4f": {
          "model_module": "@jupyter-widgets/base",
          "model_name": "LayoutModel",
          "state": {
            "_view_name": "LayoutView",
            "grid_template_rows": null,
            "right": null,
            "justify_content": null,
            "_view_module": "@jupyter-widgets/base",
            "overflow": null,
            "_model_module_version": "1.2.0",
            "_view_count": null,
            "flex_flow": null,
            "width": null,
            "min_width": null,
            "border": null,
            "align_items": null,
            "bottom": null,
            "_model_module": "@jupyter-widgets/base",
            "top": null,
            "grid_column": null,
            "overflow_y": null,
            "overflow_x": null,
            "grid_auto_flow": null,
            "grid_area": null,
            "grid_template_columns": null,
            "flex": null,
            "_model_name": "LayoutModel",
            "justify_items": null,
            "grid_row": null,
            "max_height": null,
            "align_content": null,
            "visibility": null,
            "align_self": null,
            "height": null,
            "min_height": null,
            "padding": null,
            "grid_auto_rows": null,
            "grid_gap": null,
            "max_width": null,
            "order": null,
            "_view_module_version": "1.2.0",
            "grid_template_areas": null,
            "object_position": null,
            "object_fit": null,
            "grid_auto_columns": null,
            "margin": null,
            "display": null,
            "left": null
          }
        },
        "a392754067ce4f9cb0b9c3c6ec564170": {
          "model_module": "@jupyter-widgets/controls",
          "model_name": "FloatProgressModel",
          "state": {
            "_view_name": "ProgressView",
            "style": "IPY_MODEL_393bb4ca34b94f9e831adffea4fe757f",
            "_dom_classes": [],
            "description": "  0%",
            "_model_name": "FloatProgressModel",
            "bar_style": "info",
            "max": 1,
            "_view_module": "@jupyter-widgets/controls",
            "_model_module_version": "1.5.0",
            "value": 0,
            "_view_count": null,
            "_view_module_version": "1.5.0",
            "orientation": "horizontal",
            "min": 0,
            "description_tooltip": null,
            "_model_module": "@jupyter-widgets/controls",
            "layout": "IPY_MODEL_85085c89cf044d2586e3cb0d563ed2fb"
          }
        },
        "b02d68d151e9485187e59fa5d09ae800": {
          "model_module": "@jupyter-widgets/controls",
          "model_name": "HTMLModel",
          "state": {
            "_view_name": "HTMLView",
            "style": "IPY_MODEL_dfd56ffc8c2742fd88408c5c3734c9ee",
            "_dom_classes": [],
            "description": "",
            "_model_name": "HTMLModel",
            "placeholder": "​",
            "_view_module": "@jupyter-widgets/controls",
            "_model_module_version": "1.5.0",
            "value": " 0/4542 [00:00&lt;?, ?it/s]",
            "_view_count": null,
            "_view_module_version": "1.5.0",
            "description_tooltip": null,
            "_model_module": "@jupyter-widgets/controls",
            "layout": "IPY_MODEL_27a8185f5cb2442588d1c4710705f65c"
          }
        },
        "393bb4ca34b94f9e831adffea4fe757f": {
          "model_module": "@jupyter-widgets/controls",
          "model_name": "ProgressStyleModel",
          "state": {
            "_view_name": "StyleView",
            "_model_name": "ProgressStyleModel",
            "description_width": "initial",
            "_view_module": "@jupyter-widgets/base",
            "_model_module_version": "1.5.0",
            "_view_count": null,
            "_view_module_version": "1.2.0",
            "bar_color": null,
            "_model_module": "@jupyter-widgets/controls"
          }
        },
        "85085c89cf044d2586e3cb0d563ed2fb": {
          "model_module": "@jupyter-widgets/base",
          "model_name": "LayoutModel",
          "state": {
            "_view_name": "LayoutView",
            "grid_template_rows": null,
            "right": null,
            "justify_content": null,
            "_view_module": "@jupyter-widgets/base",
            "overflow": null,
            "_model_module_version": "1.2.0",
            "_view_count": null,
            "flex_flow": null,
            "width": null,
            "min_width": null,
            "border": null,
            "align_items": null,
            "bottom": null,
            "_model_module": "@jupyter-widgets/base",
            "top": null,
            "grid_column": null,
            "overflow_y": null,
            "overflow_x": null,
            "grid_auto_flow": null,
            "grid_area": null,
            "grid_template_columns": null,
            "flex": null,
            "_model_name": "LayoutModel",
            "justify_items": null,
            "grid_row": null,
            "max_height": null,
            "align_content": null,
            "visibility": null,
            "align_self": null,
            "height": null,
            "min_height": null,
            "padding": null,
            "grid_auto_rows": null,
            "grid_gap": null,
            "max_width": null,
            "order": null,
            "_view_module_version": "1.2.0",
            "grid_template_areas": null,
            "object_position": null,
            "object_fit": null,
            "grid_auto_columns": null,
            "margin": null,
            "display": null,
            "left": null
          }
        },
        "dfd56ffc8c2742fd88408c5c3734c9ee": {
          "model_module": "@jupyter-widgets/controls",
          "model_name": "DescriptionStyleModel",
          "state": {
            "_view_name": "StyleView",
            "_model_name": "DescriptionStyleModel",
            "description_width": "",
            "_view_module": "@jupyter-widgets/base",
            "_model_module_version": "1.5.0",
            "_view_count": null,
            "_view_module_version": "1.2.0",
            "_model_module": "@jupyter-widgets/controls"
          }
        },
        "27a8185f5cb2442588d1c4710705f65c": {
          "model_module": "@jupyter-widgets/base",
          "model_name": "LayoutModel",
          "state": {
            "_view_name": "LayoutView",
            "grid_template_rows": null,
            "right": null,
            "justify_content": null,
            "_view_module": "@jupyter-widgets/base",
            "overflow": null,
            "_model_module_version": "1.2.0",
            "_view_count": null,
            "flex_flow": null,
            "width": null,
            "min_width": null,
            "border": null,
            "align_items": null,
            "bottom": null,
            "_model_module": "@jupyter-widgets/base",
            "top": null,
            "grid_column": null,
            "overflow_y": null,
            "overflow_x": null,
            "grid_auto_flow": null,
            "grid_area": null,
            "grid_template_columns": null,
            "flex": null,
            "_model_name": "LayoutModel",
            "justify_items": null,
            "grid_row": null,
            "max_height": null,
            "align_content": null,
            "visibility": null,
            "align_self": null,
            "height": null,
            "min_height": null,
            "padding": null,
            "grid_auto_rows": null,
            "grid_gap": null,
            "max_width": null,
            "order": null,
            "_view_module_version": "1.2.0",
            "grid_template_areas": null,
            "object_position": null,
            "object_fit": null,
            "grid_auto_columns": null,
            "margin": null,
            "display": null,
            "left": null
          }
        }
      }
    }
  },
  "cells": [
    {
      "cell_type": "markdown",
      "metadata": {
        "colab_type": "text",
        "id": "BN7Va6PVugkr"
      },
      "source": [
        "# PyTorchでの学習・推論を高速化するコツ集\n",
        "## MNISTでいろいろ試す\n",
        "### 初期設定\n"
      ]
    },
    {
      "cell_type": "code",
      "metadata": {
        "colab_type": "code",
        "id": "phHwkV-Lubu5",
        "colab": {}
      },
      "source": [
        "import torch\n",
        "import torch.nn as nn\n",
        "import torch.nn.functional as F\n",
        "import torch.optim as optim\n",
        "from torchvision import datasets, transforms"
      ],
      "execution_count": 1,
      "outputs": []
    },
    {
      "cell_type": "code",
      "metadata": {
        "colab_type": "code",
        "id": "W36WLSNQuo3J",
        "colab": {
          "base_uri": "https://localhost:8080/",
          "height": 36
        },
        "outputId": "721cba84-5563-4b11-d4e5-619922e962a5"
      },
      "source": [
        "# pytorch version 確認\n",
        "torch.__version__  # 1.6.0+cu101\n"
      ],
      "execution_count": 2,
      "outputs": [
        {
          "output_type": "execute_result",
          "data": {
            "application/vnd.google.colaboratory.intrinsic+json": {
              "type": "string"
            },
            "text/plain": [
              "'1.6.0+cu101'"
            ]
          },
          "metadata": {
            "tags": []
          },
          "execution_count": 2
        }
      ]
    },
    {
      "cell_type": "code",
      "metadata": {
        "colab_type": "code",
        "id": "6iUX0nTSvmgQ",
        "colab": {
          "base_uri": "https://localhost:8080/",
          "height": 34
        },
        "outputId": "80ad5298-9310-467b-b5f1-1baa05e94dc3"
      },
      "source": [
        "# GPU使用の確認\n",
        "# Google Colaboratoryでは「ランタイム」→「ランタイムタイムを変更」でGPUに\n",
        "\n",
        "device = torch.device(\"cuda\" if torch.cuda.is_available() else \"cpu\")\n",
        "print(device)  # cuda(GPU)\n"
      ],
      "execution_count": 3,
      "outputs": [
        {
          "output_type": "stream",
          "text": [
            "cuda\n"
          ],
          "name": "stdout"
        }
      ]
    },
    {
      "cell_type": "code",
      "metadata": {
        "colab_type": "code",
        "id": "u80XR56hMmrJ",
        "colab": {
          "base_uri": "https://localhost:8080/",
          "height": 366
        },
        "outputId": "2c1ff142-0400-4663-9fbd-445a27889d1f"
      },
      "source": [
        "# GPUの確認\n",
        "!nvidia-smi"
      ],
      "execution_count": 4,
      "outputs": [
        {
          "output_type": "stream",
          "text": [
            "Tue Sep  8 21:03:08 2020       \n",
            "+-----------------------------------------------------------------------------+\n",
            "| NVIDIA-SMI 450.66       Driver Version: 418.67       CUDA Version: 10.1     |\n",
            "|-------------------------------+----------------------+----------------------+\n",
            "| GPU  Name        Persistence-M| Bus-Id        Disp.A | Volatile Uncorr. ECC |\n",
            "| Fan  Temp  Perf  Pwr:Usage/Cap|         Memory-Usage | GPU-Util  Compute M. |\n",
            "|                               |                      |               MIG M. |\n",
            "|===============================+======================+======================|\n",
            "|   0  Tesla P100-PCIE...  Off  | 00000000:00:04.0 Off |                    0 |\n",
            "| N/A   34C    P0    26W / 250W |     10MiB / 16280MiB |      0%      Default |\n",
            "|                               |                      |                 ERR! |\n",
            "+-------------------------------+----------------------+----------------------+\n",
            "                                                                               \n",
            "+-----------------------------------------------------------------------------+\n",
            "| Processes:                                                                  |\n",
            "|  GPU   GI   CI        PID   Type   Process name                  GPU Memory |\n",
            "|        ID   ID                                                   Usage      |\n",
            "|=============================================================================|\n",
            "|  No running processes found                                                 |\n",
            "+-----------------------------------------------------------------------------+\n"
          ],
          "name": "stdout"
        }
      ]
    },
    {
      "cell_type": "markdown",
      "metadata": {
        "colab_type": "text",
        "id": "nlwUkx7-vCLg"
      },
      "source": [
        "### ネットワーク・モデルの設定"
      ]
    },
    {
      "cell_type": "code",
      "metadata": {
        "colab_type": "code",
        "id": "StSi5HrHuiG_",
        "colab": {}
      },
      "source": [
        "# 参考: https://github.com/pytorch/examples/blob/master/mnist/main.py\n",
        "\n",
        "class Net(nn.Module):\n",
        "    def __init__(self):\n",
        "        super(Net, self).__init__()\n",
        "        self.conv1 = nn.Conv2d(1, 32, 3, 1)\n",
        "        self.conv2 = nn.Conv2d(32, 64, 3, 1)\n",
        "        self.dropout1 = nn.Dropout2d(0.25)\n",
        "        self.dropout2 = nn.Dropout2d(0.5)\n",
        "        self.fc1 = nn.Linear(9216, 128)\n",
        "        self.fc2 = nn.Linear(128, 10)\n",
        "\n",
        "    def forward(self, x):\n",
        "        x = self.conv1(x)\n",
        "        x = F.relu(x)\n",
        "        x = self.conv2(x)\n",
        "        x = F.relu(x)\n",
        "        x = F.max_pool2d(x, 2)\n",
        "        x = self.dropout1(x)\n",
        "        x = torch.flatten(x, 1)\n",
        "        x = self.fc1(x)\n",
        "        x = F.relu(x)\n",
        "        x = self.dropout2(x)\n",
        "        x = self.fc2(x)\n",
        "        output = F.log_softmax(x, dim=1)\n",
        "        return output\n",
        "        "
      ],
      "execution_count": 5,
      "outputs": []
    },
    {
      "cell_type": "markdown",
      "metadata": {
        "colab_type": "text",
        "id": "RRYA3snHwJSa"
      },
      "source": [
        "## データセットと前処理の設定\n"
      ]
    },
    {
      "cell_type": "code",
      "metadata": {
        "colab_type": "code",
        "id": "0MTCGMTpvT_c",
        "colab": {
          "base_uri": "https://localhost:8080/",
          "height": 409,
          "referenced_widgets": [
            "aa7633dfa09c47048a966738bd35b4f7",
            "e9521841913d49e7b7a8162c4acdbbcc",
            "60773981a9e241aaa1271efd803bc7ce",
            "38c3dda5dcdb43a48298d852ab138b15",
            "f62679324f1e4f7ea753c6e6382d123c",
            "3348afde616a49a1b9ee14157790c27e",
            "1b0ed308715b4dfcb413547ee291741a",
            "ea0133dc64fe4b8e983cbd2b5ccf2291",
            "189d0added084753995926b21280b41e",
            "e442f121d1ef48179b803fdae415e01b",
            "f67137f0ce4147908b02be9776935fdd",
            "b6fd253198cb409c8d2a042de8bac30f",
            "886166fcec6c4ddc97ee9e6c1bb8fc2c",
            "55c76f4371b0431d84e6b293323b1e03",
            "fd68d0b7b5c046c6b94b178c6d706891",
            "55bd576df09741ea8e34a49bc97282bf",
            "49cf450aaa074c3889d89a725cf32bbd",
            "00fe8d58576e45a9a5118a4db71eff00",
            "fcd0634df36b42e5bb289e91c2ee1e20",
            "580c87fca6664dd0907e6b846e9b49f7",
            "3c96a34aa99847ac9231ae6d3ebe2669",
            "312cecc361f94efe9c7c698a5b5fd34d",
            "a8c2a33bb77c4c8eb2841f837dadccd6",
            "36a95ef24fb94221ad129d441f8f820b",
            "aea17e4094254694ab9070035cb13cc9",
            "ac748a8abd8543c1a2543141162b3c4f",
            "a392754067ce4f9cb0b9c3c6ec564170",
            "b02d68d151e9485187e59fa5d09ae800",
            "393bb4ca34b94f9e831adffea4fe757f",
            "85085c89cf044d2586e3cb0d563ed2fb",
            "dfd56ffc8c2742fd88408c5c3734c9ee",
            "27a8185f5cb2442588d1c4710705f65c"
          ]
        },
        "outputId": "19748d1e-3f7b-43ad-8a61-1fd692fb44b5"
      },
      "source": [
        "# 前処理\n",
        "transform=transforms.Compose([\n",
        "    transforms.ToTensor(),\n",
        "    transforms.Normalize((0.1307,), (0.3081,))\n",
        "    ])\n",
        "\n",
        "# 訓練データ\n",
        "dataset1 = datasets.MNIST('.', train=True, download=True,\n",
        "                    transform=transform)\n",
        "\n",
        "# 検証データ\n",
        "dataset2 = datasets.MNIST('.', train=False,\n",
        "                    transform=transform)\n"
      ],
      "execution_count": 6,
      "outputs": [
        {
          "output_type": "stream",
          "text": [
            "Downloading http://yann.lecun.com/exdb/mnist/train-images-idx3-ubyte.gz to ./MNIST/raw/train-images-idx3-ubyte.gz\n"
          ],
          "name": "stdout"
        },
        {
          "output_type": "display_data",
          "data": {
            "application/vnd.jupyter.widget-view+json": {
              "model_id": "aa7633dfa09c47048a966738bd35b4f7",
              "version_minor": 0,
              "version_major": 2
            },
            "text/plain": [
              "HBox(children=(FloatProgress(value=1.0, bar_style='info', max=1.0), HTML(value='')))"
            ]
          },
          "metadata": {
            "tags": []
          }
        },
        {
          "output_type": "stream",
          "text": [
            "Extracting ./MNIST/raw/train-images-idx3-ubyte.gz to ./MNIST/raw\n",
            "Downloading http://yann.lecun.com/exdb/mnist/train-labels-idx1-ubyte.gz to ./MNIST/raw/train-labels-idx1-ubyte.gz\n"
          ],
          "name": "stdout"
        },
        {
          "output_type": "display_data",
          "data": {
            "application/vnd.jupyter.widget-view+json": {
              "model_id": "189d0added084753995926b21280b41e",
              "version_minor": 0,
              "version_major": 2
            },
            "text/plain": [
              "HBox(children=(FloatProgress(value=1.0, bar_style='info', max=1.0), HTML(value='')))"
            ]
          },
          "metadata": {
            "tags": []
          }
        },
        {
          "output_type": "stream",
          "text": [
            "Extracting ./MNIST/raw/train-labels-idx1-ubyte.gz to ./MNIST/raw\n",
            "Downloading http://yann.lecun.com/exdb/mnist/t10k-images-idx3-ubyte.gz to ./MNIST/raw/t10k-images-idx3-ubyte.gz\n"
          ],
          "name": "stdout"
        },
        {
          "output_type": "display_data",
          "data": {
            "application/vnd.jupyter.widget-view+json": {
              "model_id": "49cf450aaa074c3889d89a725cf32bbd",
              "version_minor": 0,
              "version_major": 2
            },
            "text/plain": [
              "HBox(children=(FloatProgress(value=1.0, bar_style='info', max=1.0), HTML(value='')))"
            ]
          },
          "metadata": {
            "tags": []
          }
        },
        {
          "output_type": "stream",
          "text": [
            "Extracting ./MNIST/raw/t10k-images-idx3-ubyte.gz to ./MNIST/raw\n",
            "Downloading http://yann.lecun.com/exdb/mnist/t10k-labels-idx1-ubyte.gz to ./MNIST/raw/t10k-labels-idx1-ubyte.gz\n",
            "\n",
            "\n"
          ],
          "name": "stdout"
        },
        {
          "output_type": "display_data",
          "data": {
            "application/vnd.jupyter.widget-view+json": {
              "model_id": "aea17e4094254694ab9070035cb13cc9",
              "version_minor": 0,
              "version_major": 2
            },
            "text/plain": [
              "HBox(children=(FloatProgress(value=1.0, bar_style='info', max=1.0), HTML(value='')))"
            ]
          },
          "metadata": {
            "tags": []
          }
        },
        {
          "output_type": "stream",
          "text": [
            "Extracting ./MNIST/raw/t10k-labels-idx1-ubyte.gz to ./MNIST/raw\n",
            "Processing...\n",
            "Done!\n"
          ],
          "name": "stdout"
        },
        {
          "output_type": "stream",
          "text": [
            "/usr/local/lib/python3.6/dist-packages/torchvision/datasets/mnist.py:469: UserWarning: The given NumPy array is not writeable, and PyTorch does not support non-writeable tensors. This means you can write to the underlying (supposedly non-writeable) NumPy array using the tensor. You may want to copy the array to protect its data or make it writeable before converting it to a tensor. This type of warning will be suppressed for the rest of this program. (Triggered internally at  /pytorch/torch/csrc/utils/tensor_numpy.cpp:141.)\n",
            "  return torch.from_numpy(parsed.astype(m[2], copy=False)).view(*s)\n"
          ],
          "name": "stderr"
        }
      ]
    },
    {
      "cell_type": "markdown",
      "metadata": {
        "colab_type": "text",
        "id": "4a8mehDywci_"
      },
      "source": [
        "## 訓練と検証の関数作成"
      ]
    },
    {
      "cell_type": "code",
      "metadata": {
        "colab_type": "code",
        "id": "qr0odUyHwfiy",
        "colab": {}
      },
      "source": [
        "def train(model, device, train_loader, optimizer, epoch):\n",
        "    model.train()  # 訓練モードに\n",
        "    for batch_idx, (data, target) in enumerate(train_loader):\n",
        "        # データ取り出し\n",
        "        data, target = data.to(device), target.to(device)\n",
        "        \n",
        "        optimizer.zero_grad()\n",
        "\n",
        "        # 伝搬\n",
        "        output = model(data)\n",
        "        \n",
        "        # 損失計算とバックプロパゲーション\n",
        "        loss = F.nll_loss(output, target)\n",
        "        loss.backward()\n",
        "        optimizer.step()\n",
        "        \n",
        "        if batch_idx % 100 == 0:\n",
        "            print('Train Epoch: {} [{}/{} ({:.0f}%)]\\tLoss: {:.6f}'.format(\n",
        "                epoch, batch_idx * len(data), len(train_loader.dataset),\n",
        "                100. * batch_idx / len(train_loader), loss.item()))\n"
      ],
      "execution_count": 7,
      "outputs": []
    },
    {
      "cell_type": "code",
      "metadata": {
        "colab_type": "code",
        "id": "gggw3Xr5xjBI",
        "colab": {}
      },
      "source": [
        "def test(model, device, test_loader):\n",
        "    model.eval()  # 検証モードに\n",
        "    test_loss = 0\n",
        "    correct = 0\n",
        "    with torch.no_grad():\n",
        "        for data, target in test_loader:\n",
        "            # データ取り出し\n",
        "            data, target = data.to(device), target.to(device)\n",
        "            output = model(data)\n",
        "            \n",
        "            test_loss += F.nll_loss(output, target, reduction='sum').item()  # sum up batch loss\n",
        "            pred = output.argmax(dim=1, keepdim=True)  # get the index of the max log-probability\n",
        "            correct += pred.eq(target.view_as(pred)).sum().item()\n",
        "\n",
        "    test_loss /= len(test_loader.dataset)\n",
        "\n",
        "    print('\\nTest set: Average loss: {:.4f}, Accuracy: {}/{} ({:.0f}%)\\n'.format(\n",
        "        test_loss, correct, len(test_loader.dataset),\n",
        "        100. * correct / len(test_loader.dataset)))"
      ],
      "execution_count": 8,
      "outputs": []
    },
    {
      "cell_type": "markdown",
      "metadata": {
        "colab_type": "text",
        "id": "cPaYJY-zyXWh"
      },
      "source": [
        "## 1. DataLoaderについて"
      ]
    },
    {
      "cell_type": "code",
      "metadata": {
        "colab_type": "code",
        "id": "GDIy6NRDykbu",
        "colab": {
          "base_uri": "https://localhost:8080/",
          "height": 34
        },
        "outputId": "590c67f8-f504-4050-e695-6d68a81c6a09"
      },
      "source": [
        "# CPUのコア数を確認\n",
        "import os\n",
        "os.cpu_count()  # コア\n"
      ],
      "execution_count": 9,
      "outputs": [
        {
          "output_type": "execute_result",
          "data": {
            "text/plain": [
              "2"
            ]
          },
          "metadata": {
            "tags": []
          },
          "execution_count": 9
        }
      ]
    },
    {
      "cell_type": "code",
      "metadata": {
        "colab_type": "code",
        "id": "koQGWAUW2VVY",
        "colab": {}
      },
      "source": [
        "# 関数化\n",
        "import time\n",
        "\n",
        "def MNIST_train(optimizer, model, device, train_loader, test_loader): \n",
        "    # デフォルトで訓練\n",
        "    epochs = 1\n",
        "\n",
        "    start = time.time()\n",
        "\n",
        "    # 処理\n",
        "    for epoch in range(1, epochs+1):\n",
        "        train(model, device, train_loader, optimizer, epoch)\n",
        "        test(model, device, test_loader)\n",
        "\n",
        "    # かかった時間\n",
        "    print(\"=======かかった時間========\")\n",
        "    print(time.time() - start)\n"
      ],
      "execution_count": 10,
      "outputs": []
    },
    {
      "cell_type": "markdown",
      "metadata": {
        "colab_type": "text",
        "id": "amy9elpU1pAS"
      },
      "source": [
        "### 1.1.1 デフォルト"
      ]
    },
    {
      "cell_type": "code",
      "metadata": {
        "id": "HwytfvmeIrWQ",
        "colab_type": "code",
        "colab": {}
      },
      "source": [
        "# ミニバッチのサイズ\n",
        "mini_batch_size = 512"
      ],
      "execution_count": 11,
      "outputs": []
    },
    {
      "cell_type": "code",
      "metadata": {
        "colab_type": "code",
        "id": "FoZOsCZUJpJK",
        "colab": {}
      },
      "source": [
        "# モデル、学習率とoptimizerを設定\n",
        "model = Net().to(device)\n",
        "lr_rate = 0.1\n",
        "optimizer = optim.Adadelta(model.parameters(), lr=lr_rate)"
      ],
      "execution_count": 12,
      "outputs": []
    },
    {
      "cell_type": "code",
      "metadata": {
        "colab_type": "code",
        "id": "27p3gm3Fy5B4",
        "colab": {}
      },
      "source": [
        "# デフォルト設定のDataLoaderの場合\n",
        "train_loader_default = torch.utils.data.DataLoader(dataset1,batch_size=mini_batch_size)\n",
        "test_loader_default = torch.utils.data.DataLoader(dataset2,batch_size=mini_batch_size)\n"
      ],
      "execution_count": 13,
      "outputs": []
    },
    {
      "cell_type": "code",
      "metadata": {
        "colab_type": "code",
        "id": "NWxp1-Gmyjgh",
        "colab": {
          "base_uri": "https://localhost:8080/",
          "height": 139
        },
        "outputId": "0d961121-700e-4fbb-b751-312d9050c405"
      },
      "source": [
        "MNIST_train(optimizer, model, device, train_loader_default, test_loader_default)"
      ],
      "execution_count": 14,
      "outputs": [
        {
          "output_type": "stream",
          "text": [
            "Train Epoch: 1 [0/60000 (0%)]\tLoss: 2.306127\n",
            "Train Epoch: 1 [51200/60000 (85%)]\tLoss: 0.328438\n",
            "\n",
            "Test set: Average loss: 0.2787, Accuracy: 9161/10000 (92%)\n",
            "\n",
            "=======かかった時間========\n",
            "8.479081630706787\n"
          ],
          "name": "stdout"
        }
      ]
    },
    {
      "cell_type": "markdown",
      "metadata": {
        "colab_type": "text",
        "id": "x_D9bSz71tp6"
      },
      "source": [
        "### 1.1.2 DataLoaderの引数num_workersを設定"
      ]
    },
    {
      "cell_type": "code",
      "metadata": {
        "colab_type": "code",
        "id": "frIHH3LnJr3j",
        "colab": {}
      },
      "source": [
        "# モデル、学習率とoptimizerを設定\n",
        "model = Net().to(device)\n",
        "lr_rate = 0.1\n",
        "optimizer = optim.Adadelta(model.parameters(), lr=lr_rate)"
      ],
      "execution_count": 15,
      "outputs": []
    },
    {
      "cell_type": "code",
      "metadata": {
        "colab_type": "code",
        "id": "sxfuXKsryhRY",
        "colab": {}
      },
      "source": [
        "# データローダー\n",
        "train_loader_nworker = torch.utils.data.DataLoader(dataset1,batch_size=mini_batch_size, num_workers=os.cpu_count()) \n",
        "test_loader_nworker = torch.utils.data.DataLoader(dataset2,batch_size=mini_batch_size, num_workers=os.cpu_count())"
      ],
      "execution_count": 16,
      "outputs": []
    },
    {
      "cell_type": "code",
      "metadata": {
        "colab_type": "code",
        "id": "64Tdr4iC2ACm",
        "colab": {
          "base_uri": "https://localhost:8080/",
          "height": 139
        },
        "outputId": "996b7774-e8a1-4aeb-f57c-f4b352467bbb"
      },
      "source": [
        "MNIST_train(optimizer, model, device, train_loader_nworker, test_loader_nworker)"
      ],
      "execution_count": 17,
      "outputs": [
        {
          "output_type": "stream",
          "text": [
            "Train Epoch: 1 [0/60000 (0%)]\tLoss: 2.306503\n",
            "Train Epoch: 1 [51200/60000 (85%)]\tLoss: 0.296145\n",
            "\n",
            "Test set: Average loss: 0.2640, Accuracy: 9198/10000 (92%)\n",
            "\n",
            "=======かかった時間========\n",
            "8.013897180557251\n"
          ],
          "name": "stdout"
        }
      ]
    },
    {
      "cell_type": "markdown",
      "metadata": {
        "colab_type": "text",
        "id": "psGTwxv03SUA"
      },
      "source": [
        "### 1.1.3 DataLoaderの引数pin_memoryをTrueに設定"
      ]
    },
    {
      "cell_type": "code",
      "metadata": {
        "colab_type": "code",
        "id": "5QCybqj1JtHA",
        "colab": {}
      },
      "source": [
        "# モデル、学習率とoptimizerを設定\n",
        "model = Net().to(device)\n",
        "lr_rate = 0.1\n",
        "optimizer = optim.Adadelta(model.parameters(), lr=lr_rate)"
      ],
      "execution_count": 18,
      "outputs": []
    },
    {
      "cell_type": "code",
      "metadata": {
        "colab_type": "code",
        "id": "zx3ME-OF2Dlo",
        "colab": {}
      },
      "source": [
        "# データローダー\n",
        "train_loader_pin_memory = torch.utils.data.DataLoader(dataset1,batch_size=mini_batch_size, pin_memory=True) \n",
        "test_loader_pin_memory = torch.utils.data.DataLoader(dataset2,batch_size=mini_batch_size, pin_memory=True)"
      ],
      "execution_count": 19,
      "outputs": []
    },
    {
      "cell_type": "code",
      "metadata": {
        "colab_type": "code",
        "id": "SZnlZ4Io3hGw",
        "colab": {
          "base_uri": "https://localhost:8080/",
          "height": 139
        },
        "outputId": "3a9db88f-daf8-41f6-f5ab-9fde4b096210"
      },
      "source": [
        "MNIST_train(optimizer, model, device, train_loader_pin_memory, test_loader_pin_memory)"
      ],
      "execution_count": 20,
      "outputs": [
        {
          "output_type": "stream",
          "text": [
            "Train Epoch: 1 [0/60000 (0%)]\tLoss: 2.300168\n",
            "Train Epoch: 1 [51200/60000 (85%)]\tLoss: 0.378180\n",
            "\n",
            "Test set: Average loss: 0.3052, Accuracy: 9050/10000 (90%)\n",
            "\n",
            "=======かかった時間========\n",
            "8.52079963684082\n"
          ],
          "name": "stdout"
        }
      ]
    },
    {
      "cell_type": "code",
      "metadata": {
        "id": "lywJSxXgIrWq",
        "colab_type": "code",
        "colab": {}
      },
      "source": [
        "# データローダー\n",
        "train_loader_pin_memory = torch.utils.data.DataLoader(dataset1,batch_size=mini_batch_size, num_workers=os.cpu_count(), pin_memory=True) \n",
        "test_loader_pin_memory = torch.utils.data.DataLoader(dataset2,batch_size=mini_batch_size, num_workers=os.cpu_count(), pin_memory=True)"
      ],
      "execution_count": 21,
      "outputs": []
    },
    {
      "cell_type": "code",
      "metadata": {
        "id": "cvQu9xdRIrWs",
        "colab_type": "code",
        "colab": {
          "base_uri": "https://localhost:8080/",
          "height": 139
        },
        "outputId": "d29fd907-8172-47c6-8f8b-f1738521ef39"
      },
      "source": [
        "MNIST_train(optimizer, model, device, train_loader_pin_memory, test_loader_pin_memory)"
      ],
      "execution_count": 22,
      "outputs": [
        {
          "output_type": "stream",
          "text": [
            "Train Epoch: 1 [0/60000 (0%)]\tLoss: 0.399404\n",
            "Train Epoch: 1 [51200/60000 (85%)]\tLoss: 0.217007\n",
            "\n",
            "Test set: Average loss: 0.2028, Accuracy: 9357/10000 (94%)\n",
            "\n",
            "=======かかった時間========\n",
            "8.253820180892944\n"
          ],
          "name": "stdout"
        }
      ]
    },
    {
      "cell_type": "markdown",
      "metadata": {
        "colab_type": "text",
        "id": "FNRqAYMGI-Fc"
      },
      "source": [
        "## 2. torch.backends.cudnn.benchmark = True"
      ]
    },
    {
      "cell_type": "code",
      "metadata": {
        "colab_type": "code",
        "id": "ecJE2LRYJu8L",
        "colab": {}
      },
      "source": [
        "# モデル、学習率とoptimizerを設定\n",
        "model = Net().to(device)\n",
        "lr_rate = 0.1\n",
        "optimizer = optim.Adadelta(model.parameters(), lr=lr_rate)"
      ],
      "execution_count": 23,
      "outputs": []
    },
    {
      "cell_type": "code",
      "metadata": {
        "colab_type": "code",
        "id": "DMvaisboJxzC",
        "colab": {}
      },
      "source": [
        "# データローダー\n",
        "train_loader_pin_memory = torch.utils.data.DataLoader(dataset1,batch_size=mini_batch_size, num_workers=0, pin_memory=False) \n",
        "test_loader_pin_memory = torch.utils.data.DataLoader(dataset2,batch_size=mini_batch_size, num_workers=0, pin_memory=False)"
      ],
      "execution_count": 24,
      "outputs": []
    },
    {
      "cell_type": "code",
      "metadata": {
        "colab_type": "code",
        "id": "EwxupKr33oX1",
        "colab": {}
      },
      "source": [
        "# 関数化\n",
        "\n",
        "def MNIST_train_cudnn_benchmark_True(optimizer, model, device, train_loader, test_loader): \n",
        "    # デフォルトで訓練\n",
        "    epochs = 1\n",
        "\n",
        "    start = time.time()\n",
        "    \n",
        "    # 追加\n",
        "    torch.backends.cudnn.benchmark = True\n",
        "\n",
        "    # 処理\n",
        "    for epoch in range(1, epochs+1):\n",
        "        train(model, device, train_loader, optimizer, epoch)\n",
        "        test(model, device, test_loader)\n",
        "\n",
        "    # かかった時間\n",
        "    print(\"=======かかった時間========\")\n",
        "    print(time.time() - start)\n",
        "    "
      ],
      "execution_count": 25,
      "outputs": []
    },
    {
      "cell_type": "code",
      "metadata": {
        "colab_type": "code",
        "id": "LRdBs4n-JTbd",
        "colab": {
          "base_uri": "https://localhost:8080/",
          "height": 139
        },
        "outputId": "4110494f-403b-46e1-d0c8-68f59818d003"
      },
      "source": [
        "MNIST_train_cudnn_benchmark_True(optimizer, model, device, train_loader_pin_memory, test_loader_pin_memory)"
      ],
      "execution_count": 26,
      "outputs": [
        {
          "output_type": "stream",
          "text": [
            "Train Epoch: 1 [0/60000 (0%)]\tLoss: 2.317815\n",
            "Train Epoch: 1 [51200/60000 (85%)]\tLoss: 0.305686\n",
            "\n",
            "Test set: Average loss: 0.2599, Accuracy: 9198/10000 (92%)\n",
            "\n",
            "=======かかった時間========\n",
            "8.410441160202026\n"
          ],
          "name": "stdout"
        }
      ]
    },
    {
      "cell_type": "code",
      "metadata": {
        "id": "Nui9YuAiIrW4",
        "colab_type": "code",
        "colab": {}
      },
      "source": [
        "# モデル、学習率とoptimizerを設定\n",
        "model = Net().to(device)\n",
        "lr_rate = 0.1\n",
        "optimizer = optim.Adadelta(model.parameters(), lr=lr_rate)"
      ],
      "execution_count": 27,
      "outputs": []
    },
    {
      "cell_type": "code",
      "metadata": {
        "colab_type": "code",
        "id": "bxbz5UbrPAhb",
        "colab": {}
      },
      "source": [
        "# データローダー\n",
        "train_loader_pin_memory = torch.utils.data.DataLoader(dataset1,batch_size=mini_batch_size, num_workers=os.cpu_count(), pin_memory=True) \n",
        "test_loader_pin_memory = torch.utils.data.DataLoader(dataset2,batch_size=mini_batch_size, num_workers=os.cpu_count(), pin_memory=True)"
      ],
      "execution_count": 28,
      "outputs": []
    },
    {
      "cell_type": "code",
      "metadata": {
        "id": "EoLOmWIiIrW7",
        "colab_type": "code",
        "colab": {
          "base_uri": "https://localhost:8080/",
          "height": 139
        },
        "outputId": "0ff428b9-fdc2-46b0-918f-86d054eb448f"
      },
      "source": [
        "MNIST_train_cudnn_benchmark_True(optimizer, model, device, train_loader_pin_memory, test_loader_pin_memory)"
      ],
      "execution_count": 29,
      "outputs": [
        {
          "output_type": "stream",
          "text": [
            "Train Epoch: 1 [0/60000 (0%)]\tLoss: 2.314690\n",
            "Train Epoch: 1 [51200/60000 (85%)]\tLoss: 0.288278\n",
            "\n",
            "Test set: Average loss: 0.2991, Accuracy: 9075/10000 (91%)\n",
            "\n",
            "=======かかった時間========\n",
            "8.079831838607788\n"
          ],
          "name": "stdout"
        }
      ]
    },
    {
      "cell_type": "markdown",
      "metadata": {
        "id": "pflx_g7nIrW-",
        "colab_type": "text"
      },
      "source": [
        "## JITで単純な計算"
      ]
    },
    {
      "cell_type": "code",
      "metadata": {
        "id": "sjrpaISdIrXC",
        "colab_type": "code",
        "colab": {}
      },
      "source": [
        "x = torch.randn(2000, 30, 200)\n"
      ],
      "execution_count": 30,
      "outputs": []
    },
    {
      "cell_type": "code",
      "metadata": {
        "id": "ex5o8-hGIrW-",
        "colab_type": "code",
        "colab": {}
      },
      "source": [
        "def gelu(x):\n",
        "    return x * 0.5 * (1.0 + torch.erf(x / 1.41421))"
      ],
      "execution_count": 31,
      "outputs": []
    },
    {
      "cell_type": "code",
      "metadata": {
        "id": "s7-83qEjIrXE",
        "colab_type": "code",
        "colab": {
          "base_uri": "https://localhost:8080/",
          "height": 52
        },
        "outputId": "dce732a9-faca-4832-931a-c34dfb9529a7"
      },
      "source": [
        "start = time.time()\n",
        "\n",
        "for i in range(200):\n",
        "    gelu(x)\n",
        "\n",
        "# かかった時間\n",
        "print(\"=======かかった時間========\")\n",
        "print(time.time() - start)\n"
      ],
      "execution_count": 32,
      "outputs": [
        {
          "output_type": "stream",
          "text": [
            "=======かかった時間========\n",
            "12.339202880859375\n"
          ],
          "name": "stdout"
        }
      ]
    },
    {
      "cell_type": "code",
      "metadata": {
        "id": "TR8RYGIeJvb0",
        "colab_type": "code",
        "colab": {}
      },
      "source": [
        "@torch.jit.script\n",
        "def fused_gelu(x):\n",
        "    return x * 0.5 * (1.0 + torch.erf(x / 1.41421))"
      ],
      "execution_count": 33,
      "outputs": []
    },
    {
      "cell_type": "code",
      "metadata": {
        "id": "FBNcO3ItIrXG",
        "colab_type": "code",
        "colab": {
          "base_uri": "https://localhost:8080/",
          "height": 52
        },
        "outputId": "305a6da8-ccbc-4ebb-f3a4-5b5365c54586"
      },
      "source": [
        "start = time.time()\n",
        "\n",
        "for i in range(200):\n",
        "    fused_gelu(x)\n",
        "    \n",
        "# かかった時間\n",
        "print(\"=======かかった時間========\")\n",
        "print(time.time() - start)"
      ],
      "execution_count": 34,
      "outputs": [
        {
          "output_type": "stream",
          "text": [
            "=======かかった時間========\n",
            "12.223289966583252\n"
          ],
          "name": "stdout"
        }
      ]
    },
    {
      "cell_type": "markdown",
      "metadata": {
        "id": "8fdH8M1MIrXJ",
        "colab_type": "text"
      },
      "source": [
        "## PyTorch AMP"
      ]
    },
    {
      "cell_type": "code",
      "metadata": {
        "id": "ngnnQiWZIrXJ",
        "colab_type": "code",
        "colab": {}
      },
      "source": [
        "# https://pytorch.org/docs/stable/notes/amp_examples.html#amp-examples"
      ],
      "execution_count": 35,
      "outputs": []
    },
    {
      "cell_type": "code",
      "metadata": {
        "id": "iynlslG-IrXL",
        "colab_type": "code",
        "colab": {}
      },
      "source": [
        "def train_PyTorchAMP(model, device, train_loader, optimizer, epoch):\n",
        "    model.train()  # 訓練モードに\n",
        "    \n",
        "    scaler = torch.cuda.amp.GradScaler()\n",
        "    \n",
        "    for batch_idx, (data, target) in enumerate(train_loader):\n",
        "        # データ取り出し\n",
        "        data, target = data.to(device), target.to(device)\n",
        "        \n",
        "        optimizer.zero_grad()\n",
        "\n",
        "        # 伝搬\n",
        "        # Runs the forward pass with autocasting.\n",
        "        with torch.cuda.amp.autocast():\n",
        "            output = model(data)\n",
        "            loss = F.nll_loss(output, target)\n",
        "        \n",
        "        # Scales loss.  Calls backward() on scaled loss to create scaled gradients.\n",
        "        # Backward passes under autocast are not recommended.\n",
        "        # Backward ops run in the same dtype autocast chose for corresponding forward ops.\n",
        "        scaler.scale(loss).backward()\n",
        "\n",
        "        \n",
        "        # scaler.step() first unscales the gradients of the optimizer's assigned params.\n",
        "        # If these gradients do not contain infs or NaNs, optimizer.step() is then called,\n",
        "        # otherwise, optimizer.step() is skipped.\n",
        "        scaler.step(optimizer)\n",
        "\n",
        "        # Updates the scale for next iteration.\n",
        "        scaler.update()\n",
        "        \n",
        "        if batch_idx % 100 == 0:\n",
        "            print('Train Epoch: {} [{}/{} ({:.0f}%)]\\tLoss: {:.6f}'.format(\n",
        "                epoch, batch_idx * len(data), len(train_loader.dataset),\n",
        "                100. * batch_idx / len(train_loader), loss.item()))"
      ],
      "execution_count": 36,
      "outputs": []
    },
    {
      "cell_type": "code",
      "metadata": {
        "id": "1EZsaJuQIrXN",
        "colab_type": "code",
        "colab": {}
      },
      "source": [
        "# 関数化\n",
        "\n",
        "def MNIST_train_PyTorchAMP(optimizer, model, device, train_loader, test_loader): \n",
        "    # デフォルトで訓練\n",
        "    epochs = 1\n",
        "    \n",
        "    start = time.time()\n",
        "    \n",
        "    # 追加\n",
        "    torch.backends.cudnn.benchmark = True\n",
        "\n",
        "    # 処理\n",
        "    for epoch in range(1, epochs+1):\n",
        "        train_PyTorchAMP(model, device, train_loader, optimizer, epoch)\n",
        "        test(model, device, test_loader)\n",
        "\n",
        "    # かかった時間\n",
        "    print(\"=======かかった時間========\")\n",
        "    print(time.time() - start)"
      ],
      "execution_count": 37,
      "outputs": []
    },
    {
      "cell_type": "code",
      "metadata": {
        "id": "QmD2Ol7wIrXP",
        "colab_type": "code",
        "colab": {}
      },
      "source": [
        "# モデル、学習率とoptimizerを設定\n",
        "model = Net().to(device)\n",
        "lr_rate = 0.1\n",
        "optimizer = optim.Adadelta(model.parameters(), lr=lr_rate)\n"
      ],
      "execution_count": 38,
      "outputs": []
    },
    {
      "cell_type": "code",
      "metadata": {
        "id": "2edFT6ZYIrXS",
        "colab_type": "code",
        "colab": {}
      },
      "source": [
        "# データローダー\n",
        "train_loader_pin_memory = torch.utils.data.DataLoader(dataset1,batch_size=mini_batch_size, num_workers=0, pin_memory=True) \n",
        "test_loader_pin_memory = torch.utils.data.DataLoader(dataset2,batch_size=mini_batch_size, num_workers=0, pin_memory=True)\n"
      ],
      "execution_count": 39,
      "outputs": []
    },
    {
      "cell_type": "code",
      "metadata": {
        "id": "Tnu1kMyQIrXV",
        "colab_type": "code",
        "colab": {
          "base_uri": "https://localhost:8080/",
          "height": 139
        },
        "outputId": "abedec10-4108-452c-9ede-30de2aa68624"
      },
      "source": [
        "MNIST_train_PyTorchAMP(optimizer, model, device, train_loader_pin_memory, test_loader_pin_memory)\n"
      ],
      "execution_count": 40,
      "outputs": [
        {
          "output_type": "stream",
          "text": [
            "Train Epoch: 1 [0/60000 (0%)]\tLoss: 2.300802\n",
            "Train Epoch: 1 [51200/60000 (85%)]\tLoss: 0.360303\n",
            "\n",
            "Test set: Average loss: 0.3280, Accuracy: 8950/10000 (90%)\n",
            "\n",
            "=======かかった時間========\n",
            "10.011407136917114\n"
          ],
          "name": "stdout"
        }
      ]
    },
    {
      "cell_type": "code",
      "metadata": {
        "id": "RIYYo_p_IrXZ",
        "colab_type": "code",
        "colab": {}
      },
      "source": [
        "#"
      ],
      "execution_count": 41,
      "outputs": []
    },
    {
      "cell_type": "code",
      "metadata": {
        "id": "ZCaNltlVIrXb",
        "colab_type": "code",
        "colab": {}
      },
      "source": [
        "# モデル、学習率とoptimizerを設定\n",
        "model = Net().to(device)\n",
        "lr_rate = 0.1\n",
        "optimizer = optim.Adadelta(model.parameters(), lr=lr_rate)\n"
      ],
      "execution_count": 42,
      "outputs": []
    },
    {
      "cell_type": "code",
      "metadata": {
        "id": "Wa84NIgMIrXe",
        "colab_type": "code",
        "colab": {}
      },
      "source": [
        "# データローダー\n",
        "train_loader_pin_memory = torch.utils.data.DataLoader(dataset1,batch_size=mini_batch_size, num_workers=os.cpu_count(), pin_memory=True) \n",
        "test_loader_pin_memory = torch.utils.data.DataLoader(dataset2,batch_size=mini_batch_size, num_workers=os.cpu_count(), pin_memory=True)"
      ],
      "execution_count": 43,
      "outputs": []
    },
    {
      "cell_type": "code",
      "metadata": {
        "id": "BwOi14PkIrXi",
        "colab_type": "code",
        "colab": {
          "base_uri": "https://localhost:8080/",
          "height": 139
        },
        "outputId": "876a50f5-4d42-4e3a-e767-a950b46356fd"
      },
      "source": [
        "MNIST_train_PyTorchAMP(optimizer, model, device, train_loader_pin_memory, test_loader_pin_memory)\n"
      ],
      "execution_count": 44,
      "outputs": [
        {
          "output_type": "stream",
          "text": [
            "Train Epoch: 1 [0/60000 (0%)]\tLoss: 2.308190\n",
            "Train Epoch: 1 [51200/60000 (85%)]\tLoss: 0.317418\n",
            "\n",
            "Test set: Average loss: 0.3194, Accuracy: 8946/10000 (89%)\n",
            "\n",
            "=======かかった時間========\n",
            "8.474640607833862\n"
          ],
          "name": "stdout"
        }
      ]
    },
    {
      "cell_type": "markdown",
      "metadata": {
        "id": "eGZSH52riW7F",
        "colab_type": "text"
      },
      "source": [
        "## non_blocking=True"
      ]
    },
    {
      "cell_type": "code",
      "metadata": {
        "id": "363ycWXLio9q",
        "colab_type": "code",
        "colab": {}
      },
      "source": [
        "def train_non_blocking_true(model, device, train_loader, optimizer, epoch):\n",
        "    model.train()  # 訓練モードに\n",
        "    for batch_idx, (data, target) in enumerate(train_loader):\n",
        "        # データ取り出し\n",
        "        data, target = data.to(device, non_blocking=True), target.to(device, non_blocking=True)\n",
        "        \n",
        "        optimizer.zero_grad()\n",
        "\n",
        "        # 伝搬\n",
        "        output = model(data)\n",
        "        \n",
        "        # 損失計算とバックプロパゲーション\n",
        "        loss = F.nll_loss(output, target)\n",
        "        loss.backward()\n",
        "        optimizer.step()\n",
        "        \n",
        "        if batch_idx % 100 == 0:\n",
        "            print('Train Epoch: {} [{}/{} ({:.0f}%)]\\tLoss: {:.6f}'.format(\n",
        "                epoch, batch_idx * len(data), len(train_loader.dataset),\n",
        "                100. * batch_idx / len(train_loader), loss.item()))\n"
      ],
      "execution_count": 50,
      "outputs": []
    },
    {
      "cell_type": "code",
      "metadata": {
        "id": "LtruiDAiipJe",
        "colab_type": "code",
        "colab": {}
      },
      "source": [
        "def test_non_blocking_true(model, device, test_loader):\n",
        "    model.eval()  # 検証モードに\n",
        "    test_loss = 0\n",
        "    correct = 0\n",
        "    with torch.no_grad():\n",
        "        for data, target in test_loader:\n",
        "            # データ取り出し\n",
        "            data, target = data.to(device, non_blocking=True), target.to(device, non_blocking=True)\n",
        "            output = model(data)\n",
        "            \n",
        "            test_loss += F.nll_loss(output, target, reduction='sum').item()  # sum up batch loss\n",
        "            pred = output.argmax(dim=1, keepdim=True)  # get the index of the max log-probability\n",
        "            correct += pred.eq(target.view_as(pred)).sum().item()\n",
        "\n",
        "    test_loss /= len(test_loader.dataset)\n",
        "\n",
        "    print('\\nTest set: Average loss: {:.4f}, Accuracy: {}/{} ({:.0f}%)\\n'.format(\n",
        "        test_loss, correct, len(test_loader.dataset),\n",
        "        100. * correct / len(test_loader.dataset)))"
      ],
      "execution_count": 51,
      "outputs": []
    },
    {
      "cell_type": "code",
      "metadata": {
        "id": "A0m2QaafiYk-",
        "colab_type": "code",
        "colab": {}
      },
      "source": [
        "# 関数化\n",
        "\n",
        "def MNIST_train_non_blocking_true(optimizer, model, device, train_loader, test_loader): \n",
        "    # デフォルトで訓練\n",
        "    epochs = 1\n",
        "\n",
        "    start = time.time()\n",
        "    \n",
        "    # 追加\n",
        "    torch.backends.cudnn.benchmark = True\n",
        "\n",
        "    # 処理\n",
        "    for epoch in range(1, epochs+1):\n",
        "        train_non_blocking_true(model, device, train_loader, optimizer, epoch)\n",
        "        test_non_blocking_true(model, device, test_loader)\n",
        "\n",
        "    # かかった時間\n",
        "    print(\"=======かかった時間========\")\n",
        "    print(time.time() - start)\n",
        "    "
      ],
      "execution_count": 52,
      "outputs": []
    },
    {
      "cell_type": "code",
      "metadata": {
        "id": "Dg0uKzQhjBgm",
        "colab_type": "code",
        "colab": {}
      },
      "source": [
        "# モデル、学習率とoptimizerを設定\n",
        "model = Net().to(device)\n",
        "lr_rate = 0.1\n",
        "optimizer = optim.Adadelta(model.parameters(), lr=lr_rate)\n"
      ],
      "execution_count": 76,
      "outputs": []
    },
    {
      "cell_type": "code",
      "metadata": {
        "id": "FjhwKwQYjFQW",
        "colab_type": "code",
        "colab": {}
      },
      "source": [
        "# データローダー\n",
        "train_loader_pin_memory = torch.utils.data.DataLoader(dataset1,batch_size=mini_batch_size, num_workers=0, pin_memory=True) \n",
        "test_loader_pin_memory = torch.utils.data.DataLoader(dataset2,batch_size=mini_batch_size, num_workers=0, pin_memory=True)"
      ],
      "execution_count": 77,
      "outputs": []
    },
    {
      "cell_type": "code",
      "metadata": {
        "id": "M3My_ELcjFUO",
        "colab_type": "code",
        "colab": {
          "base_uri": "https://localhost:8080/",
          "height": 139
        },
        "outputId": "6717a180-36cb-4d10-b184-c446059bde10"
      },
      "source": [
        "MNIST_train_non_blocking_true(optimizer, model, device, train_loader_pin_memory, test_loader_pin_memory)\n"
      ],
      "execution_count": 78,
      "outputs": [
        {
          "output_type": "stream",
          "text": [
            "Train Epoch: 1 [0/60000 (0%)]\tLoss: 2.312252\n",
            "Train Epoch: 1 [51200/60000 (85%)]\tLoss: 0.393690\n",
            "\n",
            "Test set: Average loss: 0.3092, Accuracy: 9045/10000 (90%)\n",
            "\n",
            "=======かかった時間========\n",
            "8.370294570922852\n"
          ],
          "name": "stdout"
        }
      ]
    },
    {
      "cell_type": "code",
      "metadata": {
        "id": "2ouWCYSQjFW3",
        "colab_type": "code",
        "colab": {}
      },
      "source": [
        "# default"
      ],
      "execution_count": 79,
      "outputs": []
    },
    {
      "cell_type": "code",
      "metadata": {
        "id": "HiSsywnionNA",
        "colab_type": "code",
        "colab": {}
      },
      "source": [
        "# モデル、学習率とoptimizerを設定\n",
        "model = Net().to(device)\n",
        "lr_rate = 0.1\n",
        "optimizer = optim.Adadelta(model.parameters(), lr=lr_rate)\n"
      ],
      "execution_count": 80,
      "outputs": []
    },
    {
      "cell_type": "code",
      "metadata": {
        "id": "8nvzYU9Yope3",
        "colab_type": "code",
        "colab": {}
      },
      "source": [
        "# データローダー\n",
        "train_loader_pin_memory = torch.utils.data.DataLoader(dataset1,batch_size=mini_batch_size, num_workers=0, pin_memory=True) \n",
        "test_loader_pin_memory = torch.utils.data.DataLoader(dataset2,batch_size=mini_batch_size, num_workers=0, pin_memory=True)"
      ],
      "execution_count": 81,
      "outputs": []
    },
    {
      "cell_type": "code",
      "metadata": {
        "id": "FAT5QysEot6G",
        "colab_type": "code",
        "colab": {
          "base_uri": "https://localhost:8080/",
          "height": 139
        },
        "outputId": "3da2a472-9a21-426a-c4bd-2d0dcde77c66"
      },
      "source": [
        "MNIST_train(optimizer, model, device, train_loader_pin_memory, test_loader_pin_memory)\n"
      ],
      "execution_count": 82,
      "outputs": [
        {
          "output_type": "stream",
          "text": [
            "Train Epoch: 1 [0/60000 (0%)]\tLoss: 2.307320\n",
            "Train Epoch: 1 [51200/60000 (85%)]\tLoss: 0.345337\n",
            "\n",
            "Test set: Average loss: 0.3234, Accuracy: 9001/10000 (90%)\n",
            "\n",
            "=======かかった時間========\n",
            "8.298707246780396\n"
          ],
          "name": "stdout"
        }
      ]
    },
    {
      "cell_type": "markdown",
      "metadata": {
        "colab_type": "text",
        "id": "vRY3_flJPBPZ"
      },
      "source": [
        "# APX"
      ]
    },
    {
      "cell_type": "code",
      "metadata": {
        "id": "GnfLR1T9IrXl",
        "colab_type": "code",
        "colab": {}
      },
      "source": [
        "# 以下は\n",
        "# https://github.com/NVIDIA/apex\n",
        "# を参考にAPXをインストールしておく\n",
        "\n",
        "#$ git clone https://github.com/NVIDIA/apex\n",
        "#$ cd apex\n",
        "#s$ pip install -v --no-cache-dir --global-option=\"--cpp_ext\" --global-option=\"--cuda_ext\" ./"
      ],
      "execution_count": 45,
      "outputs": []
    },
    {
      "cell_type": "code",
      "metadata": {
        "id": "iV6buNMDIrXq",
        "colab_type": "code",
        "colab": {}
      },
      "source": [
        "# モデル、学習率とoptimizerを設定\n",
        "model = Net().to(device)\n",
        "lr_rate = 0.1\n",
        "optimizer = optim.Adadelta(model.parameters(), lr=lr_rate)"
      ],
      "execution_count": 46,
      "outputs": []
    },
    {
      "cell_type": "code",
      "metadata": {
        "colab_type": "code",
        "id": "Fm9gZR7WLbc9",
        "colab": {
          "base_uri": "https://localhost:8080/",
          "height": 380
        },
        "outputId": "0bf67361-b5fb-4129-acfd-3141b0b204fd"
      },
      "source": [
        "from apex import amp, optimizers\n",
        "\n",
        "# Initialization\n",
        "opt_level = 'O1'\n",
        "model, optimizer = amp.initialize(model, optimizer, opt_level=opt_level)\n"
      ],
      "execution_count": 47,
      "outputs": [
        {
          "output_type": "error",
          "ename": "ModuleNotFoundError",
          "evalue": "ignored",
          "traceback": [
            "\u001b[0;31m---------------------------------------------------------------------------\u001b[0m",
            "\u001b[0;31mModuleNotFoundError\u001b[0m                       Traceback (most recent call last)",
            "\u001b[0;32m<ipython-input-47-dd9c3f0fd584>\u001b[0m in \u001b[0;36m<module>\u001b[0;34m()\u001b[0m\n\u001b[0;32m----> 1\u001b[0;31m \u001b[0;32mfrom\u001b[0m \u001b[0mapex\u001b[0m \u001b[0;32mimport\u001b[0m \u001b[0mamp\u001b[0m\u001b[0;34m,\u001b[0m \u001b[0moptimizers\u001b[0m\u001b[0;34m\u001b[0m\u001b[0;34m\u001b[0m\u001b[0m\n\u001b[0m\u001b[1;32m      2\u001b[0m \u001b[0;34m\u001b[0m\u001b[0m\n\u001b[1;32m      3\u001b[0m \u001b[0;31m# Initialization\u001b[0m\u001b[0;34m\u001b[0m\u001b[0;34m\u001b[0m\u001b[0;34m\u001b[0m\u001b[0m\n\u001b[1;32m      4\u001b[0m \u001b[0mopt_level\u001b[0m \u001b[0;34m=\u001b[0m \u001b[0;34m'O1'\u001b[0m\u001b[0;34m\u001b[0m\u001b[0;34m\u001b[0m\u001b[0m\n\u001b[1;32m      5\u001b[0m \u001b[0mmodel\u001b[0m\u001b[0;34m,\u001b[0m \u001b[0moptimizer\u001b[0m \u001b[0;34m=\u001b[0m \u001b[0mamp\u001b[0m\u001b[0;34m.\u001b[0m\u001b[0minitialize\u001b[0m\u001b[0;34m(\u001b[0m\u001b[0mmodel\u001b[0m\u001b[0;34m,\u001b[0m \u001b[0moptimizer\u001b[0m\u001b[0;34m,\u001b[0m \u001b[0mopt_level\u001b[0m\u001b[0;34m=\u001b[0m\u001b[0mopt_level\u001b[0m\u001b[0;34m)\u001b[0m\u001b[0;34m\u001b[0m\u001b[0;34m\u001b[0m\u001b[0m\n",
            "\u001b[0;31mModuleNotFoundError\u001b[0m: No module named 'apex'",
            "",
            "\u001b[0;31m---------------------------------------------------------------------------\u001b[0;32m\nNOTE: If your import is failing due to a missing package, you can\nmanually install dependencies using either !pip or !apt.\n\nTo view examples of installing some common dependencies, click the\n\"Open Examples\" button below.\n\u001b[0;31m---------------------------------------------------------------------------\u001b[0m\n"
          ]
        }
      ]
    },
    {
      "cell_type": "code",
      "metadata": {
        "colab_type": "code",
        "id": "ATAziU-XPX3z",
        "colab": {}
      },
      "source": [
        "def trainAMP(model, device, train_loader, optimizer, epoch):\n",
        "    model.train()  # 訓練モードに\n",
        "        \n",
        "    for batch_idx, (data, target) in enumerate(train_loader):\n",
        "        # データ取り出し\n",
        "        data, target = data.to(device), target.to(device)\n",
        "        \n",
        "        optimizer.zero_grad()\n",
        "\n",
        "        # 伝搬\n",
        "        output = model(data)\n",
        "        \n",
        "        # 損失計算とバックプロパゲーション\n",
        "        loss = F.nll_loss(output, target)\n",
        "        \n",
        "        # AMP Train your model\n",
        "        with amp.scale_loss(loss, optimizer) as scaled_loss:\n",
        "            scaled_loss.backward()\n",
        "        \n",
        "        optimizer.step()\n",
        "        \n",
        "        if batch_idx % 100 == 0:\n",
        "            print('Train Epoch: {} [{}/{} ({:.0f}%)]\\tLoss: {:.6f}'.format(\n",
        "                epoch, batch_idx * len(data), len(train_loader.dataset),\n",
        "                100. * batch_idx / len(train_loader), loss.item()))\n"
      ],
      "execution_count": null,
      "outputs": []
    },
    {
      "cell_type": "code",
      "metadata": {
        "id": "0Rp96urKIrXx",
        "colab_type": "code",
        "colab": {}
      },
      "source": [
        "# 関数化\n",
        "\n",
        "def MNIST_trainAMP(optimizer, model, device, train_loader, test_loader): \n",
        "    # デフォルトで訓練\n",
        "    epochs = 1\n",
        "\n",
        "    start = time.time()\n",
        "    \n",
        "    # 追加\n",
        "    torch.backends.cudnn.benchmark = True\n",
        "\n",
        "    # 処理\n",
        "    for epoch in range(1, epochs+1):\n",
        "        trainAMP(model, device, train_loader, optimizer, epoch)\n",
        "        test(model, device, test_loader)\n",
        "\n",
        "    # かかった時間\n",
        "    print(\"=======かかった時間========\")\n",
        "    print(time.time() - start)\n",
        "    "
      ],
      "execution_count": null,
      "outputs": []
    },
    {
      "cell_type": "code",
      "metadata": {
        "id": "GzJGm7xGIrXz",
        "colab_type": "code",
        "colab": {}
      },
      "source": [
        "# データローダー\n",
        "train_loader_pin_memory = torch.utils.data.DataLoader(dataset1,batch_size=mini_batch_size, num_workers=0, pin_memory=True) \n",
        "test_loader_pin_memory = torch.utils.data.DataLoader(dataset2,batch_size=mini_batch_size, num_workers=0, pin_memory=True)"
      ],
      "execution_count": null,
      "outputs": []
    },
    {
      "cell_type": "code",
      "metadata": {
        "id": "9PkkyEUBIrX3",
        "colab_type": "code",
        "colab": {}
      },
      "source": [
        "MNIST_trainAMP(optimizer, model, device, train_loader_pin_memory, test_loader_pin_memory)"
      ],
      "execution_count": null,
      "outputs": []
    },
    {
      "cell_type": "code",
      "metadata": {
        "id": "t-33q7D8IrX6",
        "colab_type": "code",
        "colab": {}
      },
      "source": [
        "# "
      ],
      "execution_count": null,
      "outputs": []
    },
    {
      "cell_type": "code",
      "metadata": {
        "id": "rhNvVS3zIrX9",
        "colab_type": "code",
        "colab": {}
      },
      "source": [
        "# モデル、学習率とoptimizerを設定\n",
        "model = Net().to(device)\n",
        "lr_rate = 0.1\n",
        "optimizer = optim.Adadelta(model.parameters(), lr=lr_rate)"
      ],
      "execution_count": null,
      "outputs": []
    },
    {
      "cell_type": "code",
      "metadata": {
        "id": "ebFkV5xtIrX_",
        "colab_type": "code",
        "colab": {}
      },
      "source": [
        "from apex import amp, optimizers\n",
        "\n",
        "# Initialization\n",
        "opt_level = 'O2'\n",
        "model, optimizer = amp.initialize(model, optimizer, opt_level=opt_level)\n"
      ],
      "execution_count": null,
      "outputs": []
    },
    {
      "cell_type": "code",
      "metadata": {
        "id": "SZIeYfI7IrYA",
        "colab_type": "code",
        "colab": {}
      },
      "source": [
        "# データローダー\n",
        "train_loader_pin_memory = torch.utils.data.DataLoader(dataset1,batch_size=mini_batch_size, num_workers=0, pin_memory=True) \n",
        "test_loader_pin_memory = torch.utils.data.DataLoader(dataset2,batch_size=mini_batch_size, num_workers=0, pin_memory=True)"
      ],
      "execution_count": null,
      "outputs": []
    },
    {
      "cell_type": "code",
      "metadata": {
        "id": "5GNw9xyJIrYC",
        "colab_type": "code",
        "colab": {}
      },
      "source": [
        "MNIST_trainAMP(optimizer, model, device, train_loader_pin_memory, test_loader_pin_memory)"
      ],
      "execution_count": null,
      "outputs": []
    },
    {
      "cell_type": "code",
      "metadata": {
        "id": "KoLAKAemIrYD",
        "colab_type": "code",
        "colab": {}
      },
      "source": [
        "#"
      ],
      "execution_count": null,
      "outputs": []
    },
    {
      "cell_type": "code",
      "metadata": {
        "id": "rMsF4nD8IrYF",
        "colab_type": "code",
        "colab": {}
      },
      "source": [
        "# モデル、学習率とoptimizerを設定\n",
        "model = Net().to(device)\n",
        "lr_rate = 0.1\n",
        "optimizer = optim.Adadelta(model.parameters(), lr=lr_rate)"
      ],
      "execution_count": null,
      "outputs": []
    },
    {
      "cell_type": "code",
      "metadata": {
        "id": "h8d2SwN8IrYG",
        "colab_type": "code",
        "colab": {}
      },
      "source": [
        "from apex import amp, optimizers\n",
        "\n",
        "# Initialization\n",
        "opt_level = 'O3'\n",
        "model, optimizer = amp.initialize(model, optimizer, opt_level=opt_level)\n"
      ],
      "execution_count": null,
      "outputs": []
    },
    {
      "cell_type": "code",
      "metadata": {
        "id": "IZEwfEHdIrYJ",
        "colab_type": "code",
        "colab": {}
      },
      "source": [
        "# データローダー\n",
        "train_loader_pin_memory = torch.utils.data.DataLoader(dataset1,batch_size=mini_batch_size, num_workers=0, pin_memory=True) \n",
        "test_loader_pin_memory = torch.utils.data.DataLoader(dataset2,batch_size=mini_batch_size, num_workers=0, pin_memory=True)\n"
      ],
      "execution_count": null,
      "outputs": []
    },
    {
      "cell_type": "code",
      "metadata": {
        "id": "VIRPuXYZIrYL",
        "colab_type": "code",
        "colab": {}
      },
      "source": [
        "MNIST_trainAMP(optimizer, model, device, train_loader_pin_memory, test_loader_pin_memory)\n"
      ],
      "execution_count": null,
      "outputs": []
    },
    {
      "cell_type": "code",
      "metadata": {
        "id": "SomC0eSPIrYM",
        "colab_type": "code",
        "colab": {}
      },
      "source": [
        "#"
      ],
      "execution_count": null,
      "outputs": []
    },
    {
      "cell_type": "code",
      "metadata": {
        "id": "PMuYx_lBIrYP",
        "colab_type": "code",
        "colab": {}
      },
      "source": [
        "# モデル、学習率とoptimizerを設定\n",
        "model = Net().to(device)\n",
        "lr_rate = 0.1\n",
        "optimizer = optim.Adadelta(model.parameters(), lr=lr_rate)"
      ],
      "execution_count": null,
      "outputs": []
    },
    {
      "cell_type": "code",
      "metadata": {
        "id": "tvoHkXO0IrYR",
        "colab_type": "code",
        "colab": {}
      },
      "source": [
        "from apex import amp, optimizers\n",
        "\n",
        "# Initialization\n",
        "opt_level = 'O0'\n",
        "model, optimizer = amp.initialize(model, optimizer, opt_level=opt_level)\n"
      ],
      "execution_count": null,
      "outputs": []
    },
    {
      "cell_type": "code",
      "metadata": {
        "id": "f52cHe4hIrYT",
        "colab_type": "code",
        "colab": {}
      },
      "source": [
        "# データローダー\n",
        "train_loader_pin_memory = torch.utils.data.DataLoader(dataset1,batch_size=mini_batch_size, num_workers=0, pin_memory=True) \n",
        "test_loader_pin_memory = torch.utils.data.DataLoader(dataset2,batch_size=mini_batch_size, num_workers=0, pin_memory=True)\n"
      ],
      "execution_count": null,
      "outputs": []
    },
    {
      "cell_type": "code",
      "metadata": {
        "id": "fZkrS_fwIrYU",
        "colab_type": "code",
        "colab": {}
      },
      "source": [
        "MNIST_trainAMP(optimizer, model, device, train_loader_pin_memory, test_loader_pin_memory)\n"
      ],
      "execution_count": null,
      "outputs": []
    },
    {
      "cell_type": "code",
      "metadata": {
        "id": "h1qd9rtRIrYW",
        "colab_type": "code",
        "colab": {}
      },
      "source": [
        "#"
      ],
      "execution_count": null,
      "outputs": []
    },
    {
      "cell_type": "code",
      "metadata": {
        "id": "n9dQJ1mHIrYX",
        "colab_type": "code",
        "colab": {}
      },
      "source": [
        "# モデル、学習率とoptimizerを設定\n",
        "model = Net().to(device)\n",
        "lr_rate = 0.1\n",
        "optimizer = optim.Adadelta(model.parameters(), lr=lr_rate)"
      ],
      "execution_count": null,
      "outputs": []
    },
    {
      "cell_type": "code",
      "metadata": {
        "id": "tJ0AP9XXIrYa",
        "colab_type": "code",
        "colab": {}
      },
      "source": [
        "from apex import amp, optimizers\n",
        "\n",
        "# Initialization\n",
        "opt_level = 'O1'\n",
        "model, optimizer = amp.initialize(model, optimizer, opt_level=opt_level)\n"
      ],
      "execution_count": null,
      "outputs": []
    },
    {
      "cell_type": "code",
      "metadata": {
        "id": "5T-Nf1raIrYd",
        "colab_type": "code",
        "colab": {}
      },
      "source": [
        "# データローダー\n",
        "train_loader_pin_memory = torch.utils.data.DataLoader(dataset1,batch_size=mini_batch_size, num_workers=os.cpu_count(), pin_memory=True) \n",
        "test_loader_pin_memory = torch.utils.data.DataLoader(dataset2,batch_size=mini_batch_size, num_workers=os.cpu_count(), pin_memory=True)\n"
      ],
      "execution_count": null,
      "outputs": []
    },
    {
      "cell_type": "code",
      "metadata": {
        "id": "nc6wfUpXIrYf",
        "colab_type": "code",
        "colab": {}
      },
      "source": [
        "MNIST_trainAMP(optimizer, model, device, train_loader_pin_memory, test_loader_pin_memory)\n"
      ],
      "execution_count": null,
      "outputs": []
    },
    {
      "cell_type": "markdown",
      "metadata": {
        "id": "CTBvdtq_IrYh",
        "colab_type": "text"
      },
      "source": [
        "## APEX"
      ]
    },
    {
      "cell_type": "code",
      "metadata": {
        "id": "yR91CZ1hIrYi",
        "colab_type": "code",
        "colab": {}
      },
      "source": [
        "import apex\n",
        "\n",
        "# モデル、学習率とoptimizerを設定\n",
        "model = Net().to(device)\n",
        "lr_rate = 0.1\n",
        "optimizer = apex.optimizers.FusedSGD(model.parameters(), lr=lr_rate)"
      ],
      "execution_count": null,
      "outputs": []
    },
    {
      "cell_type": "code",
      "metadata": {
        "id": "XQq27gtGIrYm",
        "colab_type": "code",
        "colab": {}
      },
      "source": [
        "from apex import amp, optimizers\n",
        "\n",
        "# Initialization\n",
        "opt_level = 'O1'\n",
        "model, optimizer = amp.initialize(model, optimizer, opt_level=opt_level)\n"
      ],
      "execution_count": null,
      "outputs": []
    },
    {
      "cell_type": "code",
      "metadata": {
        "id": "8xQzdb4sIrYo",
        "colab_type": "code",
        "colab": {}
      },
      "source": [
        "# データローダー\n",
        "train_loader_pin_memory = torch.utils.data.DataLoader(dataset1,batch_size=mini_batch_size, num_workers=0, pin_memory=True) \n",
        "test_loader_pin_memory = torch.utils.data.DataLoader(dataset2,batch_size=mini_batch_size, num_workers=0, pin_memory=True)\n"
      ],
      "execution_count": null,
      "outputs": []
    },
    {
      "cell_type": "code",
      "metadata": {
        "id": "PSY8NHNeIrYs",
        "colab_type": "code",
        "colab": {}
      },
      "source": [
        "MNIST_trainAMP(optimizer, model, device, train_loader_pin_memory, test_loader_pin_memory)\n"
      ],
      "execution_count": null,
      "outputs": []
    },
    {
      "cell_type": "code",
      "metadata": {
        "id": "LDTDX0v1IrYu",
        "colab_type": "code",
        "colab": {}
      },
      "source": [
        "#"
      ],
      "execution_count": null,
      "outputs": []
    },
    {
      "cell_type": "code",
      "metadata": {
        "id": "NFE7rqr7IrYx",
        "colab_type": "code",
        "colab": {}
      },
      "source": [
        "import apex\n",
        "\n",
        "# モデル、学習率とoptimizerを設定\n",
        "model = Net().to(device)\n",
        "lr_rate = 0.1\n",
        "optimizer = apex.optimizers.FusedLAMB(model.parameters(), lr=lr_rate)\n"
      ],
      "execution_count": null,
      "outputs": []
    },
    {
      "cell_type": "code",
      "metadata": {
        "id": "00tpsOxrIrYz",
        "colab_type": "code",
        "colab": {}
      },
      "source": [
        "from apex import amp, optimizers\n",
        "\n",
        "# Initialization\n",
        "opt_level = 'O1'\n",
        "model, optimizer = amp.initialize(model, optimizer, opt_level=opt_level)\n"
      ],
      "execution_count": null,
      "outputs": []
    },
    {
      "cell_type": "code",
      "metadata": {
        "id": "ORbWMoScIrY0",
        "colab_type": "code",
        "colab": {}
      },
      "source": [
        "# データローダー\n",
        "train_loader_pin_memory = torch.utils.data.DataLoader(dataset1,batch_size=mini_batch_size, num_workers=0, pin_memory=True) \n",
        "test_loader_pin_memory = torch.utils.data.DataLoader(dataset2,batch_size=mini_batch_size, num_workers=0, pin_memory=True)\n"
      ],
      "execution_count": null,
      "outputs": []
    },
    {
      "cell_type": "code",
      "metadata": {
        "id": "1wIWge3XIrY1",
        "colab_type": "code",
        "colab": {}
      },
      "source": [
        "MNIST_trainAMP(optimizer, model, device, train_loader_pin_memory, test_loader_pin_memory)\n"
      ],
      "execution_count": null,
      "outputs": []
    },
    {
      "cell_type": "code",
      "metadata": {
        "id": "2j5eL6-gIrY2",
        "colab_type": "code",
        "colab": {}
      },
      "source": [
        "#"
      ],
      "execution_count": null,
      "outputs": []
    },
    {
      "cell_type": "code",
      "metadata": {
        "id": "Fwj6rT0PIrY5",
        "colab_type": "code",
        "colab": {}
      },
      "source": [
        "# モデル、学習率とoptimizerを設定\n",
        "model = Net().to(device)\n",
        "lr_rate = 0.1\n",
        "optimizer = apex.optimizers.FusedSGD(model.parameters(), lr=lr_rate)"
      ],
      "execution_count": null,
      "outputs": []
    },
    {
      "cell_type": "code",
      "metadata": {
        "id": "vIYiRx5SIrY7",
        "colab_type": "code",
        "colab": {}
      },
      "source": [
        "from apex import amp, optimizers\n",
        "\n",
        "# Initialization\n",
        "opt_level = 'O1'\n",
        "model, optimizer = amp.initialize(model, optimizer, opt_level=opt_level)\n"
      ],
      "execution_count": null,
      "outputs": []
    },
    {
      "cell_type": "code",
      "metadata": {
        "id": "CrVArOeVIrY9",
        "colab_type": "code",
        "colab": {}
      },
      "source": [
        "# データローダー\n",
        "train_loader_pin_memory = torch.utils.data.DataLoader(dataset1,batch_size=mini_batch_size, num_workers=os.cpu_count(), pin_memory=True) \n",
        "test_loader_pin_memory = torch.utils.data.DataLoader(dataset2,batch_size=mini_batch_size, num_workers=os.cpu_count(), pin_memory=True)"
      ],
      "execution_count": null,
      "outputs": []
    },
    {
      "cell_type": "code",
      "metadata": {
        "id": "vVuyl5xNIrY_",
        "colab_type": "code",
        "colab": {}
      },
      "source": [
        "MNIST_trainAMP(optimizer, model, device, train_loader_pin_memory, test_loader_pin_memory)\n"
      ],
      "execution_count": null,
      "outputs": []
    },
    {
      "cell_type": "markdown",
      "metadata": {
        "id": "8J_wrc8SIrZA",
        "colab_type": "text"
      },
      "source": [
        "以上\n"
      ]
    }
  ]
}