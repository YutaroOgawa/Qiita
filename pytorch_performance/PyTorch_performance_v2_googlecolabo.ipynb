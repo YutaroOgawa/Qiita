{
  "nbformat": 4,
  "nbformat_minor": 0,
  "metadata": {
    "accelerator": "GPU",
    "colab": {
      "name": "PyTorch_performance_v2_googlecolabo.ipynb",
      "provenance": [],
      "collapsed_sections": []
    },
    "kernelspec": {
      "display_name": "Python 3",
      "language": "python",
      "name": "python3"
    },
    "language_info": {
      "codemirror_mode": {
        "name": "ipython",
        "version": 3
      },
      "file_extension": ".py",
      "mimetype": "text/x-python",
      "name": "python",
      "nbconvert_exporter": "python",
      "pygments_lexer": "ipython3",
      "version": "3.6.10"
    },
    "widgets": {
      "application/vnd.jupyter.widget-state+json": {
        "92cedbb1e570410ea5772a2a417b63cc": {
          "model_module": "@jupyter-widgets/controls",
          "model_name": "HBoxModel",
          "state": {
            "_view_name": "HBoxView",
            "_dom_classes": [],
            "_model_name": "HBoxModel",
            "_view_module": "@jupyter-widgets/controls",
            "_model_module_version": "1.5.0",
            "_view_count": null,
            "_view_module_version": "1.5.0",
            "box_style": "",
            "layout": "IPY_MODEL_a6521eaa69404602a13290055d1e474e",
            "_model_module": "@jupyter-widgets/controls",
            "children": [
              "IPY_MODEL_a6c10c5070d84c81adc3d1440c179d95",
              "IPY_MODEL_27abf5bd9a184fc78df1a538c32b16ee"
            ]
          }
        },
        "a6521eaa69404602a13290055d1e474e": {
          "model_module": "@jupyter-widgets/base",
          "model_name": "LayoutModel",
          "state": {
            "_view_name": "LayoutView",
            "grid_template_rows": null,
            "right": null,
            "justify_content": null,
            "_view_module": "@jupyter-widgets/base",
            "overflow": null,
            "_model_module_version": "1.2.0",
            "_view_count": null,
            "flex_flow": null,
            "width": null,
            "min_width": null,
            "border": null,
            "align_items": null,
            "bottom": null,
            "_model_module": "@jupyter-widgets/base",
            "top": null,
            "grid_column": null,
            "overflow_y": null,
            "overflow_x": null,
            "grid_auto_flow": null,
            "grid_area": null,
            "grid_template_columns": null,
            "flex": null,
            "_model_name": "LayoutModel",
            "justify_items": null,
            "grid_row": null,
            "max_height": null,
            "align_content": null,
            "visibility": null,
            "align_self": null,
            "height": null,
            "min_height": null,
            "padding": null,
            "grid_auto_rows": null,
            "grid_gap": null,
            "max_width": null,
            "order": null,
            "_view_module_version": "1.2.0",
            "grid_template_areas": null,
            "object_position": null,
            "object_fit": null,
            "grid_auto_columns": null,
            "margin": null,
            "display": null,
            "left": null
          }
        },
        "a6c10c5070d84c81adc3d1440c179d95": {
          "model_module": "@jupyter-widgets/controls",
          "model_name": "FloatProgressModel",
          "state": {
            "_view_name": "ProgressView",
            "style": "IPY_MODEL_d8d8c7418e40454196e07d46cf54305e",
            "_dom_classes": [],
            "description": "",
            "_model_name": "FloatProgressModel",
            "bar_style": "info",
            "max": 1,
            "_view_module": "@jupyter-widgets/controls",
            "_model_module_version": "1.5.0",
            "value": 1,
            "_view_count": null,
            "_view_module_version": "1.5.0",
            "orientation": "horizontal",
            "min": 0,
            "description_tooltip": null,
            "_model_module": "@jupyter-widgets/controls",
            "layout": "IPY_MODEL_8c00b30909984b48bbd9b63d8e71e92b"
          }
        },
        "27abf5bd9a184fc78df1a538c32b16ee": {
          "model_module": "@jupyter-widgets/controls",
          "model_name": "HTMLModel",
          "state": {
            "_view_name": "HTMLView",
            "style": "IPY_MODEL_03c996f71b824f48b78ae5331a5e5d11",
            "_dom_classes": [],
            "description": "",
            "_model_name": "HTMLModel",
            "placeholder": "​",
            "_view_module": "@jupyter-widgets/controls",
            "_model_module_version": "1.5.0",
            "value": " 9920512/? [00:20&lt;00:00, 1067300.39it/s]",
            "_view_count": null,
            "_view_module_version": "1.5.0",
            "description_tooltip": null,
            "_model_module": "@jupyter-widgets/controls",
            "layout": "IPY_MODEL_63b236b495584e1893ec108e737a07a8"
          }
        },
        "d8d8c7418e40454196e07d46cf54305e": {
          "model_module": "@jupyter-widgets/controls",
          "model_name": "ProgressStyleModel",
          "state": {
            "_view_name": "StyleView",
            "_model_name": "ProgressStyleModel",
            "description_width": "initial",
            "_view_module": "@jupyter-widgets/base",
            "_model_module_version": "1.5.0",
            "_view_count": null,
            "_view_module_version": "1.2.0",
            "bar_color": null,
            "_model_module": "@jupyter-widgets/controls"
          }
        },
        "8c00b30909984b48bbd9b63d8e71e92b": {
          "model_module": "@jupyter-widgets/base",
          "model_name": "LayoutModel",
          "state": {
            "_view_name": "LayoutView",
            "grid_template_rows": null,
            "right": null,
            "justify_content": null,
            "_view_module": "@jupyter-widgets/base",
            "overflow": null,
            "_model_module_version": "1.2.0",
            "_view_count": null,
            "flex_flow": null,
            "width": null,
            "min_width": null,
            "border": null,
            "align_items": null,
            "bottom": null,
            "_model_module": "@jupyter-widgets/base",
            "top": null,
            "grid_column": null,
            "overflow_y": null,
            "overflow_x": null,
            "grid_auto_flow": null,
            "grid_area": null,
            "grid_template_columns": null,
            "flex": null,
            "_model_name": "LayoutModel",
            "justify_items": null,
            "grid_row": null,
            "max_height": null,
            "align_content": null,
            "visibility": null,
            "align_self": null,
            "height": null,
            "min_height": null,
            "padding": null,
            "grid_auto_rows": null,
            "grid_gap": null,
            "max_width": null,
            "order": null,
            "_view_module_version": "1.2.0",
            "grid_template_areas": null,
            "object_position": null,
            "object_fit": null,
            "grid_auto_columns": null,
            "margin": null,
            "display": null,
            "left": null
          }
        },
        "03c996f71b824f48b78ae5331a5e5d11": {
          "model_module": "@jupyter-widgets/controls",
          "model_name": "DescriptionStyleModel",
          "state": {
            "_view_name": "StyleView",
            "_model_name": "DescriptionStyleModel",
            "description_width": "",
            "_view_module": "@jupyter-widgets/base",
            "_model_module_version": "1.5.0",
            "_view_count": null,
            "_view_module_version": "1.2.0",
            "_model_module": "@jupyter-widgets/controls"
          }
        },
        "63b236b495584e1893ec108e737a07a8": {
          "model_module": "@jupyter-widgets/base",
          "model_name": "LayoutModel",
          "state": {
            "_view_name": "LayoutView",
            "grid_template_rows": null,
            "right": null,
            "justify_content": null,
            "_view_module": "@jupyter-widgets/base",
            "overflow": null,
            "_model_module_version": "1.2.0",
            "_view_count": null,
            "flex_flow": null,
            "width": null,
            "min_width": null,
            "border": null,
            "align_items": null,
            "bottom": null,
            "_model_module": "@jupyter-widgets/base",
            "top": null,
            "grid_column": null,
            "overflow_y": null,
            "overflow_x": null,
            "grid_auto_flow": null,
            "grid_area": null,
            "grid_template_columns": null,
            "flex": null,
            "_model_name": "LayoutModel",
            "justify_items": null,
            "grid_row": null,
            "max_height": null,
            "align_content": null,
            "visibility": null,
            "align_self": null,
            "height": null,
            "min_height": null,
            "padding": null,
            "grid_auto_rows": null,
            "grid_gap": null,
            "max_width": null,
            "order": null,
            "_view_module_version": "1.2.0",
            "grid_template_areas": null,
            "object_position": null,
            "object_fit": null,
            "grid_auto_columns": null,
            "margin": null,
            "display": null,
            "left": null
          }
        },
        "142d1d02549a4641b7edc5c9a330a1a3": {
          "model_module": "@jupyter-widgets/controls",
          "model_name": "HBoxModel",
          "state": {
            "_view_name": "HBoxView",
            "_dom_classes": [],
            "_model_name": "HBoxModel",
            "_view_module": "@jupyter-widgets/controls",
            "_model_module_version": "1.5.0",
            "_view_count": null,
            "_view_module_version": "1.5.0",
            "box_style": "",
            "layout": "IPY_MODEL_4690cf06b4e9480cabdc019625db84d7",
            "_model_module": "@jupyter-widgets/controls",
            "children": [
              "IPY_MODEL_3b86341364ca45b5bbdca928f30b5fbe",
              "IPY_MODEL_3576692884b84608902a867e2b3ee7a8"
            ]
          }
        },
        "4690cf06b4e9480cabdc019625db84d7": {
          "model_module": "@jupyter-widgets/base",
          "model_name": "LayoutModel",
          "state": {
            "_view_name": "LayoutView",
            "grid_template_rows": null,
            "right": null,
            "justify_content": null,
            "_view_module": "@jupyter-widgets/base",
            "overflow": null,
            "_model_module_version": "1.2.0",
            "_view_count": null,
            "flex_flow": null,
            "width": null,
            "min_width": null,
            "border": null,
            "align_items": null,
            "bottom": null,
            "_model_module": "@jupyter-widgets/base",
            "top": null,
            "grid_column": null,
            "overflow_y": null,
            "overflow_x": null,
            "grid_auto_flow": null,
            "grid_area": null,
            "grid_template_columns": null,
            "flex": null,
            "_model_name": "LayoutModel",
            "justify_items": null,
            "grid_row": null,
            "max_height": null,
            "align_content": null,
            "visibility": null,
            "align_self": null,
            "height": null,
            "min_height": null,
            "padding": null,
            "grid_auto_rows": null,
            "grid_gap": null,
            "max_width": null,
            "order": null,
            "_view_module_version": "1.2.0",
            "grid_template_areas": null,
            "object_position": null,
            "object_fit": null,
            "grid_auto_columns": null,
            "margin": null,
            "display": null,
            "left": null
          }
        },
        "3b86341364ca45b5bbdca928f30b5fbe": {
          "model_module": "@jupyter-widgets/controls",
          "model_name": "FloatProgressModel",
          "state": {
            "_view_name": "ProgressView",
            "style": "IPY_MODEL_2e4c1687f96b4107bee7a7e2183eb11a",
            "_dom_classes": [],
            "description": "",
            "_model_name": "FloatProgressModel",
            "bar_style": "success",
            "max": 1,
            "_view_module": "@jupyter-widgets/controls",
            "_model_module_version": "1.5.0",
            "value": 1,
            "_view_count": null,
            "_view_module_version": "1.5.0",
            "orientation": "horizontal",
            "min": 0,
            "description_tooltip": null,
            "_model_module": "@jupyter-widgets/controls",
            "layout": "IPY_MODEL_97424d07b27b465e9cfd4d3e68857f41"
          }
        },
        "3576692884b84608902a867e2b3ee7a8": {
          "model_module": "@jupyter-widgets/controls",
          "model_name": "HTMLModel",
          "state": {
            "_view_name": "HTMLView",
            "style": "IPY_MODEL_ef6de72521d340dab136a262b6a4ef9c",
            "_dom_classes": [],
            "description": "",
            "_model_name": "HTMLModel",
            "placeholder": "​",
            "_view_module": "@jupyter-widgets/controls",
            "_model_module_version": "1.5.0",
            "value": " 32768/? [00:00&lt;00:00, 33554.04it/s]",
            "_view_count": null,
            "_view_module_version": "1.5.0",
            "description_tooltip": null,
            "_model_module": "@jupyter-widgets/controls",
            "layout": "IPY_MODEL_59a80c580f9442eab8ba7b1a1870cedf"
          }
        },
        "2e4c1687f96b4107bee7a7e2183eb11a": {
          "model_module": "@jupyter-widgets/controls",
          "model_name": "ProgressStyleModel",
          "state": {
            "_view_name": "StyleView",
            "_model_name": "ProgressStyleModel",
            "description_width": "initial",
            "_view_module": "@jupyter-widgets/base",
            "_model_module_version": "1.5.0",
            "_view_count": null,
            "_view_module_version": "1.2.0",
            "bar_color": null,
            "_model_module": "@jupyter-widgets/controls"
          }
        },
        "97424d07b27b465e9cfd4d3e68857f41": {
          "model_module": "@jupyter-widgets/base",
          "model_name": "LayoutModel",
          "state": {
            "_view_name": "LayoutView",
            "grid_template_rows": null,
            "right": null,
            "justify_content": null,
            "_view_module": "@jupyter-widgets/base",
            "overflow": null,
            "_model_module_version": "1.2.0",
            "_view_count": null,
            "flex_flow": null,
            "width": null,
            "min_width": null,
            "border": null,
            "align_items": null,
            "bottom": null,
            "_model_module": "@jupyter-widgets/base",
            "top": null,
            "grid_column": null,
            "overflow_y": null,
            "overflow_x": null,
            "grid_auto_flow": null,
            "grid_area": null,
            "grid_template_columns": null,
            "flex": null,
            "_model_name": "LayoutModel",
            "justify_items": null,
            "grid_row": null,
            "max_height": null,
            "align_content": null,
            "visibility": null,
            "align_self": null,
            "height": null,
            "min_height": null,
            "padding": null,
            "grid_auto_rows": null,
            "grid_gap": null,
            "max_width": null,
            "order": null,
            "_view_module_version": "1.2.0",
            "grid_template_areas": null,
            "object_position": null,
            "object_fit": null,
            "grid_auto_columns": null,
            "margin": null,
            "display": null,
            "left": null
          }
        },
        "ef6de72521d340dab136a262b6a4ef9c": {
          "model_module": "@jupyter-widgets/controls",
          "model_name": "DescriptionStyleModel",
          "state": {
            "_view_name": "StyleView",
            "_model_name": "DescriptionStyleModel",
            "description_width": "",
            "_view_module": "@jupyter-widgets/base",
            "_model_module_version": "1.5.0",
            "_view_count": null,
            "_view_module_version": "1.2.0",
            "_model_module": "@jupyter-widgets/controls"
          }
        },
        "59a80c580f9442eab8ba7b1a1870cedf": {
          "model_module": "@jupyter-widgets/base",
          "model_name": "LayoutModel",
          "state": {
            "_view_name": "LayoutView",
            "grid_template_rows": null,
            "right": null,
            "justify_content": null,
            "_view_module": "@jupyter-widgets/base",
            "overflow": null,
            "_model_module_version": "1.2.0",
            "_view_count": null,
            "flex_flow": null,
            "width": null,
            "min_width": null,
            "border": null,
            "align_items": null,
            "bottom": null,
            "_model_module": "@jupyter-widgets/base",
            "top": null,
            "grid_column": null,
            "overflow_y": null,
            "overflow_x": null,
            "grid_auto_flow": null,
            "grid_area": null,
            "grid_template_columns": null,
            "flex": null,
            "_model_name": "LayoutModel",
            "justify_items": null,
            "grid_row": null,
            "max_height": null,
            "align_content": null,
            "visibility": null,
            "align_self": null,
            "height": null,
            "min_height": null,
            "padding": null,
            "grid_auto_rows": null,
            "grid_gap": null,
            "max_width": null,
            "order": null,
            "_view_module_version": "1.2.0",
            "grid_template_areas": null,
            "object_position": null,
            "object_fit": null,
            "grid_auto_columns": null,
            "margin": null,
            "display": null,
            "left": null
          }
        },
        "c75a90dd0429436fbba22c9780320af3": {
          "model_module": "@jupyter-widgets/controls",
          "model_name": "HBoxModel",
          "state": {
            "_view_name": "HBoxView",
            "_dom_classes": [],
            "_model_name": "HBoxModel",
            "_view_module": "@jupyter-widgets/controls",
            "_model_module_version": "1.5.0",
            "_view_count": null,
            "_view_module_version": "1.5.0",
            "box_style": "",
            "layout": "IPY_MODEL_c53dfd1820cb42f5880f8708a2c2f8b8",
            "_model_module": "@jupyter-widgets/controls",
            "children": [
              "IPY_MODEL_b1c3e47b9b94479e894fcbd4c45b582f",
              "IPY_MODEL_cbc4127933bc491692b248d7d2359fab"
            ]
          }
        },
        "c53dfd1820cb42f5880f8708a2c2f8b8": {
          "model_module": "@jupyter-widgets/base",
          "model_name": "LayoutModel",
          "state": {
            "_view_name": "LayoutView",
            "grid_template_rows": null,
            "right": null,
            "justify_content": null,
            "_view_module": "@jupyter-widgets/base",
            "overflow": null,
            "_model_module_version": "1.2.0",
            "_view_count": null,
            "flex_flow": null,
            "width": null,
            "min_width": null,
            "border": null,
            "align_items": null,
            "bottom": null,
            "_model_module": "@jupyter-widgets/base",
            "top": null,
            "grid_column": null,
            "overflow_y": null,
            "overflow_x": null,
            "grid_auto_flow": null,
            "grid_area": null,
            "grid_template_columns": null,
            "flex": null,
            "_model_name": "LayoutModel",
            "justify_items": null,
            "grid_row": null,
            "max_height": null,
            "align_content": null,
            "visibility": null,
            "align_self": null,
            "height": null,
            "min_height": null,
            "padding": null,
            "grid_auto_rows": null,
            "grid_gap": null,
            "max_width": null,
            "order": null,
            "_view_module_version": "1.2.0",
            "grid_template_areas": null,
            "object_position": null,
            "object_fit": null,
            "grid_auto_columns": null,
            "margin": null,
            "display": null,
            "left": null
          }
        },
        "b1c3e47b9b94479e894fcbd4c45b582f": {
          "model_module": "@jupyter-widgets/controls",
          "model_name": "FloatProgressModel",
          "state": {
            "_view_name": "ProgressView",
            "style": "IPY_MODEL_b8a78e6dbdfd40758c84ea696c7c8a31",
            "_dom_classes": [],
            "description": "",
            "_model_name": "FloatProgressModel",
            "bar_style": "success",
            "max": 1,
            "_view_module": "@jupyter-widgets/controls",
            "_model_module_version": "1.5.0",
            "value": 1,
            "_view_count": null,
            "_view_module_version": "1.5.0",
            "orientation": "horizontal",
            "min": 0,
            "description_tooltip": null,
            "_model_module": "@jupyter-widgets/controls",
            "layout": "IPY_MODEL_e2bf42ef45f1449ca0885b634843c084"
          }
        },
        "cbc4127933bc491692b248d7d2359fab": {
          "model_module": "@jupyter-widgets/controls",
          "model_name": "HTMLModel",
          "state": {
            "_view_name": "HTMLView",
            "style": "IPY_MODEL_cb5712f7e6b04d31b58f31ec773fe3c4",
            "_dom_classes": [],
            "description": "",
            "_model_name": "HTMLModel",
            "placeholder": "​",
            "_view_module": "@jupyter-widgets/controls",
            "_model_module_version": "1.5.0",
            "value": " 1654784/? [00:00&lt;00:00, 2346060.38it/s]",
            "_view_count": null,
            "_view_module_version": "1.5.0",
            "description_tooltip": null,
            "_model_module": "@jupyter-widgets/controls",
            "layout": "IPY_MODEL_f21dec741de54effb2d99c8227a566f7"
          }
        },
        "b8a78e6dbdfd40758c84ea696c7c8a31": {
          "model_module": "@jupyter-widgets/controls",
          "model_name": "ProgressStyleModel",
          "state": {
            "_view_name": "StyleView",
            "_model_name": "ProgressStyleModel",
            "description_width": "initial",
            "_view_module": "@jupyter-widgets/base",
            "_model_module_version": "1.5.0",
            "_view_count": null,
            "_view_module_version": "1.2.0",
            "bar_color": null,
            "_model_module": "@jupyter-widgets/controls"
          }
        },
        "e2bf42ef45f1449ca0885b634843c084": {
          "model_module": "@jupyter-widgets/base",
          "model_name": "LayoutModel",
          "state": {
            "_view_name": "LayoutView",
            "grid_template_rows": null,
            "right": null,
            "justify_content": null,
            "_view_module": "@jupyter-widgets/base",
            "overflow": null,
            "_model_module_version": "1.2.0",
            "_view_count": null,
            "flex_flow": null,
            "width": null,
            "min_width": null,
            "border": null,
            "align_items": null,
            "bottom": null,
            "_model_module": "@jupyter-widgets/base",
            "top": null,
            "grid_column": null,
            "overflow_y": null,
            "overflow_x": null,
            "grid_auto_flow": null,
            "grid_area": null,
            "grid_template_columns": null,
            "flex": null,
            "_model_name": "LayoutModel",
            "justify_items": null,
            "grid_row": null,
            "max_height": null,
            "align_content": null,
            "visibility": null,
            "align_self": null,
            "height": null,
            "min_height": null,
            "padding": null,
            "grid_auto_rows": null,
            "grid_gap": null,
            "max_width": null,
            "order": null,
            "_view_module_version": "1.2.0",
            "grid_template_areas": null,
            "object_position": null,
            "object_fit": null,
            "grid_auto_columns": null,
            "margin": null,
            "display": null,
            "left": null
          }
        },
        "cb5712f7e6b04d31b58f31ec773fe3c4": {
          "model_module": "@jupyter-widgets/controls",
          "model_name": "DescriptionStyleModel",
          "state": {
            "_view_name": "StyleView",
            "_model_name": "DescriptionStyleModel",
            "description_width": "",
            "_view_module": "@jupyter-widgets/base",
            "_model_module_version": "1.5.0",
            "_view_count": null,
            "_view_module_version": "1.2.0",
            "_model_module": "@jupyter-widgets/controls"
          }
        },
        "f21dec741de54effb2d99c8227a566f7": {
          "model_module": "@jupyter-widgets/base",
          "model_name": "LayoutModel",
          "state": {
            "_view_name": "LayoutView",
            "grid_template_rows": null,
            "right": null,
            "justify_content": null,
            "_view_module": "@jupyter-widgets/base",
            "overflow": null,
            "_model_module_version": "1.2.0",
            "_view_count": null,
            "flex_flow": null,
            "width": null,
            "min_width": null,
            "border": null,
            "align_items": null,
            "bottom": null,
            "_model_module": "@jupyter-widgets/base",
            "top": null,
            "grid_column": null,
            "overflow_y": null,
            "overflow_x": null,
            "grid_auto_flow": null,
            "grid_area": null,
            "grid_template_columns": null,
            "flex": null,
            "_model_name": "LayoutModel",
            "justify_items": null,
            "grid_row": null,
            "max_height": null,
            "align_content": null,
            "visibility": null,
            "align_self": null,
            "height": null,
            "min_height": null,
            "padding": null,
            "grid_auto_rows": null,
            "grid_gap": null,
            "max_width": null,
            "order": null,
            "_view_module_version": "1.2.0",
            "grid_template_areas": null,
            "object_position": null,
            "object_fit": null,
            "grid_auto_columns": null,
            "margin": null,
            "display": null,
            "left": null
          }
        },
        "69523e59451b4928b03ae1d5aff82dcd": {
          "model_module": "@jupyter-widgets/controls",
          "model_name": "HBoxModel",
          "state": {
            "_view_name": "HBoxView",
            "_dom_classes": [],
            "_model_name": "HBoxModel",
            "_view_module": "@jupyter-widgets/controls",
            "_model_module_version": "1.5.0",
            "_view_count": null,
            "_view_module_version": "1.5.0",
            "box_style": "",
            "layout": "IPY_MODEL_ea1141de14674e0cba69b1944a0d0842",
            "_model_module": "@jupyter-widgets/controls",
            "children": [
              "IPY_MODEL_c6563e66d2ba46dabaef7f188a8b41d9",
              "IPY_MODEL_e198dcf567724ceebcfa124cea48a32c"
            ]
          }
        },
        "ea1141de14674e0cba69b1944a0d0842": {
          "model_module": "@jupyter-widgets/base",
          "model_name": "LayoutModel",
          "state": {
            "_view_name": "LayoutView",
            "grid_template_rows": null,
            "right": null,
            "justify_content": null,
            "_view_module": "@jupyter-widgets/base",
            "overflow": null,
            "_model_module_version": "1.2.0",
            "_view_count": null,
            "flex_flow": null,
            "width": null,
            "min_width": null,
            "border": null,
            "align_items": null,
            "bottom": null,
            "_model_module": "@jupyter-widgets/base",
            "top": null,
            "grid_column": null,
            "overflow_y": null,
            "overflow_x": null,
            "grid_auto_flow": null,
            "grid_area": null,
            "grid_template_columns": null,
            "flex": null,
            "_model_name": "LayoutModel",
            "justify_items": null,
            "grid_row": null,
            "max_height": null,
            "align_content": null,
            "visibility": null,
            "align_self": null,
            "height": null,
            "min_height": null,
            "padding": null,
            "grid_auto_rows": null,
            "grid_gap": null,
            "max_width": null,
            "order": null,
            "_view_module_version": "1.2.0",
            "grid_template_areas": null,
            "object_position": null,
            "object_fit": null,
            "grid_auto_columns": null,
            "margin": null,
            "display": null,
            "left": null
          }
        },
        "c6563e66d2ba46dabaef7f188a8b41d9": {
          "model_module": "@jupyter-widgets/controls",
          "model_name": "FloatProgressModel",
          "state": {
            "_view_name": "ProgressView",
            "style": "IPY_MODEL_d1cc304f04b849faaa28969e8b4a7404",
            "_dom_classes": [],
            "description": "  0%",
            "_model_name": "FloatProgressModel",
            "bar_style": "info",
            "max": 1,
            "_view_module": "@jupyter-widgets/controls",
            "_model_module_version": "1.5.0",
            "value": 0,
            "_view_count": null,
            "_view_module_version": "1.5.0",
            "orientation": "horizontal",
            "min": 0,
            "description_tooltip": null,
            "_model_module": "@jupyter-widgets/controls",
            "layout": "IPY_MODEL_27987c58fc4e4322bfcc4e39782dbc9e"
          }
        },
        "e198dcf567724ceebcfa124cea48a32c": {
          "model_module": "@jupyter-widgets/controls",
          "model_name": "HTMLModel",
          "state": {
            "_view_name": "HTMLView",
            "style": "IPY_MODEL_48e55175a1404024ab3b787f3095985a",
            "_dom_classes": [],
            "description": "",
            "_model_name": "HTMLModel",
            "placeholder": "​",
            "_view_module": "@jupyter-widgets/controls",
            "_model_module_version": "1.5.0",
            "value": " 0/4542 [00:00&lt;?, ?it/s]",
            "_view_count": null,
            "_view_module_version": "1.5.0",
            "description_tooltip": null,
            "_model_module": "@jupyter-widgets/controls",
            "layout": "IPY_MODEL_85f495470cf64eb59adcc57ee9cb2457"
          }
        },
        "d1cc304f04b849faaa28969e8b4a7404": {
          "model_module": "@jupyter-widgets/controls",
          "model_name": "ProgressStyleModel",
          "state": {
            "_view_name": "StyleView",
            "_model_name": "ProgressStyleModel",
            "description_width": "initial",
            "_view_module": "@jupyter-widgets/base",
            "_model_module_version": "1.5.0",
            "_view_count": null,
            "_view_module_version": "1.2.0",
            "bar_color": null,
            "_model_module": "@jupyter-widgets/controls"
          }
        },
        "27987c58fc4e4322bfcc4e39782dbc9e": {
          "model_module": "@jupyter-widgets/base",
          "model_name": "LayoutModel",
          "state": {
            "_view_name": "LayoutView",
            "grid_template_rows": null,
            "right": null,
            "justify_content": null,
            "_view_module": "@jupyter-widgets/base",
            "overflow": null,
            "_model_module_version": "1.2.0",
            "_view_count": null,
            "flex_flow": null,
            "width": null,
            "min_width": null,
            "border": null,
            "align_items": null,
            "bottom": null,
            "_model_module": "@jupyter-widgets/base",
            "top": null,
            "grid_column": null,
            "overflow_y": null,
            "overflow_x": null,
            "grid_auto_flow": null,
            "grid_area": null,
            "grid_template_columns": null,
            "flex": null,
            "_model_name": "LayoutModel",
            "justify_items": null,
            "grid_row": null,
            "max_height": null,
            "align_content": null,
            "visibility": null,
            "align_self": null,
            "height": null,
            "min_height": null,
            "padding": null,
            "grid_auto_rows": null,
            "grid_gap": null,
            "max_width": null,
            "order": null,
            "_view_module_version": "1.2.0",
            "grid_template_areas": null,
            "object_position": null,
            "object_fit": null,
            "grid_auto_columns": null,
            "margin": null,
            "display": null,
            "left": null
          }
        },
        "48e55175a1404024ab3b787f3095985a": {
          "model_module": "@jupyter-widgets/controls",
          "model_name": "DescriptionStyleModel",
          "state": {
            "_view_name": "StyleView",
            "_model_name": "DescriptionStyleModel",
            "description_width": "",
            "_view_module": "@jupyter-widgets/base",
            "_model_module_version": "1.5.0",
            "_view_count": null,
            "_view_module_version": "1.2.0",
            "_model_module": "@jupyter-widgets/controls"
          }
        },
        "85f495470cf64eb59adcc57ee9cb2457": {
          "model_module": "@jupyter-widgets/base",
          "model_name": "LayoutModel",
          "state": {
            "_view_name": "LayoutView",
            "grid_template_rows": null,
            "right": null,
            "justify_content": null,
            "_view_module": "@jupyter-widgets/base",
            "overflow": null,
            "_model_module_version": "1.2.0",
            "_view_count": null,
            "flex_flow": null,
            "width": null,
            "min_width": null,
            "border": null,
            "align_items": null,
            "bottom": null,
            "_model_module": "@jupyter-widgets/base",
            "top": null,
            "grid_column": null,
            "overflow_y": null,
            "overflow_x": null,
            "grid_auto_flow": null,
            "grid_area": null,
            "grid_template_columns": null,
            "flex": null,
            "_model_name": "LayoutModel",
            "justify_items": null,
            "grid_row": null,
            "max_height": null,
            "align_content": null,
            "visibility": null,
            "align_self": null,
            "height": null,
            "min_height": null,
            "padding": null,
            "grid_auto_rows": null,
            "grid_gap": null,
            "max_width": null,
            "order": null,
            "_view_module_version": "1.2.0",
            "grid_template_areas": null,
            "object_position": null,
            "object_fit": null,
            "grid_auto_columns": null,
            "margin": null,
            "display": null,
            "left": null
          }
        }
      }
    }
  },
  "cells": [
    {
      "cell_type": "markdown",
      "metadata": {
        "colab_type": "text",
        "id": "BN7Va6PVugkr"
      },
      "source": [
        "# PyTorchでの学習・推論を高速化するコツ集\n",
        "## MNISTでいろいろ試す\n",
        "### 初期設定\n"
      ]
    },
    {
      "cell_type": "code",
      "metadata": {
        "colab_type": "code",
        "id": "phHwkV-Lubu5",
        "colab": {}
      },
      "source": [
        "import torch\n",
        "import torch.nn as nn\n",
        "import torch.nn.functional as F\n",
        "import torch.optim as optim\n",
        "from torchvision import datasets, transforms"
      ],
      "execution_count": 1,
      "outputs": []
    },
    {
      "cell_type": "code",
      "metadata": {
        "colab_type": "code",
        "id": "W36WLSNQuo3J",
        "colab": {
          "base_uri": "https://localhost:8080/",
          "height": 36
        },
        "outputId": "1846f28e-4983-43b7-ff6f-be4e5e77e746"
      },
      "source": [
        "# pytorch version 確認\n",
        "torch.__version__  # 1.6.0+cu101\n"
      ],
      "execution_count": 2,
      "outputs": [
        {
          "output_type": "execute_result",
          "data": {
            "application/vnd.google.colaboratory.intrinsic+json": {
              "type": "string"
            },
            "text/plain": [
              "'1.6.0+cu101'"
            ]
          },
          "metadata": {
            "tags": []
          },
          "execution_count": 2
        }
      ]
    },
    {
      "cell_type": "code",
      "metadata": {
        "colab_type": "code",
        "id": "6iUX0nTSvmgQ",
        "colab": {
          "base_uri": "https://localhost:8080/",
          "height": 34
        },
        "outputId": "f7407314-60a3-44e4-f18e-6437eb2b9017"
      },
      "source": [
        "# GPU使用の確認\n",
        "# Google Colaboratoryでは「ランタイム」→「ランタイムタイムを変更」でGPUに\n",
        "\n",
        "device = torch.device(\"cuda\" if torch.cuda.is_available() else \"cpu\")\n",
        "print(device)  # cuda(GPU)\n"
      ],
      "execution_count": 3,
      "outputs": [
        {
          "output_type": "stream",
          "text": [
            "cuda\n"
          ],
          "name": "stdout"
        }
      ]
    },
    {
      "cell_type": "code",
      "metadata": {
        "colab_type": "code",
        "id": "u80XR56hMmrJ",
        "colab": {
          "base_uri": "https://localhost:8080/",
          "height": 366
        },
        "outputId": "bca1cd8a-a5fb-4039-b967-fe68fdee2f84"
      },
      "source": [
        "# GPUの確認\n",
        "!nvidia-smi"
      ],
      "execution_count": 4,
      "outputs": [
        {
          "output_type": "stream",
          "text": [
            "Mon Sep  7 10:36:14 2020       \n",
            "+-----------------------------------------------------------------------------+\n",
            "| NVIDIA-SMI 450.66       Driver Version: 418.67       CUDA Version: 10.1     |\n",
            "|-------------------------------+----------------------+----------------------+\n",
            "| GPU  Name        Persistence-M| Bus-Id        Disp.A | Volatile Uncorr. ECC |\n",
            "| Fan  Temp  Perf  Pwr:Usage/Cap|         Memory-Usage | GPU-Util  Compute M. |\n",
            "|                               |                      |               MIG M. |\n",
            "|===============================+======================+======================|\n",
            "|   0  Tesla T4            Off  | 00000000:00:04.0 Off |                    0 |\n",
            "| N/A   66C    P8    14W /  70W |     10MiB / 15079MiB |      0%      Default |\n",
            "|                               |                      |                 ERR! |\n",
            "+-------------------------------+----------------------+----------------------+\n",
            "                                                                               \n",
            "+-----------------------------------------------------------------------------+\n",
            "| Processes:                                                                  |\n",
            "|  GPU   GI   CI        PID   Type   Process name                  GPU Memory |\n",
            "|        ID   ID                                                   Usage      |\n",
            "|=============================================================================|\n",
            "|  No running processes found                                                 |\n",
            "+-----------------------------------------------------------------------------+\n"
          ],
          "name": "stdout"
        }
      ]
    },
    {
      "cell_type": "markdown",
      "metadata": {
        "colab_type": "text",
        "id": "nlwUkx7-vCLg"
      },
      "source": [
        "### ネットワーク・モデルの設定"
      ]
    },
    {
      "cell_type": "code",
      "metadata": {
        "colab_type": "code",
        "id": "StSi5HrHuiG_",
        "colab": {}
      },
      "source": [
        "# 参考: https://github.com/pytorch/examples/blob/master/mnist/main.py\n",
        "\n",
        "class Net(nn.Module):\n",
        "    def __init__(self):\n",
        "        super(Net, self).__init__()\n",
        "        self.conv1 = nn.Conv2d(1, 32, 3, 1)\n",
        "        self.conv2 = nn.Conv2d(32, 64, 3, 1)\n",
        "        self.dropout1 = nn.Dropout2d(0.25)\n",
        "        self.dropout2 = nn.Dropout2d(0.5)\n",
        "        self.fc1 = nn.Linear(9216, 128)\n",
        "        self.fc2 = nn.Linear(128, 10)\n",
        "\n",
        "    def forward(self, x):\n",
        "        x = self.conv1(x)\n",
        "        x = F.relu(x)\n",
        "        x = self.conv2(x)\n",
        "        x = F.relu(x)\n",
        "        x = F.max_pool2d(x, 2)\n",
        "        x = self.dropout1(x)\n",
        "        x = torch.flatten(x, 1)\n",
        "        x = self.fc1(x)\n",
        "        x = F.relu(x)\n",
        "        x = self.dropout2(x)\n",
        "        x = self.fc2(x)\n",
        "        output = F.log_softmax(x, dim=1)\n",
        "        return output\n",
        "        "
      ],
      "execution_count": 5,
      "outputs": []
    },
    {
      "cell_type": "markdown",
      "metadata": {
        "colab_type": "text",
        "id": "RRYA3snHwJSa"
      },
      "source": [
        "## データセットと前処理の設定\n"
      ]
    },
    {
      "cell_type": "code",
      "metadata": {
        "colab_type": "code",
        "id": "0MTCGMTpvT_c",
        "colab": {
          "base_uri": "https://localhost:8080/",
          "height": 409,
          "referenced_widgets": [
            "92cedbb1e570410ea5772a2a417b63cc",
            "a6521eaa69404602a13290055d1e474e",
            "a6c10c5070d84c81adc3d1440c179d95",
            "27abf5bd9a184fc78df1a538c32b16ee",
            "d8d8c7418e40454196e07d46cf54305e",
            "8c00b30909984b48bbd9b63d8e71e92b",
            "03c996f71b824f48b78ae5331a5e5d11",
            "63b236b495584e1893ec108e737a07a8",
            "142d1d02549a4641b7edc5c9a330a1a3",
            "4690cf06b4e9480cabdc019625db84d7",
            "3b86341364ca45b5bbdca928f30b5fbe",
            "3576692884b84608902a867e2b3ee7a8",
            "2e4c1687f96b4107bee7a7e2183eb11a",
            "97424d07b27b465e9cfd4d3e68857f41",
            "ef6de72521d340dab136a262b6a4ef9c",
            "59a80c580f9442eab8ba7b1a1870cedf",
            "c75a90dd0429436fbba22c9780320af3",
            "c53dfd1820cb42f5880f8708a2c2f8b8",
            "b1c3e47b9b94479e894fcbd4c45b582f",
            "cbc4127933bc491692b248d7d2359fab",
            "b8a78e6dbdfd40758c84ea696c7c8a31",
            "e2bf42ef45f1449ca0885b634843c084",
            "cb5712f7e6b04d31b58f31ec773fe3c4",
            "f21dec741de54effb2d99c8227a566f7",
            "69523e59451b4928b03ae1d5aff82dcd",
            "ea1141de14674e0cba69b1944a0d0842",
            "c6563e66d2ba46dabaef7f188a8b41d9",
            "e198dcf567724ceebcfa124cea48a32c",
            "d1cc304f04b849faaa28969e8b4a7404",
            "27987c58fc4e4322bfcc4e39782dbc9e",
            "48e55175a1404024ab3b787f3095985a",
            "85f495470cf64eb59adcc57ee9cb2457"
          ]
        },
        "outputId": "1481c044-e848-4f3f-d3b6-3e308ad953bf"
      },
      "source": [
        "# 前処理\n",
        "transform=transforms.Compose([\n",
        "    transforms.ToTensor(),\n",
        "    transforms.Normalize((0.1307,), (0.3081,))\n",
        "    ])\n",
        "\n",
        "# 訓練データ\n",
        "dataset1 = datasets.MNIST('.', train=True, download=True,\n",
        "                    transform=transform)\n",
        "\n",
        "# 検証データ\n",
        "dataset2 = datasets.MNIST('.', train=False,\n",
        "                    transform=transform)\n"
      ],
      "execution_count": 6,
      "outputs": [
        {
          "output_type": "stream",
          "text": [
            "Downloading http://yann.lecun.com/exdb/mnist/train-images-idx3-ubyte.gz to ./MNIST/raw/train-images-idx3-ubyte.gz\n"
          ],
          "name": "stdout"
        },
        {
          "output_type": "display_data",
          "data": {
            "application/vnd.jupyter.widget-view+json": {
              "model_id": "92cedbb1e570410ea5772a2a417b63cc",
              "version_minor": 0,
              "version_major": 2
            },
            "text/plain": [
              "HBox(children=(FloatProgress(value=1.0, bar_style='info', max=1.0), HTML(value='')))"
            ]
          },
          "metadata": {
            "tags": []
          }
        },
        {
          "output_type": "stream",
          "text": [
            "Extracting ./MNIST/raw/train-images-idx3-ubyte.gz to ./MNIST/raw\n",
            "Downloading http://yann.lecun.com/exdb/mnist/train-labels-idx1-ubyte.gz to ./MNIST/raw/train-labels-idx1-ubyte.gz\n"
          ],
          "name": "stdout"
        },
        {
          "output_type": "display_data",
          "data": {
            "application/vnd.jupyter.widget-view+json": {
              "model_id": "142d1d02549a4641b7edc5c9a330a1a3",
              "version_minor": 0,
              "version_major": 2
            },
            "text/plain": [
              "HBox(children=(FloatProgress(value=1.0, bar_style='info', max=1.0), HTML(value='')))"
            ]
          },
          "metadata": {
            "tags": []
          }
        },
        {
          "output_type": "stream",
          "text": [
            "Extracting ./MNIST/raw/train-labels-idx1-ubyte.gz to ./MNIST/raw\n",
            "Downloading http://yann.lecun.com/exdb/mnist/t10k-images-idx3-ubyte.gz to ./MNIST/raw/t10k-images-idx3-ubyte.gz\n"
          ],
          "name": "stdout"
        },
        {
          "output_type": "display_data",
          "data": {
            "application/vnd.jupyter.widget-view+json": {
              "model_id": "c75a90dd0429436fbba22c9780320af3",
              "version_minor": 0,
              "version_major": 2
            },
            "text/plain": [
              "HBox(children=(FloatProgress(value=1.0, bar_style='info', max=1.0), HTML(value='')))"
            ]
          },
          "metadata": {
            "tags": []
          }
        },
        {
          "output_type": "stream",
          "text": [
            "Extracting ./MNIST/raw/t10k-images-idx3-ubyte.gz to ./MNIST/raw\n",
            "Downloading http://yann.lecun.com/exdb/mnist/t10k-labels-idx1-ubyte.gz to ./MNIST/raw/t10k-labels-idx1-ubyte.gz\n",
            "\n",
            "\n"
          ],
          "name": "stdout"
        },
        {
          "output_type": "display_data",
          "data": {
            "application/vnd.jupyter.widget-view+json": {
              "model_id": "69523e59451b4928b03ae1d5aff82dcd",
              "version_minor": 0,
              "version_major": 2
            },
            "text/plain": [
              "HBox(children=(FloatProgress(value=1.0, bar_style='info', max=1.0), HTML(value='')))"
            ]
          },
          "metadata": {
            "tags": []
          }
        },
        {
          "output_type": "stream",
          "text": [
            "Extracting ./MNIST/raw/t10k-labels-idx1-ubyte.gz to ./MNIST/raw\n",
            "Processing...\n",
            "Done!\n"
          ],
          "name": "stdout"
        },
        {
          "output_type": "stream",
          "text": [
            "/usr/local/lib/python3.6/dist-packages/torchvision/datasets/mnist.py:469: UserWarning: The given NumPy array is not writeable, and PyTorch does not support non-writeable tensors. This means you can write to the underlying (supposedly non-writeable) NumPy array using the tensor. You may want to copy the array to protect its data or make it writeable before converting it to a tensor. This type of warning will be suppressed for the rest of this program. (Triggered internally at  /pytorch/torch/csrc/utils/tensor_numpy.cpp:141.)\n",
            "  return torch.from_numpy(parsed.astype(m[2], copy=False)).view(*s)\n"
          ],
          "name": "stderr"
        }
      ]
    },
    {
      "cell_type": "markdown",
      "metadata": {
        "colab_type": "text",
        "id": "4a8mehDywci_"
      },
      "source": [
        "## 訓練と検証の関数作成"
      ]
    },
    {
      "cell_type": "code",
      "metadata": {
        "colab_type": "code",
        "id": "qr0odUyHwfiy",
        "colab": {}
      },
      "source": [
        "def train(model, device, train_loader, optimizer, epoch):\n",
        "    model.train()  # 訓練モードに\n",
        "    for batch_idx, (data, target) in enumerate(train_loader):\n",
        "        # データ取り出し\n",
        "        data, target = data.to(device), target.to(device)\n",
        "        \n",
        "        optimizer.zero_grad()\n",
        "\n",
        "        # 伝搬\n",
        "        output = model(data)\n",
        "        \n",
        "        # 損失計算とバックプロパゲーション\n",
        "        loss = F.nll_loss(output, target)\n",
        "        loss.backward()\n",
        "        optimizer.step()\n",
        "        \n",
        "        if batch_idx % 100 == 0:\n",
        "            print('Train Epoch: {} [{}/{} ({:.0f}%)]\\tLoss: {:.6f}'.format(\n",
        "                epoch, batch_idx * len(data), len(train_loader.dataset),\n",
        "                100. * batch_idx / len(train_loader), loss.item()))\n"
      ],
      "execution_count": 7,
      "outputs": []
    },
    {
      "cell_type": "code",
      "metadata": {
        "colab_type": "code",
        "id": "gggw3Xr5xjBI",
        "colab": {}
      },
      "source": [
        "def test(model, device, test_loader):\n",
        "    model.eval()  # 検証モードに\n",
        "    test_loss = 0\n",
        "    correct = 0\n",
        "    with torch.no_grad():\n",
        "        for data, target in test_loader:\n",
        "            # データ取り出し\n",
        "            data, target = data.to(device), target.to(device)\n",
        "            output = model(data)\n",
        "            \n",
        "            test_loss += F.nll_loss(output, target, reduction='sum').item()  # sum up batch loss\n",
        "            pred = output.argmax(dim=1, keepdim=True)  # get the index of the max log-probability\n",
        "            correct += pred.eq(target.view_as(pred)).sum().item()\n",
        "\n",
        "    test_loss /= len(test_loader.dataset)\n",
        "\n",
        "    print('\\nTest set: Average loss: {:.4f}, Accuracy: {}/{} ({:.0f}%)\\n'.format(\n",
        "        test_loss, correct, len(test_loader.dataset),\n",
        "        100. * correct / len(test_loader.dataset)))"
      ],
      "execution_count": 8,
      "outputs": []
    },
    {
      "cell_type": "markdown",
      "metadata": {
        "colab_type": "text",
        "id": "cPaYJY-zyXWh"
      },
      "source": [
        "## 1. DataLoaderについて"
      ]
    },
    {
      "cell_type": "code",
      "metadata": {
        "colab_type": "code",
        "id": "GDIy6NRDykbu",
        "colab": {
          "base_uri": "https://localhost:8080/",
          "height": 34
        },
        "outputId": "d89ef31d-af5e-4799-837d-f273110c7892"
      },
      "source": [
        "# CPUのコア数を確認\n",
        "import os\n",
        "os.cpu_count()  # コア\n"
      ],
      "execution_count": 9,
      "outputs": [
        {
          "output_type": "execute_result",
          "data": {
            "text/plain": [
              "2"
            ]
          },
          "metadata": {
            "tags": []
          },
          "execution_count": 9
        }
      ]
    },
    {
      "cell_type": "code",
      "metadata": {
        "colab_type": "code",
        "id": "koQGWAUW2VVY",
        "colab": {}
      },
      "source": [
        "# 関数化\n",
        "import time\n",
        "\n",
        "def MNIST_train(optimizer, model, device, train_loader, test_loader): \n",
        "    # デフォルトで訓練\n",
        "    epochs = 1\n",
        "\n",
        "    start = time.time()\n",
        "\n",
        "    # 処理\n",
        "    for epoch in range(1, epochs+1):\n",
        "        train(model, device, train_loader, optimizer, epoch)\n",
        "        test(model, device, test_loader)\n",
        "\n",
        "    # かかった時間\n",
        "    print(\"=======かかった時間========\")\n",
        "    print(time.time() - start)\n"
      ],
      "execution_count": 10,
      "outputs": []
    },
    {
      "cell_type": "markdown",
      "metadata": {
        "colab_type": "text",
        "id": "amy9elpU1pAS"
      },
      "source": [
        "### 1.1.1 デフォルト"
      ]
    },
    {
      "cell_type": "code",
      "metadata": {
        "id": "HwytfvmeIrWQ",
        "colab_type": "code",
        "colab": {}
      },
      "source": [
        "# ミニバッチのサイズ\n",
        "mini_batch_size = 512"
      ],
      "execution_count": 11,
      "outputs": []
    },
    {
      "cell_type": "code",
      "metadata": {
        "colab_type": "code",
        "id": "FoZOsCZUJpJK",
        "colab": {}
      },
      "source": [
        "# モデル、学習率とoptimizerを設定\n",
        "model = Net().to(device)\n",
        "lr_rate = 0.1\n",
        "optimizer = optim.Adadelta(model.parameters(), lr=lr_rate)"
      ],
      "execution_count": 12,
      "outputs": []
    },
    {
      "cell_type": "code",
      "metadata": {
        "colab_type": "code",
        "id": "27p3gm3Fy5B4",
        "colab": {}
      },
      "source": [
        "# デフォルト設定のDataLoaderの場合\n",
        "train_loader_default = torch.utils.data.DataLoader(dataset1,batch_size=mini_batch_size)\n",
        "test_loader_default = torch.utils.data.DataLoader(dataset2,batch_size=mini_batch_size)\n"
      ],
      "execution_count": 13,
      "outputs": []
    },
    {
      "cell_type": "code",
      "metadata": {
        "colab_type": "code",
        "id": "NWxp1-Gmyjgh",
        "colab": {
          "base_uri": "https://localhost:8080/",
          "height": 139
        },
        "outputId": "630fbd12-5180-49dd-94c5-aa96c1a148bc"
      },
      "source": [
        "MNIST_train(optimizer, model, device, train_loader_default, test_loader_default)"
      ],
      "execution_count": 14,
      "outputs": [
        {
          "output_type": "stream",
          "text": [
            "Train Epoch: 1 [0/60000 (0%)]\tLoss: 2.299600\n",
            "Train Epoch: 1 [51200/60000 (85%)]\tLoss: 0.347677\n",
            "\n",
            "Test set: Average loss: 0.2856, Accuracy: 9115/10000 (91%)\n",
            "\n",
            "=======かかった時間========\n",
            "10.012955904006958\n"
          ],
          "name": "stdout"
        }
      ]
    },
    {
      "cell_type": "markdown",
      "metadata": {
        "colab_type": "text",
        "id": "x_D9bSz71tp6"
      },
      "source": [
        "### 1.1.2 DataLoaderの引数num_workersを設定"
      ]
    },
    {
      "cell_type": "code",
      "metadata": {
        "colab_type": "code",
        "id": "frIHH3LnJr3j",
        "colab": {}
      },
      "source": [
        "# モデル、学習率とoptimizerを設定\n",
        "model = Net().to(device)\n",
        "lr_rate = 0.1\n",
        "optimizer = optim.Adadelta(model.parameters(), lr=lr_rate)"
      ],
      "execution_count": 15,
      "outputs": []
    },
    {
      "cell_type": "code",
      "metadata": {
        "colab_type": "code",
        "id": "sxfuXKsryhRY",
        "colab": {}
      },
      "source": [
        "# データローダー\n",
        "train_loader_nworker = torch.utils.data.DataLoader(dataset1,batch_size=mini_batch_size, num_workers=os.cpu_count()) \n",
        "test_loader_nworker = torch.utils.data.DataLoader(dataset2,batch_size=mini_batch_size, num_workers=os.cpu_count())"
      ],
      "execution_count": 16,
      "outputs": []
    },
    {
      "cell_type": "code",
      "metadata": {
        "colab_type": "code",
        "id": "64Tdr4iC2ACm",
        "colab": {
          "base_uri": "https://localhost:8080/",
          "height": 139
        },
        "outputId": "a12b4fd0-9690-4210-ec1b-4c8d20f888b2"
      },
      "source": [
        "MNIST_train(optimizer, model, device, train_loader_nworker, test_loader_nworker)"
      ],
      "execution_count": 17,
      "outputs": [
        {
          "output_type": "stream",
          "text": [
            "Train Epoch: 1 [0/60000 (0%)]\tLoss: 2.309291\n",
            "Train Epoch: 1 [51200/60000 (85%)]\tLoss: 0.347270\n",
            "\n",
            "Test set: Average loss: 0.3006, Accuracy: 9076/10000 (91%)\n",
            "\n",
            "=======かかった時間========\n",
            "9.438226222991943\n"
          ],
          "name": "stdout"
        }
      ]
    },
    {
      "cell_type": "markdown",
      "metadata": {
        "colab_type": "text",
        "id": "psGTwxv03SUA"
      },
      "source": [
        "### 1.1.3 DataLoaderの引数pin_memoryをTrueに設定"
      ]
    },
    {
      "cell_type": "code",
      "metadata": {
        "colab_type": "code",
        "id": "5QCybqj1JtHA",
        "colab": {}
      },
      "source": [
        "# モデル、学習率とoptimizerを設定\n",
        "model = Net().to(device)\n",
        "lr_rate = 0.1\n",
        "optimizer = optim.Adadelta(model.parameters(), lr=lr_rate)"
      ],
      "execution_count": 18,
      "outputs": []
    },
    {
      "cell_type": "code",
      "metadata": {
        "colab_type": "code",
        "id": "zx3ME-OF2Dlo",
        "colab": {}
      },
      "source": [
        "# データローダー\n",
        "train_loader_pin_memory = torch.utils.data.DataLoader(dataset1,batch_size=mini_batch_size, pin_memory=True) \n",
        "test_loader_pin_memory = torch.utils.data.DataLoader(dataset2,batch_size=mini_batch_size, pin_memory=True)"
      ],
      "execution_count": 19,
      "outputs": []
    },
    {
      "cell_type": "code",
      "metadata": {
        "colab_type": "code",
        "id": "SZnlZ4Io3hGw",
        "colab": {
          "base_uri": "https://localhost:8080/",
          "height": 139
        },
        "outputId": "9d475b6a-030b-47b5-f712-cc322d571ee7"
      },
      "source": [
        "MNIST_train(optimizer, model, device, train_loader_pin_memory, test_loader_pin_memory)"
      ],
      "execution_count": 20,
      "outputs": [
        {
          "output_type": "stream",
          "text": [
            "Train Epoch: 1 [0/60000 (0%)]\tLoss: 2.312266\n",
            "Train Epoch: 1 [51200/60000 (85%)]\tLoss: 0.345708\n",
            "\n",
            "Test set: Average loss: 0.3376, Accuracy: 8935/10000 (89%)\n",
            "\n",
            "=======かかった時間========\n",
            "9.82419753074646\n"
          ],
          "name": "stdout"
        }
      ]
    },
    {
      "cell_type": "code",
      "metadata": {
        "id": "lywJSxXgIrWq",
        "colab_type": "code",
        "colab": {}
      },
      "source": [
        "# データローダー\n",
        "train_loader_pin_memory = torch.utils.data.DataLoader(dataset1,batch_size=mini_batch_size, num_workers=os.cpu_count(), pin_memory=True) \n",
        "test_loader_pin_memory = torch.utils.data.DataLoader(dataset2,batch_size=mini_batch_size, num_workers=os.cpu_count(), pin_memory=True)"
      ],
      "execution_count": 21,
      "outputs": []
    },
    {
      "cell_type": "code",
      "metadata": {
        "id": "cvQu9xdRIrWs",
        "colab_type": "code",
        "colab": {
          "base_uri": "https://localhost:8080/",
          "height": 139
        },
        "outputId": "12ddda0a-c692-47d9-d06a-828c0f38fec5"
      },
      "source": [
        "MNIST_train(optimizer, model, device, train_loader_pin_memory, test_loader_pin_memory)"
      ],
      "execution_count": 22,
      "outputs": [
        {
          "output_type": "stream",
          "text": [
            "Train Epoch: 1 [0/60000 (0%)]\tLoss: 0.414795\n",
            "Train Epoch: 1 [51200/60000 (85%)]\tLoss: 0.225857\n",
            "\n",
            "Test set: Average loss: 0.1940, Accuracy: 9401/10000 (94%)\n",
            "\n",
            "=======かかった時間========\n",
            "9.355701923370361\n"
          ],
          "name": "stdout"
        }
      ]
    },
    {
      "cell_type": "markdown",
      "metadata": {
        "colab_type": "text",
        "id": "FNRqAYMGI-Fc"
      },
      "source": [
        "## 2. torch.backends.cudnn.benchmark = True"
      ]
    },
    {
      "cell_type": "code",
      "metadata": {
        "colab_type": "code",
        "id": "ecJE2LRYJu8L",
        "colab": {}
      },
      "source": [
        "# モデル、学習率とoptimizerを設定\n",
        "model = Net().to(device)\n",
        "lr_rate = 0.1\n",
        "optimizer = optim.Adadelta(model.parameters(), lr=lr_rate)"
      ],
      "execution_count": 23,
      "outputs": []
    },
    {
      "cell_type": "code",
      "metadata": {
        "colab_type": "code",
        "id": "DMvaisboJxzC",
        "colab": {}
      },
      "source": [
        "# データローダー\n",
        "train_loader_pin_memory = torch.utils.data.DataLoader(dataset1,batch_size=mini_batch_size, num_workers=0, pin_memory=False) \n",
        "test_loader_pin_memory = torch.utils.data.DataLoader(dataset2,batch_size=mini_batch_size, num_workers=0, pin_memory=False)"
      ],
      "execution_count": 24,
      "outputs": []
    },
    {
      "cell_type": "code",
      "metadata": {
        "colab_type": "code",
        "id": "EwxupKr33oX1",
        "colab": {}
      },
      "source": [
        "# 関数化\n",
        "\n",
        "def MNIST_train_cudnn_benchmark_True(optimizer, model, device, train_loader, test_loader): \n",
        "    # デフォルトで訓練\n",
        "    epochs = 1\n",
        "\n",
        "    start = time.time()\n",
        "    \n",
        "    # 追加\n",
        "    torch.backends.cudnn.benchmark = True\n",
        "\n",
        "    # 処理\n",
        "    for epoch in range(1, epochs+1):\n",
        "        train(model, device, train_loader, optimizer, epoch)\n",
        "        test(model, device, test_loader)\n",
        "\n",
        "    # かかった時間\n",
        "    print(\"=======かかった時間========\")\n",
        "    print(time.time() - start)\n",
        "    "
      ],
      "execution_count": 25,
      "outputs": []
    },
    {
      "cell_type": "code",
      "metadata": {
        "colab_type": "code",
        "id": "LRdBs4n-JTbd",
        "colab": {
          "base_uri": "https://localhost:8080/",
          "height": 139
        },
        "outputId": "8475d05e-db7d-491c-ee8d-57a031890ba0"
      },
      "source": [
        "MNIST_train_cudnn_benchmark_True(optimizer, model, device, train_loader_pin_memory, test_loader_pin_memory)"
      ],
      "execution_count": 26,
      "outputs": [
        {
          "output_type": "stream",
          "text": [
            "Train Epoch: 1 [0/60000 (0%)]\tLoss: 2.311245\n",
            "Train Epoch: 1 [51200/60000 (85%)]\tLoss: 0.329467\n",
            "\n",
            "Test set: Average loss: 0.2807, Accuracy: 9117/10000 (91%)\n",
            "\n",
            "=======かかった時間========\n",
            "9.665537357330322\n"
          ],
          "name": "stdout"
        }
      ]
    },
    {
      "cell_type": "code",
      "metadata": {
        "id": "Nui9YuAiIrW4",
        "colab_type": "code",
        "colab": {}
      },
      "source": [
        "# モデル、学習率とoptimizerを設定\n",
        "model = Net().to(device)\n",
        "lr_rate = 0.1\n",
        "optimizer = optim.Adadelta(model.parameters(), lr=lr_rate)"
      ],
      "execution_count": 27,
      "outputs": []
    },
    {
      "cell_type": "code",
      "metadata": {
        "colab_type": "code",
        "id": "bxbz5UbrPAhb",
        "colab": {}
      },
      "source": [
        "# データローダー\n",
        "train_loader_pin_memory = torch.utils.data.DataLoader(dataset1,batch_size=mini_batch_size, num_workers=os.cpu_count(), pin_memory=True) \n",
        "test_loader_pin_memory = torch.utils.data.DataLoader(dataset2,batch_size=mini_batch_size, num_workers=os.cpu_count(), pin_memory=True)"
      ],
      "execution_count": 28,
      "outputs": []
    },
    {
      "cell_type": "code",
      "metadata": {
        "id": "EoLOmWIiIrW7",
        "colab_type": "code",
        "colab": {
          "base_uri": "https://localhost:8080/",
          "height": 139
        },
        "outputId": "e5712aca-0ad8-4fba-b54a-01d4fc7d8d4a"
      },
      "source": [
        "MNIST_train_cudnn_benchmark_True(optimizer, model, device, train_loader_pin_memory, test_loader_pin_memory)"
      ],
      "execution_count": 29,
      "outputs": [
        {
          "output_type": "stream",
          "text": [
            "Train Epoch: 1 [0/60000 (0%)]\tLoss: 2.307252\n",
            "Train Epoch: 1 [51200/60000 (85%)]\tLoss: 0.352151\n",
            "\n",
            "Test set: Average loss: 0.2824, Accuracy: 9149/10000 (91%)\n",
            "\n",
            "=======かかった時間========\n",
            "9.430772542953491\n"
          ],
          "name": "stdout"
        }
      ]
    },
    {
      "cell_type": "markdown",
      "metadata": {
        "id": "pflx_g7nIrW-",
        "colab_type": "text"
      },
      "source": [
        "## JITで単純な計算"
      ]
    },
    {
      "cell_type": "code",
      "metadata": {
        "id": "sjrpaISdIrXC",
        "colab_type": "code",
        "colab": {}
      },
      "source": [
        "x = torch.randn(2000, 30, 200)\n"
      ],
      "execution_count": 58,
      "outputs": []
    },
    {
      "cell_type": "code",
      "metadata": {
        "id": "ex5o8-hGIrW-",
        "colab_type": "code",
        "colab": {}
      },
      "source": [
        "def gelu(x):\n",
        "    return x * 0.5 * (1.0 + torch.erf(x / 1.41421))"
      ],
      "execution_count": 59,
      "outputs": []
    },
    {
      "cell_type": "code",
      "metadata": {
        "id": "s7-83qEjIrXE",
        "colab_type": "code",
        "colab": {
          "base_uri": "https://localhost:8080/",
          "height": 52
        },
        "outputId": "3a2e9701-a5ee-46d0-ec88-85a2c0f20289"
      },
      "source": [
        "start = time.time()\n",
        "\n",
        "for i in range(200):\n",
        "    gelu(x)\n",
        "\n",
        "# かかった時間\n",
        "print(\"=======かかった時間========\")\n",
        "print(time.time() - start)\n"
      ],
      "execution_count": 60,
      "outputs": [
        {
          "output_type": "stream",
          "text": [
            "=======かかった時間========\n",
            "13.940660238265991\n"
          ],
          "name": "stdout"
        }
      ]
    },
    {
      "cell_type": "code",
      "metadata": {
        "id": "TR8RYGIeJvb0",
        "colab_type": "code",
        "colab": {}
      },
      "source": [
        "@torch.jit.script\n",
        "def fused_gelu(x):\n",
        "    return x * 0.5 * (1.0 + torch.erf(x / 1.41421))"
      ],
      "execution_count": 61,
      "outputs": []
    },
    {
      "cell_type": "code",
      "metadata": {
        "id": "FBNcO3ItIrXG",
        "colab_type": "code",
        "colab": {
          "base_uri": "https://localhost:8080/",
          "height": 52
        },
        "outputId": "972cdefe-5de9-4f17-dd54-efbb93ec1e67"
      },
      "source": [
        "start = time.time()\n",
        "\n",
        "for i in range(200):\n",
        "    fused_gelu(x)\n",
        "    \n",
        "# かかった時間\n",
        "print(\"=======かかった時間========\")\n",
        "print(time.time() - start)"
      ],
      "execution_count": 62,
      "outputs": [
        {
          "output_type": "stream",
          "text": [
            "=======かかった時間========\n",
            "13.91282844543457\n"
          ],
          "name": "stdout"
        }
      ]
    },
    {
      "cell_type": "markdown",
      "metadata": {
        "id": "8fdH8M1MIrXJ",
        "colab_type": "text"
      },
      "source": [
        "## PyTorch AMP"
      ]
    },
    {
      "cell_type": "code",
      "metadata": {
        "id": "ngnnQiWZIrXJ",
        "colab_type": "code",
        "colab": {}
      },
      "source": [
        "# https://pytorch.org/docs/stable/notes/amp_examples.html#amp-examples"
      ],
      "execution_count": 35,
      "outputs": []
    },
    {
      "cell_type": "code",
      "metadata": {
        "id": "iynlslG-IrXL",
        "colab_type": "code",
        "colab": {}
      },
      "source": [
        "def train_PyTorchAMP(model, device, train_loader, optimizer, epoch):\n",
        "    model.train()  # 訓練モードに\n",
        "    \n",
        "    scaler = torch.cuda.amp.GradScaler()\n",
        "    \n",
        "    for batch_idx, (data, target) in enumerate(train_loader):\n",
        "        # データ取り出し\n",
        "        data, target = data.to(device), target.to(device)\n",
        "        \n",
        "        optimizer.zero_grad()\n",
        "\n",
        "        # 伝搬\n",
        "        # Runs the forward pass with autocasting.\n",
        "        with torch.cuda.amp.autocast():\n",
        "            output = model(data)\n",
        "            loss = F.nll_loss(output, target)\n",
        "        \n",
        "        # Scales loss.  Calls backward() on scaled loss to create scaled gradients.\n",
        "        # Backward passes under autocast are not recommended.\n",
        "        # Backward ops run in the same dtype autocast chose for corresponding forward ops.\n",
        "        scaler.scale(loss).backward()\n",
        "\n",
        "        \n",
        "        # scaler.step() first unscales the gradients of the optimizer's assigned params.\n",
        "        # If these gradients do not contain infs or NaNs, optimizer.step() is then called,\n",
        "        # otherwise, optimizer.step() is skipped.\n",
        "        scaler.step(optimizer)\n",
        "\n",
        "        # Updates the scale for next iteration.\n",
        "        scaler.update()\n",
        "        \n",
        "        if batch_idx % 100 == 0:\n",
        "            print('Train Epoch: {} [{}/{} ({:.0f}%)]\\tLoss: {:.6f}'.format(\n",
        "                epoch, batch_idx * len(data), len(train_loader.dataset),\n",
        "                100. * batch_idx / len(train_loader), loss.item()))"
      ],
      "execution_count": 36,
      "outputs": []
    },
    {
      "cell_type": "code",
      "metadata": {
        "id": "1EZsaJuQIrXN",
        "colab_type": "code",
        "colab": {}
      },
      "source": [
        "# 関数化\n",
        "\n",
        "def MNIST_train_PyTorchAMP(optimizer, model, device, train_loader, test_loader): \n",
        "    # デフォルトで訓練\n",
        "    epochs = 1\n",
        "    \n",
        "    start = time.time()\n",
        "    \n",
        "    # 追加\n",
        "    torch.backends.cudnn.benchmark = True\n",
        "\n",
        "    # 処理\n",
        "    for epoch in range(1, epochs+1):\n",
        "        train_PyTorchAMP(model, device, train_loader, optimizer, epoch)\n",
        "        test(model, device, test_loader)\n",
        "\n",
        "    # かかった時間\n",
        "    print(\"=======かかった時間========\")\n",
        "    print(time.time() - start)"
      ],
      "execution_count": 37,
      "outputs": []
    },
    {
      "cell_type": "code",
      "metadata": {
        "id": "QmD2Ol7wIrXP",
        "colab_type": "code",
        "colab": {}
      },
      "source": [
        "# モデル、学習率とoptimizerを設定\n",
        "model = Net().to(device)\n",
        "lr_rate = 0.1\n",
        "optimizer = optim.Adadelta(model.parameters(), lr=lr_rate)\n"
      ],
      "execution_count": 38,
      "outputs": []
    },
    {
      "cell_type": "code",
      "metadata": {
        "id": "2edFT6ZYIrXS",
        "colab_type": "code",
        "colab": {}
      },
      "source": [
        "# データローダー\n",
        "train_loader_pin_memory = torch.utils.data.DataLoader(dataset1,batch_size=mini_batch_size, num_workers=0, pin_memory=True) \n",
        "test_loader_pin_memory = torch.utils.data.DataLoader(dataset2,batch_size=mini_batch_size, num_workers=0, pin_memory=True)\n"
      ],
      "execution_count": 39,
      "outputs": []
    },
    {
      "cell_type": "code",
      "metadata": {
        "id": "Tnu1kMyQIrXV",
        "colab_type": "code",
        "colab": {
          "base_uri": "https://localhost:8080/",
          "height": 139
        },
        "outputId": "d959a341-9d6b-40b3-bebf-289638bb81e6"
      },
      "source": [
        "MNIST_train_PyTorchAMP(optimizer, model, device, train_loader_pin_memory, test_loader_pin_memory)\n"
      ],
      "execution_count": 40,
      "outputs": [
        {
          "output_type": "stream",
          "text": [
            "Train Epoch: 1 [0/60000 (0%)]\tLoss: 2.305522\n",
            "Train Epoch: 1 [51200/60000 (85%)]\tLoss: 0.362417\n",
            "\n",
            "Test set: Average loss: 0.3018, Accuracy: 9049/10000 (90%)\n",
            "\n",
            "=======かかった時間========\n",
            "11.979908227920532\n"
          ],
          "name": "stdout"
        }
      ]
    },
    {
      "cell_type": "code",
      "metadata": {
        "id": "RIYYo_p_IrXZ",
        "colab_type": "code",
        "colab": {}
      },
      "source": [
        "#"
      ],
      "execution_count": 41,
      "outputs": []
    },
    {
      "cell_type": "code",
      "metadata": {
        "id": "ZCaNltlVIrXb",
        "colab_type": "code",
        "colab": {}
      },
      "source": [
        "# モデル、学習率とoptimizerを設定\n",
        "model = Net().to(device)\n",
        "lr_rate = 0.1\n",
        "optimizer = optim.Adadelta(model.parameters(), lr=lr_rate)\n"
      ],
      "execution_count": 42,
      "outputs": []
    },
    {
      "cell_type": "code",
      "metadata": {
        "id": "Wa84NIgMIrXe",
        "colab_type": "code",
        "colab": {}
      },
      "source": [
        "# データローダー\n",
        "train_loader_pin_memory = torch.utils.data.DataLoader(dataset1,batch_size=mini_batch_size, num_workers=os.cpu_count(), pin_memory=True) \n",
        "test_loader_pin_memory = torch.utils.data.DataLoader(dataset2,batch_size=mini_batch_size, num_workers=os.cpu_count(), pin_memory=True)"
      ],
      "execution_count": 43,
      "outputs": []
    },
    {
      "cell_type": "code",
      "metadata": {
        "id": "BwOi14PkIrXi",
        "colab_type": "code",
        "colab": {
          "base_uri": "https://localhost:8080/",
          "height": 139
        },
        "outputId": "9d5d44cf-6faf-4bf0-b943-2d2495bae38c"
      },
      "source": [
        "MNIST_train_PyTorchAMP(optimizer, model, device, train_loader_pin_memory, test_loader_pin_memory)\n"
      ],
      "execution_count": 44,
      "outputs": [
        {
          "output_type": "stream",
          "text": [
            "Train Epoch: 1 [0/60000 (0%)]\tLoss: 2.308083\n",
            "Train Epoch: 1 [51200/60000 (85%)]\tLoss: 0.332464\n",
            "\n",
            "Test set: Average loss: 0.3162, Accuracy: 9035/10000 (90%)\n",
            "\n",
            "=======かかった時間========\n",
            "9.713011741638184\n"
          ],
          "name": "stdout"
        }
      ]
    },
    {
      "cell_type": "markdown",
      "metadata": {
        "colab_type": "text",
        "id": "vRY3_flJPBPZ"
      },
      "source": [
        "# APX"
      ]
    },
    {
      "cell_type": "code",
      "metadata": {
        "id": "GnfLR1T9IrXl",
        "colab_type": "code",
        "colab": {}
      },
      "source": [
        "# 以下は\n",
        "# https://github.com/NVIDIA/apex\n",
        "# を参考にAPXをインストールしておく\n",
        "\n",
        "#$ git clone https://github.com/NVIDIA/apex\n",
        "#$ cd apex\n",
        "#s$ pip install -v --no-cache-dir --global-option=\"--cpp_ext\" --global-option=\"--cuda_ext\" ./"
      ],
      "execution_count": 45,
      "outputs": []
    },
    {
      "cell_type": "code",
      "metadata": {
        "id": "iV6buNMDIrXq",
        "colab_type": "code",
        "colab": {}
      },
      "source": [
        "# モデル、学習率とoptimizerを設定\n",
        "model = Net().to(device)\n",
        "lr_rate = 0.1\n",
        "optimizer = optim.Adadelta(model.parameters(), lr=lr_rate)"
      ],
      "execution_count": 46,
      "outputs": []
    },
    {
      "cell_type": "code",
      "metadata": {
        "colab_type": "code",
        "id": "Fm9gZR7WLbc9",
        "colab": {
          "base_uri": "https://localhost:8080/",
          "height": 380
        },
        "outputId": "90140e8d-3802-465d-8f0b-690607095d24"
      },
      "source": [
        "from apex import amp, optimizers\n",
        "\n",
        "# Initialization\n",
        "opt_level = 'O1'\n",
        "model, optimizer = amp.initialize(model, optimizer, opt_level=opt_level)\n"
      ],
      "execution_count": 47,
      "outputs": [
        {
          "output_type": "error",
          "ename": "ModuleNotFoundError",
          "evalue": "ignored",
          "traceback": [
            "\u001b[0;31m---------------------------------------------------------------------------\u001b[0m",
            "\u001b[0;31mModuleNotFoundError\u001b[0m                       Traceback (most recent call last)",
            "\u001b[0;32m<ipython-input-47-dd9c3f0fd584>\u001b[0m in \u001b[0;36m<module>\u001b[0;34m()\u001b[0m\n\u001b[0;32m----> 1\u001b[0;31m \u001b[0;32mfrom\u001b[0m \u001b[0mapex\u001b[0m \u001b[0;32mimport\u001b[0m \u001b[0mamp\u001b[0m\u001b[0;34m,\u001b[0m \u001b[0moptimizers\u001b[0m\u001b[0;34m\u001b[0m\u001b[0;34m\u001b[0m\u001b[0m\n\u001b[0m\u001b[1;32m      2\u001b[0m \u001b[0;34m\u001b[0m\u001b[0m\n\u001b[1;32m      3\u001b[0m \u001b[0;31m# Initialization\u001b[0m\u001b[0;34m\u001b[0m\u001b[0;34m\u001b[0m\u001b[0;34m\u001b[0m\u001b[0m\n\u001b[1;32m      4\u001b[0m \u001b[0mopt_level\u001b[0m \u001b[0;34m=\u001b[0m \u001b[0;34m'O1'\u001b[0m\u001b[0;34m\u001b[0m\u001b[0;34m\u001b[0m\u001b[0m\n\u001b[1;32m      5\u001b[0m \u001b[0mmodel\u001b[0m\u001b[0;34m,\u001b[0m \u001b[0moptimizer\u001b[0m \u001b[0;34m=\u001b[0m \u001b[0mamp\u001b[0m\u001b[0;34m.\u001b[0m\u001b[0minitialize\u001b[0m\u001b[0;34m(\u001b[0m\u001b[0mmodel\u001b[0m\u001b[0;34m,\u001b[0m \u001b[0moptimizer\u001b[0m\u001b[0;34m,\u001b[0m \u001b[0mopt_level\u001b[0m\u001b[0;34m=\u001b[0m\u001b[0mopt_level\u001b[0m\u001b[0;34m)\u001b[0m\u001b[0;34m\u001b[0m\u001b[0;34m\u001b[0m\u001b[0m\n",
            "\u001b[0;31mModuleNotFoundError\u001b[0m: No module named 'apex'",
            "",
            "\u001b[0;31m---------------------------------------------------------------------------\u001b[0;32m\nNOTE: If your import is failing due to a missing package, you can\nmanually install dependencies using either !pip or !apt.\n\nTo view examples of installing some common dependencies, click the\n\"Open Examples\" button below.\n\u001b[0;31m---------------------------------------------------------------------------\u001b[0m\n"
          ]
        }
      ]
    },
    {
      "cell_type": "code",
      "metadata": {
        "colab_type": "code",
        "id": "ATAziU-XPX3z",
        "colab": {}
      },
      "source": [
        "def trainAMP(model, device, train_loader, optimizer, epoch):\n",
        "    model.train()  # 訓練モードに\n",
        "        \n",
        "    for batch_idx, (data, target) in enumerate(train_loader):\n",
        "        # データ取り出し\n",
        "        data, target = data.to(device), target.to(device)\n",
        "        \n",
        "        optimizer.zero_grad()\n",
        "\n",
        "        # 伝搬\n",
        "        output = model(data)\n",
        "        \n",
        "        # 損失計算とバックプロパゲーション\n",
        "        loss = F.nll_loss(output, target)\n",
        "        \n",
        "        # AMP Train your model\n",
        "        with amp.scale_loss(loss, optimizer) as scaled_loss:\n",
        "            scaled_loss.backward()\n",
        "        \n",
        "        optimizer.step()\n",
        "        \n",
        "        if batch_idx % 100 == 0:\n",
        "            print('Train Epoch: {} [{}/{} ({:.0f}%)]\\tLoss: {:.6f}'.format(\n",
        "                epoch, batch_idx * len(data), len(train_loader.dataset),\n",
        "                100. * batch_idx / len(train_loader), loss.item()))\n"
      ],
      "execution_count": null,
      "outputs": []
    },
    {
      "cell_type": "code",
      "metadata": {
        "id": "0Rp96urKIrXx",
        "colab_type": "code",
        "colab": {}
      },
      "source": [
        "# 関数化\n",
        "\n",
        "def MNIST_trainAMP(optimizer, model, device, train_loader, test_loader): \n",
        "    # デフォルトで訓練\n",
        "    epochs = 1\n",
        "\n",
        "    start = time.time()\n",
        "    \n",
        "    # 追加\n",
        "    torch.backends.cudnn.benchmark = True\n",
        "\n",
        "    # 処理\n",
        "    for epoch in range(1, epochs+1):\n",
        "        trainAMP(model, device, train_loader, optimizer, epoch)\n",
        "        test(model, device, test_loader)\n",
        "\n",
        "    # かかった時間\n",
        "    print(\"=======かかった時間========\")\n",
        "    print(time.time() - start)\n",
        "    "
      ],
      "execution_count": null,
      "outputs": []
    },
    {
      "cell_type": "code",
      "metadata": {
        "id": "GzJGm7xGIrXz",
        "colab_type": "code",
        "colab": {}
      },
      "source": [
        "# データローダー\n",
        "train_loader_pin_memory = torch.utils.data.DataLoader(dataset1,batch_size=mini_batch_size, num_workers=0, pin_memory=True) \n",
        "test_loader_pin_memory = torch.utils.data.DataLoader(dataset2,batch_size=mini_batch_size, num_workers=0, pin_memory=True)"
      ],
      "execution_count": null,
      "outputs": []
    },
    {
      "cell_type": "code",
      "metadata": {
        "id": "9PkkyEUBIrX3",
        "colab_type": "code",
        "colab": {}
      },
      "source": [
        "MNIST_trainAMP(optimizer, model, device, train_loader_pin_memory, test_loader_pin_memory)"
      ],
      "execution_count": null,
      "outputs": []
    },
    {
      "cell_type": "code",
      "metadata": {
        "id": "t-33q7D8IrX6",
        "colab_type": "code",
        "colab": {}
      },
      "source": [
        "# "
      ],
      "execution_count": null,
      "outputs": []
    },
    {
      "cell_type": "code",
      "metadata": {
        "id": "rhNvVS3zIrX9",
        "colab_type": "code",
        "colab": {}
      },
      "source": [
        "# モデル、学習率とoptimizerを設定\n",
        "model = Net().to(device)\n",
        "lr_rate = 0.1\n",
        "optimizer = optim.Adadelta(model.parameters(), lr=lr_rate)"
      ],
      "execution_count": null,
      "outputs": []
    },
    {
      "cell_type": "code",
      "metadata": {
        "id": "ebFkV5xtIrX_",
        "colab_type": "code",
        "colab": {}
      },
      "source": [
        "from apex import amp, optimizers\n",
        "\n",
        "# Initialization\n",
        "opt_level = 'O2'\n",
        "model, optimizer = amp.initialize(model, optimizer, opt_level=opt_level)\n"
      ],
      "execution_count": null,
      "outputs": []
    },
    {
      "cell_type": "code",
      "metadata": {
        "id": "SZIeYfI7IrYA",
        "colab_type": "code",
        "colab": {}
      },
      "source": [
        "# データローダー\n",
        "train_loader_pin_memory = torch.utils.data.DataLoader(dataset1,batch_size=mini_batch_size, num_workers=0, pin_memory=True) \n",
        "test_loader_pin_memory = torch.utils.data.DataLoader(dataset2,batch_size=mini_batch_size, num_workers=0, pin_memory=True)"
      ],
      "execution_count": null,
      "outputs": []
    },
    {
      "cell_type": "code",
      "metadata": {
        "id": "5GNw9xyJIrYC",
        "colab_type": "code",
        "colab": {}
      },
      "source": [
        "MNIST_trainAMP(optimizer, model, device, train_loader_pin_memory, test_loader_pin_memory)"
      ],
      "execution_count": null,
      "outputs": []
    },
    {
      "cell_type": "code",
      "metadata": {
        "id": "KoLAKAemIrYD",
        "colab_type": "code",
        "colab": {}
      },
      "source": [
        "#"
      ],
      "execution_count": null,
      "outputs": []
    },
    {
      "cell_type": "code",
      "metadata": {
        "id": "rMsF4nD8IrYF",
        "colab_type": "code",
        "colab": {}
      },
      "source": [
        "# モデル、学習率とoptimizerを設定\n",
        "model = Net().to(device)\n",
        "lr_rate = 0.1\n",
        "optimizer = optim.Adadelta(model.parameters(), lr=lr_rate)"
      ],
      "execution_count": null,
      "outputs": []
    },
    {
      "cell_type": "code",
      "metadata": {
        "id": "h8d2SwN8IrYG",
        "colab_type": "code",
        "colab": {}
      },
      "source": [
        "from apex import amp, optimizers\n",
        "\n",
        "# Initialization\n",
        "opt_level = 'O3'\n",
        "model, optimizer = amp.initialize(model, optimizer, opt_level=opt_level)\n"
      ],
      "execution_count": null,
      "outputs": []
    },
    {
      "cell_type": "code",
      "metadata": {
        "id": "IZEwfEHdIrYJ",
        "colab_type": "code",
        "colab": {}
      },
      "source": [
        "# データローダー\n",
        "train_loader_pin_memory = torch.utils.data.DataLoader(dataset1,batch_size=mini_batch_size, num_workers=0, pin_memory=True) \n",
        "test_loader_pin_memory = torch.utils.data.DataLoader(dataset2,batch_size=mini_batch_size, num_workers=0, pin_memory=True)\n"
      ],
      "execution_count": null,
      "outputs": []
    },
    {
      "cell_type": "code",
      "metadata": {
        "id": "VIRPuXYZIrYL",
        "colab_type": "code",
        "colab": {}
      },
      "source": [
        "MNIST_trainAMP(optimizer, model, device, train_loader_pin_memory, test_loader_pin_memory)\n"
      ],
      "execution_count": null,
      "outputs": []
    },
    {
      "cell_type": "code",
      "metadata": {
        "id": "SomC0eSPIrYM",
        "colab_type": "code",
        "colab": {}
      },
      "source": [
        "#"
      ],
      "execution_count": null,
      "outputs": []
    },
    {
      "cell_type": "code",
      "metadata": {
        "id": "PMuYx_lBIrYP",
        "colab_type": "code",
        "colab": {}
      },
      "source": [
        "# モデル、学習率とoptimizerを設定\n",
        "model = Net().to(device)\n",
        "lr_rate = 0.1\n",
        "optimizer = optim.Adadelta(model.parameters(), lr=lr_rate)"
      ],
      "execution_count": null,
      "outputs": []
    },
    {
      "cell_type": "code",
      "metadata": {
        "id": "tvoHkXO0IrYR",
        "colab_type": "code",
        "colab": {}
      },
      "source": [
        "from apex import amp, optimizers\n",
        "\n",
        "# Initialization\n",
        "opt_level = 'O0'\n",
        "model, optimizer = amp.initialize(model, optimizer, opt_level=opt_level)\n"
      ],
      "execution_count": null,
      "outputs": []
    },
    {
      "cell_type": "code",
      "metadata": {
        "id": "f52cHe4hIrYT",
        "colab_type": "code",
        "colab": {}
      },
      "source": [
        "# データローダー\n",
        "train_loader_pin_memory = torch.utils.data.DataLoader(dataset1,batch_size=mini_batch_size, num_workers=0, pin_memory=True) \n",
        "test_loader_pin_memory = torch.utils.data.DataLoader(dataset2,batch_size=mini_batch_size, num_workers=0, pin_memory=True)\n"
      ],
      "execution_count": null,
      "outputs": []
    },
    {
      "cell_type": "code",
      "metadata": {
        "id": "fZkrS_fwIrYU",
        "colab_type": "code",
        "colab": {}
      },
      "source": [
        "MNIST_trainAMP(optimizer, model, device, train_loader_pin_memory, test_loader_pin_memory)\n"
      ],
      "execution_count": null,
      "outputs": []
    },
    {
      "cell_type": "code",
      "metadata": {
        "id": "h1qd9rtRIrYW",
        "colab_type": "code",
        "colab": {}
      },
      "source": [
        "#"
      ],
      "execution_count": null,
      "outputs": []
    },
    {
      "cell_type": "code",
      "metadata": {
        "id": "n9dQJ1mHIrYX",
        "colab_type": "code",
        "colab": {}
      },
      "source": [
        "# モデル、学習率とoptimizerを設定\n",
        "model = Net().to(device)\n",
        "lr_rate = 0.1\n",
        "optimizer = optim.Adadelta(model.parameters(), lr=lr_rate)"
      ],
      "execution_count": null,
      "outputs": []
    },
    {
      "cell_type": "code",
      "metadata": {
        "id": "tJ0AP9XXIrYa",
        "colab_type": "code",
        "colab": {}
      },
      "source": [
        "from apex import amp, optimizers\n",
        "\n",
        "# Initialization\n",
        "opt_level = 'O1'\n",
        "model, optimizer = amp.initialize(model, optimizer, opt_level=opt_level)\n"
      ],
      "execution_count": null,
      "outputs": []
    },
    {
      "cell_type": "code",
      "metadata": {
        "id": "5T-Nf1raIrYd",
        "colab_type": "code",
        "colab": {}
      },
      "source": [
        "# データローダー\n",
        "train_loader_pin_memory = torch.utils.data.DataLoader(dataset1,batch_size=mini_batch_size, num_workers=os.cpu_count(), pin_memory=True) \n",
        "test_loader_pin_memory = torch.utils.data.DataLoader(dataset2,batch_size=mini_batch_size, num_workers=os.cpu_count(), pin_memory=True)\n"
      ],
      "execution_count": null,
      "outputs": []
    },
    {
      "cell_type": "code",
      "metadata": {
        "id": "nc6wfUpXIrYf",
        "colab_type": "code",
        "colab": {}
      },
      "source": [
        "MNIST_trainAMP(optimizer, model, device, train_loader_pin_memory, test_loader_pin_memory)\n"
      ],
      "execution_count": null,
      "outputs": []
    },
    {
      "cell_type": "markdown",
      "metadata": {
        "id": "CTBvdtq_IrYh",
        "colab_type": "text"
      },
      "source": [
        "## APEX"
      ]
    },
    {
      "cell_type": "code",
      "metadata": {
        "id": "yR91CZ1hIrYi",
        "colab_type": "code",
        "colab": {}
      },
      "source": [
        "import apex\n",
        "\n",
        "# モデル、学習率とoptimizerを設定\n",
        "model = Net().to(device)\n",
        "lr_rate = 0.1\n",
        "optimizer = apex.optimizers.FusedSGD(model.parameters(), lr=lr_rate)"
      ],
      "execution_count": null,
      "outputs": []
    },
    {
      "cell_type": "code",
      "metadata": {
        "id": "XQq27gtGIrYm",
        "colab_type": "code",
        "colab": {}
      },
      "source": [
        "from apex import amp, optimizers\n",
        "\n",
        "# Initialization\n",
        "opt_level = 'O1'\n",
        "model, optimizer = amp.initialize(model, optimizer, opt_level=opt_level)\n"
      ],
      "execution_count": null,
      "outputs": []
    },
    {
      "cell_type": "code",
      "metadata": {
        "id": "8xQzdb4sIrYo",
        "colab_type": "code",
        "colab": {}
      },
      "source": [
        "# データローダー\n",
        "train_loader_pin_memory = torch.utils.data.DataLoader(dataset1,batch_size=mini_batch_size, num_workers=0, pin_memory=True) \n",
        "test_loader_pin_memory = torch.utils.data.DataLoader(dataset2,batch_size=mini_batch_size, num_workers=0, pin_memory=True)\n"
      ],
      "execution_count": null,
      "outputs": []
    },
    {
      "cell_type": "code",
      "metadata": {
        "id": "PSY8NHNeIrYs",
        "colab_type": "code",
        "colab": {}
      },
      "source": [
        "MNIST_trainAMP(optimizer, model, device, train_loader_pin_memory, test_loader_pin_memory)\n"
      ],
      "execution_count": null,
      "outputs": []
    },
    {
      "cell_type": "code",
      "metadata": {
        "id": "LDTDX0v1IrYu",
        "colab_type": "code",
        "colab": {}
      },
      "source": [
        "#"
      ],
      "execution_count": null,
      "outputs": []
    },
    {
      "cell_type": "code",
      "metadata": {
        "id": "NFE7rqr7IrYx",
        "colab_type": "code",
        "colab": {}
      },
      "source": [
        "import apex\n",
        "\n",
        "# モデル、学習率とoptimizerを設定\n",
        "model = Net().to(device)\n",
        "lr_rate = 0.1\n",
        "optimizer = apex.optimizers.FusedLAMB(model.parameters(), lr=lr_rate)\n"
      ],
      "execution_count": null,
      "outputs": []
    },
    {
      "cell_type": "code",
      "metadata": {
        "id": "00tpsOxrIrYz",
        "colab_type": "code",
        "colab": {}
      },
      "source": [
        "from apex import amp, optimizers\n",
        "\n",
        "# Initialization\n",
        "opt_level = 'O1'\n",
        "model, optimizer = amp.initialize(model, optimizer, opt_level=opt_level)\n"
      ],
      "execution_count": null,
      "outputs": []
    },
    {
      "cell_type": "code",
      "metadata": {
        "id": "ORbWMoScIrY0",
        "colab_type": "code",
        "colab": {}
      },
      "source": [
        "# データローダー\n",
        "train_loader_pin_memory = torch.utils.data.DataLoader(dataset1,batch_size=mini_batch_size, num_workers=0, pin_memory=True) \n",
        "test_loader_pin_memory = torch.utils.data.DataLoader(dataset2,batch_size=mini_batch_size, num_workers=0, pin_memory=True)\n"
      ],
      "execution_count": null,
      "outputs": []
    },
    {
      "cell_type": "code",
      "metadata": {
        "id": "1wIWge3XIrY1",
        "colab_type": "code",
        "colab": {}
      },
      "source": [
        "MNIST_trainAMP(optimizer, model, device, train_loader_pin_memory, test_loader_pin_memory)\n"
      ],
      "execution_count": null,
      "outputs": []
    },
    {
      "cell_type": "code",
      "metadata": {
        "id": "2j5eL6-gIrY2",
        "colab_type": "code",
        "colab": {}
      },
      "source": [
        "#"
      ],
      "execution_count": null,
      "outputs": []
    },
    {
      "cell_type": "code",
      "metadata": {
        "id": "Fwj6rT0PIrY5",
        "colab_type": "code",
        "colab": {}
      },
      "source": [
        "# モデル、学習率とoptimizerを設定\n",
        "model = Net().to(device)\n",
        "lr_rate = 0.1\n",
        "optimizer = apex.optimizers.FusedSGD(model.parameters(), lr=lr_rate)"
      ],
      "execution_count": null,
      "outputs": []
    },
    {
      "cell_type": "code",
      "metadata": {
        "id": "vIYiRx5SIrY7",
        "colab_type": "code",
        "colab": {}
      },
      "source": [
        "from apex import amp, optimizers\n",
        "\n",
        "# Initialization\n",
        "opt_level = 'O1'\n",
        "model, optimizer = amp.initialize(model, optimizer, opt_level=opt_level)\n"
      ],
      "execution_count": null,
      "outputs": []
    },
    {
      "cell_type": "code",
      "metadata": {
        "id": "CrVArOeVIrY9",
        "colab_type": "code",
        "colab": {}
      },
      "source": [
        "# データローダー\n",
        "train_loader_pin_memory = torch.utils.data.DataLoader(dataset1,batch_size=mini_batch_size, num_workers=os.cpu_count(), pin_memory=True) \n",
        "test_loader_pin_memory = torch.utils.data.DataLoader(dataset2,batch_size=mini_batch_size, num_workers=os.cpu_count(), pin_memory=True)"
      ],
      "execution_count": null,
      "outputs": []
    },
    {
      "cell_type": "code",
      "metadata": {
        "id": "vVuyl5xNIrY_",
        "colab_type": "code",
        "colab": {}
      },
      "source": [
        "MNIST_trainAMP(optimizer, model, device, train_loader_pin_memory, test_loader_pin_memory)\n"
      ],
      "execution_count": null,
      "outputs": []
    },
    {
      "cell_type": "markdown",
      "metadata": {
        "id": "8J_wrc8SIrZA",
        "colab_type": "text"
      },
      "source": [
        "以上\n"
      ]
    }
  ]
}